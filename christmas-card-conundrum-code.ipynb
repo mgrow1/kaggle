{
 "cells": [
  {
   "cell_type": "markdown",
   "id": "51b76d8d",
   "metadata": {
    "papermill": {
     "duration": 0.013981,
     "end_time": "2022-12-14T22:33:39.260192",
     "exception": false,
     "start_time": "2022-12-14T22:33:39.246211",
     "status": "completed"
    },
    "tags": []
   },
   "source": [
    "# Welcome to *The Christmas Card Conundrum*! #\n",
    "\n",
    "Each year Kaggle hosts a special Santa-themed optimization challenge. This year you're challenged to optimize the path of a robotic arm over the points of an image, minimizing both the movement of the arm and the change in color from step to step.\n",
    "\n",
    "This notebook introduces the problem and defines a number of convenience functions you might find useful. We also look at the problem's \"configuration space\", which might provide a more natural setting for optimization. Finally, we create a simple baseline submission."
   ]
  },
  {
   "cell_type": "code",
   "execution_count": 1,
   "id": "a4fb39c5",
   "metadata": {
    "_kg_hide-input": true,
    "execution": {
     "iopub.execute_input": "2022-12-14T22:33:39.287373Z",
     "iopub.status.busy": "2022-12-14T22:33:39.286551Z",
     "iopub.status.idle": "2022-12-14T22:33:39.299513Z",
     "shell.execute_reply": "2022-12-14T22:33:39.298259Z"
    },
    "papermill": {
     "duration": 0.031423,
     "end_time": "2022-12-14T22:33:39.303355",
     "exception": false,
     "start_time": "2022-12-14T22:33:39.271932",
     "status": "completed"
    },
    "tags": []
   },
   "outputs": [],
   "source": [
    "import matplotlib.pyplot as plt\n",
    "import matplotlib.ticker as ticker\n",
    "import numpy as np\n",
    "import pandas as pd\n",
    "from functools import *\n",
    "from itertools import *\n",
    "from pathlib import Path\n",
    "from PIL import Image\n",
    "\n",
    "plt.style.use('seaborn-whitegrid')\n",
    "\n",
    "data_dir = Path('/kaggle/input/santa-2022')"
   ]
  },
  {
   "cell_type": "markdown",
   "id": "1742198c",
   "metadata": {
    "papermill": {
     "duration": 0.01433,
     "end_time": "2022-12-14T22:33:39.333867",
     "exception": false,
     "start_time": "2022-12-14T22:33:39.319537",
     "status": "completed"
    },
    "tags": []
   },
   "source": [
    "# The Image #\n",
    "\n",
    "The `image.csv` file contains the canonical color values for the image as well as their respective Cartesian coordinates. (Instead of array indicies, we use Cartesian coordinates to refer to points in the image, with the center of the image at `(0, 0)`.) This file is what you should use when computing the score for your solution. It's the same file that the official scoring function uses."
   ]
  },
  {
   "cell_type": "code",
   "execution_count": 2,
   "id": "1b5c3921",
   "metadata": {
    "execution": {
     "iopub.execute_input": "2022-12-14T22:33:39.372614Z",
     "iopub.status.busy": "2022-12-14T22:33:39.371997Z",
     "iopub.status.idle": "2022-12-14T22:33:39.534005Z",
     "shell.execute_reply": "2022-12-14T22:33:39.532625Z"
    },
    "papermill": {
     "duration": 0.187379,
     "end_time": "2022-12-14T22:33:39.537403",
     "exception": false,
     "start_time": "2022-12-14T22:33:39.350024",
     "status": "completed"
    },
    "tags": []
   },
   "outputs": [
    {
     "data": {
      "text/html": [
       "<div>\n",
       "<style scoped>\n",
       "    .dataframe tbody tr th:only-of-type {\n",
       "        vertical-align: middle;\n",
       "    }\n",
       "\n",
       "    .dataframe tbody tr th {\n",
       "        vertical-align: top;\n",
       "    }\n",
       "\n",
       "    .dataframe thead th {\n",
       "        text-align: right;\n",
       "    }\n",
       "</style>\n",
       "<table border=\"1\" class=\"dataframe\">\n",
       "  <thead>\n",
       "    <tr style=\"text-align: right;\">\n",
       "      <th></th>\n",
       "      <th>x</th>\n",
       "      <th>y</th>\n",
       "      <th>r</th>\n",
       "      <th>g</th>\n",
       "      <th>b</th>\n",
       "    </tr>\n",
       "  </thead>\n",
       "  <tbody>\n",
       "    <tr>\n",
       "      <th>0</th>\n",
       "      <td>-128</td>\n",
       "      <td>128</td>\n",
       "      <td>0.600000</td>\n",
       "      <td>0.619608</td>\n",
       "      <td>0.654902</td>\n",
       "    </tr>\n",
       "    <tr>\n",
       "      <th>1</th>\n",
       "      <td>-127</td>\n",
       "      <td>128</td>\n",
       "      <td>0.717647</td>\n",
       "      <td>0.741176</td>\n",
       "      <td>0.792157</td>\n",
       "    </tr>\n",
       "    <tr>\n",
       "      <th>2</th>\n",
       "      <td>-126</td>\n",
       "      <td>128</td>\n",
       "      <td>0.709804</td>\n",
       "      <td>0.733333</td>\n",
       "      <td>0.780392</td>\n",
       "    </tr>\n",
       "    <tr>\n",
       "      <th>3</th>\n",
       "      <td>-125</td>\n",
       "      <td>128</td>\n",
       "      <td>0.709804</td>\n",
       "      <td>0.733333</td>\n",
       "      <td>0.780392</td>\n",
       "    </tr>\n",
       "    <tr>\n",
       "      <th>4</th>\n",
       "      <td>-124</td>\n",
       "      <td>128</td>\n",
       "      <td>0.709804</td>\n",
       "      <td>0.737255</td>\n",
       "      <td>0.784314</td>\n",
       "    </tr>\n",
       "    <tr>\n",
       "      <th>...</th>\n",
       "      <td>...</td>\n",
       "      <td>...</td>\n",
       "      <td>...</td>\n",
       "      <td>...</td>\n",
       "      <td>...</td>\n",
       "    </tr>\n",
       "    <tr>\n",
       "      <th>66044</th>\n",
       "      <td>124</td>\n",
       "      <td>-128</td>\n",
       "      <td>0.427451</td>\n",
       "      <td>0.596078</td>\n",
       "      <td>0.870588</td>\n",
       "    </tr>\n",
       "    <tr>\n",
       "      <th>66045</th>\n",
       "      <td>125</td>\n",
       "      <td>-128</td>\n",
       "      <td>0.427451</td>\n",
       "      <td>0.596078</td>\n",
       "      <td>0.870588</td>\n",
       "    </tr>\n",
       "    <tr>\n",
       "      <th>66046</th>\n",
       "      <td>126</td>\n",
       "      <td>-128</td>\n",
       "      <td>0.427451</td>\n",
       "      <td>0.596078</td>\n",
       "      <td>0.870588</td>\n",
       "    </tr>\n",
       "    <tr>\n",
       "      <th>66047</th>\n",
       "      <td>127</td>\n",
       "      <td>-128</td>\n",
       "      <td>0.427451</td>\n",
       "      <td>0.600000</td>\n",
       "      <td>0.878431</td>\n",
       "    </tr>\n",
       "    <tr>\n",
       "      <th>66048</th>\n",
       "      <td>128</td>\n",
       "      <td>-128</td>\n",
       "      <td>0.411765</td>\n",
       "      <td>0.545098</td>\n",
       "      <td>0.764706</td>\n",
       "    </tr>\n",
       "  </tbody>\n",
       "</table>\n",
       "<p>66049 rows × 5 columns</p>\n",
       "</div>"
      ],
      "text/plain": [
       "         x    y         r         g         b\n",
       "0     -128  128  0.600000  0.619608  0.654902\n",
       "1     -127  128  0.717647  0.741176  0.792157\n",
       "2     -126  128  0.709804  0.733333  0.780392\n",
       "3     -125  128  0.709804  0.733333  0.780392\n",
       "4     -124  128  0.709804  0.737255  0.784314\n",
       "...    ...  ...       ...       ...       ...\n",
       "66044  124 -128  0.427451  0.596078  0.870588\n",
       "66045  125 -128  0.427451  0.596078  0.870588\n",
       "66046  126 -128  0.427451  0.596078  0.870588\n",
       "66047  127 -128  0.427451  0.600000  0.878431\n",
       "66048  128 -128  0.411765  0.545098  0.764706\n",
       "\n",
       "[66049 rows x 5 columns]"
      ]
     },
     "execution_count": 2,
     "metadata": {},
     "output_type": "execute_result"
    }
   ],
   "source": [
    "df_image = pd.read_csv(data_dir / 'image.csv')\n",
    "\n",
    "df_image"
   ]
  },
  {
   "cell_type": "markdown",
   "id": "f9373555",
   "metadata": {
    "papermill": {
     "duration": 0.012667,
     "end_time": "2022-12-14T22:33:39.562124",
     "exception": false,
     "start_time": "2022-12-14T22:33:39.549457",
     "status": "completed"
    },
    "tags": []
   },
   "source": [
    "Here we'll define some convenience functions to transform the image between various formats and then transform the dataframe into a numpy array."
   ]
  },
  {
   "cell_type": "code",
   "execution_count": 3,
   "id": "f0ae8260",
   "metadata": {
    "execution": {
     "iopub.execute_input": "2022-12-14T22:33:39.588689Z",
     "iopub.status.busy": "2022-12-14T22:33:39.588218Z",
     "iopub.status.idle": "2022-12-14T22:33:39.603791Z",
     "shell.execute_reply": "2022-12-14T22:33:39.602368Z"
    },
    "papermill": {
     "duration": 0.031085,
     "end_time": "2022-12-14T22:33:39.606427",
     "exception": false,
     "start_time": "2022-12-14T22:33:39.575342",
     "status": "completed"
    },
    "tags": []
   },
   "outputs": [],
   "source": [
    "# Functions to map between cartesian coordinates and array indexes\n",
    "def cartesian_to_array(x, y, shape):\n",
    "    m, n = shape[:2]\n",
    "    i = (n - 1) // 2 - y\n",
    "    j = (n - 1) // 2 + x\n",
    "    if i < 0 or i >= m or j < 0 or j >= n:\n",
    "        raise ValueError(\"Coordinates not within given dimensions.\")\n",
    "    return i, j\n",
    "\n",
    "\n",
    "def array_to_cartesian(i, j, shape):\n",
    "    m, n = shape[:2]\n",
    "    if i < 0 or i >= m or j < 0 or j >= n:\n",
    "        raise ValueError(\"Coordinates not within given dimensions.\")\n",
    "    y = (n - 1) // 2 - i\n",
    "    x = j - (n - 1) // 2\n",
    "    return x, y\n",
    "\n",
    "\n",
    "point = (1, 8)\n",
    "shape = (9, 9, 3)\n",
    "assert cartesian_to_array(*array_to_cartesian(*point, shape), shape) == point\n",
    "\n",
    "\n",
    "# Functions to map an image between array and record formats\n",
    "def image_to_dict(image):\n",
    "    image = np.atleast_3d(image)\n",
    "    kv_image = {}\n",
    "    for i, j in product(range(len(image)), repeat=2):\n",
    "        kv_image[array_to_cartesian(i, j, image.shape)] = tuple(image[i, j])\n",
    "    return kv_image\n",
    "\n",
    "\n",
    "def image_to_df(image):\n",
    "    return pd.DataFrame(\n",
    "        [(x, y, r, g, b) for (x, y), (r, g, b) in image_to_dict(image).items()],\n",
    "        columns=['x', 'y', 'r', 'g', 'b']\n",
    "    )\n",
    "\n",
    "\n",
    "def df_to_image(df):\n",
    "    side = int(len(df) ** 0.5)  # assumes a square image\n",
    "    return df_image.set_index(['x', 'y']).to_numpy().reshape(side, side, -1)"
   ]
  },
  {
   "cell_type": "code",
   "execution_count": 4,
   "id": "9605a029",
   "metadata": {
    "execution": {
     "iopub.execute_input": "2022-12-14T22:33:39.631310Z",
     "iopub.status.busy": "2022-12-14T22:33:39.630887Z",
     "iopub.status.idle": "2022-12-14T22:33:39.938805Z",
     "shell.execute_reply": "2022-12-14T22:33:39.937487Z"
    },
    "papermill": {
     "duration": 0.324309,
     "end_time": "2022-12-14T22:33:39.942164",
     "exception": false,
     "start_time": "2022-12-14T22:33:39.617855",
     "status": "completed"
    },
    "tags": []
   },
   "outputs": [],
   "source": [
    "image = df_to_image(df_image)\n",
    "assert image_to_df(image).equals(df_image)  # ensure transforms are inverses\n",
    "\n",
    "#radius = 128\n",
    "#fig, ax = plt.subplots(figsize=(10, 10))\n",
    "#ax.matshow(image, extent=(-radius, radius+1, -radius, radius+1))\n",
    "#ax.grid(None);"
   ]
  },
  {
   "cell_type": "markdown",
   "id": "0efa076d",
   "metadata": {
    "papermill": {
     "duration": 0.011025,
     "end_time": "2022-12-14T22:33:39.965341",
     "exception": false,
     "start_time": "2022-12-14T22:33:39.954316",
     "status": "completed"
    },
    "tags": []
   },
   "source": [
    "# The Robotic Arm #\n",
    "\n",
    "The robotic arm has eight links of length 64, 32, 16, 8, 4, 2, 1, and 1 connected at joints like so:"
   ]
  },
  {
   "cell_type": "markdown",
   "id": "fd890777",
   "metadata": {
    "papermill": {
     "duration": 0.012525,
     "end_time": "2022-12-14T22:33:39.990314",
     "exception": false,
     "start_time": "2022-12-14T22:33:39.977789",
     "status": "completed"
    },
    "tags": []
   },
   "source": [
    "We describe the **configuration** of the arm by giving the displacement vector of each link oriented at its joint. The first link (the longest one) is oriented at the point $(0, 0)$, so we can get the **position** of the arm by summing up the displacement vectors.\n",
    "\n",
    "Here's an example with a four-link arm."
   ]
  },
  {
   "cell_type": "code",
   "execution_count": 5,
   "id": "720c8df9",
   "metadata": {
    "collapsed": false,
    "execution": {
     "iopub.execute_input": "2022-12-14T22:33:40.015956Z",
     "iopub.status.busy": "2022-12-14T22:33:40.015532Z",
     "iopub.status.idle": "2022-12-14T22:33:40.022714Z",
     "shell.execute_reply": "2022-12-14T22:33:40.020981Z"
    },
    "jupyter": {
     "outputs_hidden": false
    },
    "papermill": {
     "duration": 0.02324,
     "end_time": "2022-12-14T22:33:40.026091",
     "exception": false,
     "start_time": "2022-12-14T22:33:40.002851",
     "status": "completed"
    },
    "tags": []
   },
   "outputs": [],
   "source": [
    "def get_position(config):\n",
    "    return reduce(lambda p, q: (p[0] + q[0], p[1] + q[1]), config, (0, 0))"
   ]
  },
  {
   "cell_type": "markdown",
   "id": "702c7146",
   "metadata": {
    "papermill": {
     "duration": 0.011115,
     "end_time": "2022-12-14T22:33:40.048916",
     "exception": false,
     "start_time": "2022-12-14T22:33:40.037801",
     "status": "completed"
    },
    "tags": []
   },
   "source": [
    "A link of length $l$ with displacement vector $(x, y)$ must satisfy the condition $\\max\\left(\\mid x \\mid, \\mid y \\mid\\right)=l$. (This condition essentially defines what it means for a link to have length $l$.) The links, in other words, travel around the perimeter of a square with sides of length $2l$."
   ]
  },
  {
   "cell_type": "code",
   "execution_count": 6,
   "id": "26e353f1",
   "metadata": {
    "collapsed": false,
    "execution": {
     "iopub.execute_input": "2022-12-14T22:33:40.073746Z",
     "iopub.status.busy": "2022-12-14T22:33:40.073308Z",
     "iopub.status.idle": "2022-12-14T22:33:40.084866Z",
     "shell.execute_reply": "2022-12-14T22:33:40.083795Z"
    },
    "jupyter": {
     "outputs_hidden": false
    },
    "papermill": {
     "duration": 0.027563,
     "end_time": "2022-12-14T22:33:40.087843",
     "exception": false,
     "start_time": "2022-12-14T22:33:40.060280",
     "status": "completed"
    },
    "tags": []
   },
   "outputs": [],
   "source": [
    "def rotate_link(vector, direction):\n",
    "    x, y = vector\n",
    "    if direction == 1:  # counter-clockwise\n",
    "        if y >= x and y > -x:\n",
    "            x -= 1\n",
    "        elif y > x and y <= -x:\n",
    "            y -= 1\n",
    "        elif y <= x and y < -x:\n",
    "            x += 1\n",
    "        else:\n",
    "            y += 1\n",
    "    elif direction == -1:  # clockwise\n",
    "        if y > x and y >= -x:\n",
    "            x += 1\n",
    "        elif y >= x and y < -x:\n",
    "            y += 1\n",
    "        elif y < x and y <= -x:\n",
    "            x -= 1\n",
    "        else:\n",
    "            y -= 1\n",
    "    return (x, y)\n",
    "\n",
    "\n",
    "def rotate(config, i, direction):\n",
    "    config = config.copy()\n",
    "    config[i] = rotate_link(config[i], direction)\n",
    "    return config\n",
    "\n",
    "\n",
    "def get_square(link_length):\n",
    "    link = (link_length, 0)\n",
    "    coords = [link]\n",
    "    for _ in range(8 * link_length - 1):\n",
    "        link = rotate_link(link, direction=1)\n",
    "        coords.append(link)\n",
    "    return coords"
   ]
  },
  {
   "cell_type": "markdown",
   "id": "fcde5b9c",
   "metadata": {
    "papermill": {
     "duration": 0.011267,
     "end_time": "2022-12-14T22:33:40.110892",
     "exception": false,
     "start_time": "2022-12-14T22:33:40.099625",
     "status": "completed"
    },
    "tags": []
   },
   "source": [
    "In addition, the vectors must be integer valued, so there are $8l$ possible values for a vector of length $l$."
   ]
  },
  {
   "cell_type": "markdown",
   "id": "ff783833",
   "metadata": {
    "papermill": {
     "duration": 0.011165,
     "end_time": "2022-12-14T22:33:40.133672",
     "exception": false,
     "start_time": "2022-12-14T22:33:40.122507",
     "status": "completed"
    },
    "tags": []
   },
   "source": [
    "The design of the arm allows it to reach any position within a $(2L + 1) \\times (2L + 1)$ image, where $L$ is the total length of the arm (the sum of the link lengths). The 8-link arm has a length of 128, so it can reach any position in a $257 \\times 257$ image."
   ]
  },
  {
   "cell_type": "markdown",
   "id": "f593c5b6",
   "metadata": {
    "papermill": {
     "duration": 0.01256,
     "end_time": "2022-12-14T22:33:40.158236",
     "exception": false,
     "start_time": "2022-12-14T22:33:40.145676",
     "status": "completed"
    },
    "tags": []
   },
   "source": [
    "### Changing the Configuration ###"
   ]
  },
  {
   "cell_type": "markdown",
   "id": "26e5aff4",
   "metadata": {
    "papermill": {
     "duration": 0.011896,
     "end_time": "2022-12-14T22:33:40.183503",
     "exception": false,
     "start_time": "2022-12-14T22:33:40.171607",
     "status": "completed"
    },
    "tags": []
   },
   "source": [
    "We can move the position of the arm over the image by changing its configuration step-by-step. At each step, we may rotate each link of the arm either counter-clockwise or clockwise (or keep it the same). The **neighbors** of a configuration are those configurations that can be reached from it in a single step."
   ]
  },
  {
   "cell_type": "code",
   "execution_count": 7,
   "id": "99ae2637",
   "metadata": {
    "collapsed": false,
    "execution": {
     "iopub.execute_input": "2022-12-14T22:33:40.209144Z",
     "iopub.status.busy": "2022-12-14T22:33:40.208746Z",
     "iopub.status.idle": "2022-12-14T22:33:40.215874Z",
     "shell.execute_reply": "2022-12-14T22:33:40.214484Z"
    },
    "jupyter": {
     "outputs_hidden": false
    },
    "papermill": {
     "duration": 0.022586,
     "end_time": "2022-12-14T22:33:40.218421",
     "exception": false,
     "start_time": "2022-12-14T22:33:40.195835",
     "status": "completed"
    },
    "tags": []
   },
   "outputs": [],
   "source": [
    "def get_neighbors(config):\n",
    "    nhbrs = (\n",
    "        reduce(lambda x, y: rotate(x, *y), enumerate(directions), config)\n",
    "        for directions in product((-1, 0, 1), repeat=len(config))\n",
    "    )\n",
    "    return list(filter(lambda c: c != config, nhbrs))"
   ]
  },
  {
   "cell_type": "markdown",
   "id": "09781656",
   "metadata": {
    "papermill": {
     "duration": 0.010828,
     "end_time": "2022-12-14T22:33:40.240806",
     "exception": false,
     "start_time": "2022-12-14T22:33:40.229978",
     "status": "completed"
    },
    "tags": []
   },
   "source": [
    "Note that there will typically be many more neighboring *configurations* (lists of vectors) than neighboring *positions* (points in the image, the sum of the vectors), since each position can typically be reached by many configurations.\n",
    "\n",
    "In the figure above, the starting configuration is positioned at the red point. It can reach any of the other indicated positions in a single step (though at varying costs, as we will see)."
   ]
  },
  {
   "cell_type": "markdown",
   "id": "ff533935",
   "metadata": {
    "papermill": {
     "duration": 0.014318,
     "end_time": "2022-12-14T22:33:40.266999",
     "exception": false,
     "start_time": "2022-12-14T22:33:40.252681",
     "status": "completed"
    },
    "tags": []
   },
   "source": [
    "# The Cost Function #\n",
    "\n",
    "The goal of the competition is to create a sequence of configurations reaching every point in the image while minimizing both a *reconfiguration cost* and a *color cost*. The starting configuration must be `[(64, 0), (-32, 0), (-16, 0), (-8, 0), (-4, 0), (-2, 0), (-1, 0), (-1, 0)]`, which is positioned at the point `(0, 0)` in the image.\n",
    "\n",
    "The **reconfiguration cost** at each step is the square root of the number of links rotated at that step, while the **color cost** is the sum of the absolute change in the color components from the previous step's position to the current position multiplied by a scaling constant. The total cost at each step is the sum of the reconfiguration cost and the color cost."
   ]
  },
  {
   "cell_type": "code",
   "execution_count": 8,
   "id": "f12f4ae4",
   "metadata": {
    "collapsed": false,
    "execution": {
     "iopub.execute_input": "2022-12-14T22:33:40.294364Z",
     "iopub.status.busy": "2022-12-14T22:33:40.293962Z",
     "iopub.status.idle": "2022-12-14T22:33:40.302449Z",
     "shell.execute_reply": "2022-12-14T22:33:40.301370Z"
    },
    "jupyter": {
     "outputs_hidden": false
    },
    "papermill": {
     "duration": 0.024668,
     "end_time": "2022-12-14T22:33:40.304956",
     "exception": false,
     "start_time": "2022-12-14T22:33:40.280288",
     "status": "completed"
    },
    "tags": []
   },
   "outputs": [],
   "source": [
    "# Functions to compute the cost function\n",
    "\n",
    "# Cost of reconfiguring the robotic arm: the square root of the number of links rotated\n",
    "def reconfiguration_cost(from_config, to_config):\n",
    "    nlinks = len(from_config)\n",
    "    diffs = np.abs(np.asarray(from_config) - np.asarray(to_config)).sum(axis=1)\n",
    "    return np.sqrt(diffs.sum())\n",
    "\n",
    "\n",
    "# Cost of moving from one color to another: the sum of the absolute change in color components\n",
    "def color_cost(from_position, to_position, image, color_scale=3.0):\n",
    "    return np.abs(image[to_position] - image[from_position]).sum() * color_scale\n",
    "\n",
    "\n",
    "# Total cost of one step: the reconfiguration cost plus the color cost\n",
    "def step_cost(from_config, to_config, image):\n",
    "    from_position = cartesian_to_array(*get_position(from_config), image.shape)\n",
    "    to_position = cartesian_to_array(*get_position(to_config), image.shape)\n",
    "    return (\n",
    "        reconfiguration_cost(from_config, to_config) +\n",
    "        color_cost(from_position, to_position, image)\n",
    "    )"
   ]
  },
  {
   "cell_type": "markdown",
   "id": "9383443b",
   "metadata": {
    "papermill": {
     "duration": 0.011331,
     "end_time": "2022-12-14T22:33:40.328592",
     "exception": false,
     "start_time": "2022-12-14T22:33:40.317261",
     "status": "completed"
    },
    "tags": []
   },
   "source": [
    "We'll see some examples of computing the cost of a path below."
   ]
  },
  {
   "cell_type": "markdown",
   "id": "dc4e378c",
   "metadata": {
    "papermill": {
     "duration": 0.011217,
     "end_time": "2022-12-14T22:33:40.351140",
     "exception": false,
     "start_time": "2022-12-14T22:33:40.339923",
     "status": "completed"
    },
    "tags": []
   },
   "source": [
    "# The Configuration Space #\n",
    "\n",
    "We can take an alternative view of the optimization problem to make it similar to a traditional Traveling Salesman Problem.\n",
    "\n",
    "In a single step, any of the links in the arm can transition to either of two states by a counter-clockwise rotation or a clockwise rotation. Laying out the transitions for each link along perpendicular axes, we form the **configuration space** of the arm. In general, an arm with $N$ links will create a configuration space with $N$ dimensions. Each unique configuration will occupy a point in a lattice (or grid) in this space. Filling in this lattice gives us a *cubical complex*, a bunch of cubes pasted together on their faces."
   ]
  },
  {
   "cell_type": "markdown",
   "id": "7b99127e",
   "metadata": {
    "papermill": {
     "duration": 0.01144,
     "end_time": "2022-12-14T22:33:40.374031",
     "exception": false,
     "start_time": "2022-12-14T22:33:40.362591",
     "status": "completed"
    },
    "tags": []
   },
   "source": [
    "A movement in the positive direction (right/up) indicates a counter-clockwise rotation, while a movement in the negative direction (left/down) indicates a clockwise rotation. Moving across the *diagonal* of a square means a rotation of both links in a single step. The reconfiguration cost is simply the ordinary Euclidean distance in this space: $1$ for a step across the edge of a square, $\\sqrt{2}$ for a step across a diagonal. So we could think about the Santa optimization problem as being like a shortest path problem in the configuration space. (Note however that we don't need to visit *every* point in the configuration space, just some set of points corresponding to unique positions in the image.)\n"
   ]
  },
  {
   "cell_type": "markdown",
   "id": "304c0b68",
   "metadata": {
    "papermill": {
     "duration": 0.011959,
     "end_time": "2022-12-14T22:33:40.397839",
     "exception": false,
     "start_time": "2022-12-14T22:33:40.385880",
     "status": "completed"
    },
    "tags": []
   },
   "source": [
    "For more on configuration spaces, you might enjoy this article: [Ghrist, R., & Peterson, V. (2007). The geometry and topology of reconfiguration.](https://scholar.google.com/scholar?cluster=7705042403448786239&hl=en&as_sdt=0,37)."
   ]
  },
  {
   "cell_type": "markdown",
   "id": "b8df6779",
   "metadata": {
    "papermill": {
     "duration": 0.011697,
     "end_time": "2022-12-14T22:33:40.421480",
     "exception": false,
     "start_time": "2022-12-14T22:33:40.409783",
     "status": "completed"
    },
    "tags": []
   },
   "source": [
    "# A Simple Solution #\n",
    "\n",
    "Now let's use what we know to create a simple solution to this problem. Our stategy will be to write a function that can create a sequence of configurations with a given initial configuration that terminates at a desired position."
   ]
  },
  {
   "cell_type": "code",
   "execution_count": 9,
   "id": "ef335fc6",
   "metadata": {
    "collapsed": false,
    "execution": {
     "iopub.execute_input": "2022-12-14T22:33:40.447044Z",
     "iopub.status.busy": "2022-12-14T22:33:40.446449Z",
     "iopub.status.idle": "2022-12-14T22:33:40.462791Z",
     "shell.execute_reply": "2022-12-14T22:33:40.461670Z"
    },
    "jupyter": {
     "outputs_hidden": false
    },
    "papermill": {
     "duration": 0.032176,
     "end_time": "2022-12-14T22:33:40.465528",
     "exception": false,
     "start_time": "2022-12-14T22:33:40.433352",
     "status": "completed"
    },
    "tags": []
   },
   "outputs": [],
   "source": [
    "def get_direction(u, v):\n",
    "    \"\"\"Returns the sign of the angle from u to v.\"\"\"\n",
    "    direction = np.sign(np.cross(u, v))\n",
    "    if direction == 0 and np.dot(u, v) < 0:\n",
    "        direction = 1\n",
    "    return direction\n",
    "\n",
    "\n",
    "# We don't use this elsewhere, but you might find it useful.\"\"\"\n",
    "def get_angle(u, v):\n",
    "    \"\"\"Returns the angle (in degrees) from u to v.\"\"\"\n",
    "    return np.degrees(np.math.atan2(\n",
    "        np.cross(u, v),\n",
    "        np.dot(u, v),\n",
    "    ))\n",
    "\n",
    "\n",
    "def get_path_to_point(config, point):\n",
    "    \"\"\"Find a path of configurations to `point` starting at `config`.\"\"\"\n",
    "    path = [config]\n",
    "    # Rotate each link, starting with the largest, until the point can\n",
    "    # be reached by the remaining links. The last link must reach the\n",
    "    # point itself.\n",
    "    for i in range(len(config)):\n",
    "        link = config[i]\n",
    "        base = get_position(config[:i])\n",
    "        relbase = (point[0] - base[0], point[1] - base[1])\n",
    "        position = get_position(config[:i+1])\n",
    "        relpos = (point[0] - position[0], point[1] - position[1])\n",
    "        radius = reduce(lambda r, link: r + max(abs(link[0]), abs(link[1])), config[i+1:], 0)\n",
    "        # Special case when next-to-last link lands on point.\n",
    "        if radius == 1 and relpos == (0, 0):\n",
    "            config = rotate(config, i, 1)\n",
    "            if get_position(config) == point:  # Thanks @pgeiger\n",
    "                path.append(config)\n",
    "                break\n",
    "            else:\n",
    "                continue\n",
    "        while np.max(np.abs(relpos)) > radius:\n",
    "            direction = get_direction(link, relbase)\n",
    "            config = rotate(config, i, direction)\n",
    "            path.append(config)\n",
    "            link = config[i]\n",
    "            base = get_position(config[:i])\n",
    "            relbase = (point[0] - base[0], point[1] - base[1])\n",
    "            position = get_position(config[:i+1])\n",
    "            relpos = (point[0] - position[0], point[1] - position[1])\n",
    "            radius = reduce(lambda r, link: r + max(abs(link[0]), abs(link[1])), config[i+1:], 0)\n",
    "    assert get_position(path[-1]) == point\n",
    "    return path"
   ]
  },
  {
   "cell_type": "markdown",
   "id": "4841c64c",
   "metadata": {
    "papermill": {
     "duration": 0.011266,
     "end_time": "2022-12-14T22:33:40.489118",
     "exception": false,
     "start_time": "2022-12-14T22:33:40.477852",
     "status": "completed"
    },
    "tags": []
   },
   "source": [
    "The `get_path_to_point` function only rotates a single link per step and doesn't account for the color cost at all, so it isn't very efficient. You can likely come up with something much better!"
   ]
  },
  {
   "cell_type": "markdown",
   "id": "62c6323a",
   "metadata": {
    "papermill": {
     "duration": 0.012306,
     "end_time": "2022-12-14T22:33:40.513659",
     "exception": false,
     "start_time": "2022-12-14T22:33:40.501353",
     "status": "completed"
    },
    "tags": []
   },
   "source": [
    "Let's also write a function that will transition from one configuration to another."
   ]
  },
  {
   "cell_type": "code",
   "execution_count": 10,
   "id": "60694962",
   "metadata": {
    "collapsed": false,
    "execution": {
     "iopub.execute_input": "2022-12-14T22:33:40.538854Z",
     "iopub.status.busy": "2022-12-14T22:33:40.538221Z",
     "iopub.status.idle": "2022-12-14T22:33:40.547013Z",
     "shell.execute_reply": "2022-12-14T22:33:40.544931Z"
    },
    "jupyter": {
     "outputs_hidden": false
    },
    "papermill": {
     "duration": 0.025394,
     "end_time": "2022-12-14T22:33:40.550452",
     "exception": false,
     "start_time": "2022-12-14T22:33:40.525058",
     "status": "completed"
    },
    "tags": []
   },
   "outputs": [],
   "source": [
    "def get_path_to_configuration(from_config, to_config):\n",
    "    path = [from_config]\n",
    "    config = from_config.copy()\n",
    "    while config != to_config:\n",
    "        for i in range(len(config)):\n",
    "            config = rotate(config, i, get_direction(config[i], to_config[i]))\n",
    "        path.append(config)\n",
    "    assert path[-1] == to_config\n",
    "    return path"
   ]
  },
  {
   "cell_type": "markdown",
   "id": "ae93db7b",
   "metadata": {
    "papermill": {
     "duration": 0.012916,
     "end_time": "2022-12-14T22:33:40.576292",
     "exception": false,
     "start_time": "2022-12-14T22:33:40.563376",
     "status": "completed"
    },
    "tags": []
   },
   "source": [
    "Now we can get a path through the entire image by just iterating through each point and extending the path created. Here we create a simple solution for a two-link arm."
   ]
  },
  {
   "cell_type": "markdown",
   "id": "212679d2",
   "metadata": {
    "papermill": {
     "duration": 0.011675,
     "end_time": "2022-12-14T22:33:40.600109",
     "exception": false,
     "start_time": "2022-12-14T22:33:40.588434",
     "status": "completed"
    },
    "tags": []
   },
   "source": [
    "We can also compute the total cost of this solution by mapping the `step_cost` function over successive pairs in the path. We'll use the same test image as before."
   ]
  },
  {
   "cell_type": "code",
   "execution_count": 11,
   "id": "11d034eb",
   "metadata": {
    "collapsed": false,
    "execution": {
     "iopub.execute_input": "2022-12-14T22:33:40.624779Z",
     "iopub.status.busy": "2022-12-14T22:33:40.624350Z",
     "iopub.status.idle": "2022-12-14T22:33:40.631237Z",
     "shell.execute_reply": "2022-12-14T22:33:40.629874Z"
    },
    "jupyter": {
     "outputs_hidden": false
    },
    "papermill": {
     "duration": 0.022245,
     "end_time": "2022-12-14T22:33:40.633892",
     "exception": false,
     "start_time": "2022-12-14T22:33:40.611647",
     "status": "completed"
    },
    "tags": []
   },
   "outputs": [],
   "source": [
    "# Compute total cost of path over image\n",
    "def total_cost(path, image):\n",
    "    return reduce(\n",
    "        lambda cost, pair: cost + step_cost(pair[0], pair[1], image),\n",
    "        zip(path[:-1], path[1:]),\n",
    "        0,\n",
    "    )\n",
    "\n",
    "\n",
    "#total_cost(path, image)"
   ]
  },
  {
   "cell_type": "markdown",
   "id": "11f61abc",
   "metadata": {
    "papermill": {
     "duration": 0.011909,
     "end_time": "2022-12-14T22:33:40.657158",
     "exception": false,
     "start_time": "2022-12-14T22:33:40.645249",
     "status": "completed"
    },
    "tags": []
   },
   "source": [
    "# Create a Submission #\n",
    "\n",
    "Now let's create a simple solution for the full eight-link arm and create save it as a submission file."
   ]
  },
  {
   "cell_type": "code",
   "execution_count": 12,
   "id": "5e39c3b7",
   "metadata": {
    "collapsed": false,
    "execution": {
     "iopub.execute_input": "2022-12-14T22:33:40.683248Z",
     "iopub.status.busy": "2022-12-14T22:33:40.681893Z",
     "iopub.status.idle": "2022-12-14T22:33:56.342375Z",
     "shell.execute_reply": "2022-12-14T22:33:56.339212Z"
    },
    "jupyter": {
     "outputs_hidden": false
    },
    "papermill": {
     "duration": 15.677232,
     "end_time": "2022-12-14T22:33:56.346027",
     "exception": false,
     "start_time": "2022-12-14T22:33:40.668795",
     "status": "completed"
    },
    "tags": []
   },
   "outputs": [
    {
     "name": "stderr",
     "output_type": "stream",
     "text": [
      "100%|██████████| 66049/66049 [00:15<00:00, 4236.88it/s]\n"
     ]
    },
    {
     "data": {
      "text/plain": [
       "133604"
      ]
     },
     "execution_count": 12,
     "metadata": {},
     "output_type": "execute_result"
    }
   ],
   "source": [
    "from tqdm import tqdm\n",
    "\n",
    "origin = [(64, 0), (-32, 0), (-16, 0), (-8, 0), (-4, 0), (-2, 0), (-1, 0), (-1, 0)]\n",
    "n = origin[0][0] * 2\n",
    "points = list(product(range(-n, n + 1), repeat=2))\n",
    "points_original = points.copy()\n",
    "\n",
    "path = [origin]\n",
    "for p in tqdm(points):\n",
    "    config = path[-1]\n",
    "    path.extend(get_path_to_point(config, p)[1:])\n",
    "\n",
    "# Now make sure we end at the \"origin\" configuration\n",
    "path.extend(get_path_to_configuration(path[-1], origin)[1:])\n",
    "\n",
    "len(path)"
   ]
  },
  {
   "cell_type": "markdown",
   "id": "2b8c0d35",
   "metadata": {
    "papermill": {
     "duration": 0.020302,
     "end_time": "2022-12-14T22:33:56.392970",
     "exception": false,
     "start_time": "2022-12-14T22:33:56.372668",
     "status": "completed"
    },
    "tags": []
   },
   "source": [
    "And here we compute the total cost of the solution."
   ]
  },
  {
   "cell_type": "code",
   "execution_count": 13,
   "id": "f56e5b8b",
   "metadata": {
    "execution": {
     "iopub.execute_input": "2022-12-14T22:33:56.440430Z",
     "iopub.status.busy": "2022-12-14T22:33:56.439810Z",
     "iopub.status.idle": "2022-12-14T22:34:00.899961Z",
     "shell.execute_reply": "2022-12-14T22:34:00.898305Z"
    },
    "papermill": {
     "duration": 4.488539,
     "end_time": "2022-12-14T22:34:00.902961",
     "exception": false,
     "start_time": "2022-12-14T22:33:56.414422",
     "status": "completed"
    },
    "tags": []
   },
   "outputs": [
    {
     "data": {
      "text/plain": [
       "166305.28453774838"
      ]
     },
     "execution_count": 13,
     "metadata": {},
     "output_type": "execute_result"
    }
   ],
   "source": [
    "image = df_to_image(df_image)\n",
    "\n",
    "total_cost(path, image)"
   ]
  },
  {
   "cell_type": "markdown",
   "id": "3603596b",
   "metadata": {
    "papermill": {
     "duration": 0.023264,
     "end_time": "2022-12-14T22:34:00.946814",
     "exception": false,
     "start_time": "2022-12-14T22:34:00.923550",
     "status": "completed"
    },
    "tags": []
   },
   "source": [
    "Now let's convert our simple solution into the format expected of a submission file."
   ]
  },
  {
   "cell_type": "code",
   "execution_count": 14,
   "id": "5301422b",
   "metadata": {
    "collapsed": false,
    "execution": {
     "iopub.execute_input": "2022-12-14T22:34:00.991596Z",
     "iopub.status.busy": "2022-12-14T22:34:00.991163Z",
     "iopub.status.idle": "2022-12-14T22:34:00.999104Z",
     "shell.execute_reply": "2022-12-14T22:34:00.997861Z"
    },
    "jupyter": {
     "outputs_hidden": false
    },
    "papermill": {
     "duration": 0.033902,
     "end_time": "2022-12-14T22:34:01.001823",
     "exception": false,
     "start_time": "2022-12-14T22:34:00.967921",
     "status": "completed"
    },
    "tags": []
   },
   "outputs": [
    {
     "data": {
      "text/plain": [
       "'submission = pd.Series(\\n    [config_to_string(config) for config in path],\\n    name=\"configuration\",\\n)\\n\\nsubmission.head()'"
      ]
     },
     "execution_count": 14,
     "metadata": {},
     "output_type": "execute_result"
    }
   ],
   "source": [
    "def config_to_string(config):\n",
    "    return ';'.join([' '.join(map(str, vector)) for vector in config])\n",
    "\n",
    "\n",
    "\"\"\"submission = pd.Series(\n",
    "    [config_to_string(config) for config in path],\n",
    "    name=\"configuration\",\n",
    ")\n",
    "\n",
    "submission.head()\"\"\""
   ]
  },
  {
   "cell_type": "code",
   "execution_count": 15,
   "id": "f0d9d6d5",
   "metadata": {
    "collapsed": false,
    "execution": {
     "iopub.execute_input": "2022-12-14T22:34:01.047448Z",
     "iopub.status.busy": "2022-12-14T22:34:01.046653Z",
     "iopub.status.idle": "2022-12-14T22:34:01.052592Z",
     "shell.execute_reply": "2022-12-14T22:34:01.051076Z"
    },
    "jupyter": {
     "outputs_hidden": false
    },
    "papermill": {
     "duration": 0.031195,
     "end_time": "2022-12-14T22:34:01.055323",
     "exception": false,
     "start_time": "2022-12-14T22:34:01.024128",
     "status": "completed"
    },
    "tags": []
   },
   "outputs": [],
   "source": [
    "#submission.to_csv('submission.csv', index=False)"
   ]
  },
  {
   "cell_type": "markdown",
   "id": "ee4ae932",
   "metadata": {
    "papermill": {
     "duration": 0.02146,
     "end_time": "2022-12-14T22:34:01.098688",
     "exception": false,
     "start_time": "2022-12-14T22:34:01.077228",
     "status": "completed"
    },
    "tags": []
   },
   "source": [
    "Feel free to copy any of the code in this notebook for your own solutions. We're looking forward to seeing what you come up with!"
   ]
  },
  {
   "cell_type": "markdown",
   "id": "3215411c",
   "metadata": {
    "papermill": {
     "duration": 0.020026,
     "end_time": "2022-12-14T22:34:01.139678",
     "exception": false,
     "start_time": "2022-12-14T22:34:01.119652",
     "status": "completed"
    },
    "tags": []
   },
   "source": [
    "# Improvements from Crodoc"
   ]
  },
  {
   "cell_type": "markdown",
   "id": "b980ccc6",
   "metadata": {
    "papermill": {
     "duration": 0.020469,
     "end_time": "2022-12-14T22:34:01.182144",
     "exception": false,
     "start_time": "2022-12-14T22:34:01.161675",
     "status": "completed"
    },
    "tags": []
   },
   "source": [
    "### Reorder the points we visit"
   ]
  },
  {
   "cell_type": "code",
   "execution_count": 16,
   "id": "9e12a0b9",
   "metadata": {
    "execution": {
     "iopub.execute_input": "2022-12-14T22:34:01.227111Z",
     "iopub.status.busy": "2022-12-14T22:34:01.225207Z",
     "iopub.status.idle": "2022-12-14T22:34:01.274309Z",
     "shell.execute_reply": "2022-12-14T22:34:01.272464Z"
    },
    "papermill": {
     "duration": 0.07547,
     "end_time": "2022-12-14T22:34:01.277875",
     "exception": false,
     "start_time": "2022-12-14T22:34:01.202405",
     "status": "completed"
    },
    "tags": []
   },
   "outputs": [
    {
     "data": {
      "text/plain": [
       "66049"
      ]
     },
     "execution_count": 16,
     "metadata": {},
     "output_type": "execute_result"
    }
   ],
   "source": [
    "origin = [(64, 0), (-32, 0), (-16, 0), (-8, 0), (-4, 0), (-2, 0), (-1, 0), (-1, 0)]\n",
    "n = origin[0][0] * 2\n",
    "\n",
    "points = []\n",
    "for x in list(product(range(-n, n + 1), repeat=1)):\n",
    "    if x[0] % 2 == 0:\n",
    "        for y in list(product(range(n, -n-1, -1), repeat=1)):\n",
    "            points.append((x[0],y[0]))\n",
    "    else:\n",
    "        for y in list(product(range(-n, n + 1), repeat=1)):\n",
    "            points.append((x[0],y[0]))\n",
    "\n",
    "len(points)"
   ]
  },
  {
   "cell_type": "code",
   "execution_count": 17,
   "id": "d2cd70bb",
   "metadata": {
    "execution": {
     "iopub.execute_input": "2022-12-14T22:34:01.331417Z",
     "iopub.status.busy": "2022-12-14T22:34:01.330692Z",
     "iopub.status.idle": "2022-12-14T22:34:01.338588Z",
     "shell.execute_reply": "2022-12-14T22:34:01.337159Z"
    },
    "papermill": {
     "duration": 0.040856,
     "end_time": "2022-12-14T22:34:01.342250",
     "exception": false,
     "start_time": "2022-12-14T22:34:01.301394",
     "status": "completed"
    },
    "tags": []
   },
   "outputs": [
    {
     "name": "stdout",
     "output_type": "stream",
     "text": [
      "New points order:\n",
      "\n",
      "    start: [(-128, 128), (-128, 127), (-128, 126), (-128, 125), (-128, 124)] \n",
      "\n",
      "    end: [(128, -124), (128, -125), (128, -126), (128, -127), (128, -128)] \n",
      "\n",
      "Old points order:\n",
      "\n",
      "    start: [(-128, -128), (-128, -127), (-128, -126), (-128, -125), (-128, -124)] \n",
      "\n",
      "    end: [(128, 124), (128, 125), (128, 126), (128, 127), (128, 128)]\n"
     ]
    }
   ],
   "source": [
    "print(\"New points order:\\n\")\n",
    "print(\"    start:\", points[:5], \"\\n\")\n",
    "print(\"    end:\", points[-5:], \"\\n\")\n",
    "print(\"Old points order:\\n\")\n",
    "print(\"    start:\", points_original[:5], \"\\n\")\n",
    "print(\"    end:\", points_original[-5:])"
   ]
  },
  {
   "cell_type": "code",
   "execution_count": 18,
   "id": "af611d5f",
   "metadata": {
    "execution": {
     "iopub.execute_input": "2022-12-14T22:34:01.405010Z",
     "iopub.status.busy": "2022-12-14T22:34:01.404319Z",
     "iopub.status.idle": "2022-12-14T22:34:13.603736Z",
     "shell.execute_reply": "2022-12-14T22:34:13.601912Z"
    },
    "papermill": {
     "duration": 12.23153,
     "end_time": "2022-12-14T22:34:13.607214",
     "exception": false,
     "start_time": "2022-12-14T22:34:01.375684",
     "status": "completed"
    },
    "tags": []
   },
   "outputs": [
    {
     "name": "stderr",
     "output_type": "stream",
     "text": [
      "100%|██████████| 66049/66049 [00:12<00:00, 5448.90it/s]\n"
     ]
    },
    {
     "data": {
      "text/plain": [
       "68067"
      ]
     },
     "execution_count": 18,
     "metadata": {},
     "output_type": "execute_result"
    }
   ],
   "source": [
    "path = [origin]\n",
    "for p in tqdm(points):\n",
    "    config = path[-1]\n",
    "    path.extend(get_path_to_point(config, p)[1:])\n",
    "\n",
    "# Now make sure we end at the \"origin\" configuration\n",
    "path.extend(get_path_to_configuration(path[-1], origin)[1:])\n",
    "\n",
    "len(path)"
   ]
  },
  {
   "cell_type": "code",
   "execution_count": 19,
   "id": "2b997ba3",
   "metadata": {
    "execution": {
     "iopub.execute_input": "2022-12-14T22:34:13.673803Z",
     "iopub.status.busy": "2022-12-14T22:34:13.673250Z",
     "iopub.status.idle": "2022-12-14T22:34:15.908893Z",
     "shell.execute_reply": "2022-12-14T22:34:15.907645Z"
    },
    "papermill": {
     "duration": 2.272081,
     "end_time": "2022-12-14T22:34:15.911722",
     "exception": false,
     "start_time": "2022-12-14T22:34:13.639641",
     "status": "completed"
    },
    "tags": []
   },
   "outputs": [
    {
     "data": {
      "text/plain": [
       "84643.43881576351"
      ]
     },
     "execution_count": 19,
     "metadata": {},
     "output_type": "execute_result"
    }
   ],
   "source": [
    "image = df_to_image(df_image)\n",
    "\n",
    "total_cost(path, image)"
   ]
  },
  {
   "cell_type": "markdown",
   "id": "fae11243",
   "metadata": {
    "papermill": {
     "duration": 0.031742,
     "end_time": "2022-12-14T22:34:15.973413",
     "exception": false,
     "start_time": "2022-12-14T22:34:15.941671",
     "status": "completed"
    },
    "tags": []
   },
   "source": [
    "This already improves the baseline by 2x!"
   ]
  },
  {
   "cell_type": "markdown",
   "id": "15ae6727",
   "metadata": {
    "papermill": {
     "duration": 0.029182,
     "end_time": "2022-12-14T22:34:16.032694",
     "exception": false,
     "start_time": "2022-12-14T22:34:16.003512",
     "status": "completed"
    },
    "tags": []
   },
   "source": [
    "Switching between configuration is inefficient. Let's compress the path so we move the arms simultaneously (and not one at a time)."
   ]
  },
  {
   "cell_type": "code",
   "execution_count": 20,
   "id": "1d722728",
   "metadata": {
    "execution": {
     "iopub.execute_input": "2022-12-14T22:34:16.093276Z",
     "iopub.status.busy": "2022-12-14T22:34:16.092526Z",
     "iopub.status.idle": "2022-12-14T22:34:16.100762Z",
     "shell.execute_reply": "2022-12-14T22:34:16.099723Z"
    },
    "papermill": {
     "duration": 0.042361,
     "end_time": "2022-12-14T22:34:16.103392",
     "exception": false,
     "start_time": "2022-12-14T22:34:16.061031",
     "status": "completed"
    },
    "tags": []
   },
   "outputs": [],
   "source": [
    "# compress a path between two points\n",
    "def compress_path(path):\n",
    "    r = [[] for _ in range(8)]\n",
    "    for p in path:\n",
    "        for i in range(8):\n",
    "            if len(r[i]) == 0 or r[i][-1] != p[i]:\n",
    "                r[i].append(p[i])\n",
    "    mx = max([len(x) for x in r])\n",
    "    \n",
    "    for rr in r:\n",
    "        while len(rr) < mx:\n",
    "            rr.append(rr[-1])\n",
    "    r = list(zip(*r))\n",
    "    for i in range(len(r)):\n",
    "        r[i] = list(r[i])\n",
    "    return r"
   ]
  },
  {
   "cell_type": "code",
   "execution_count": 21,
   "id": "50cd42ca",
   "metadata": {
    "execution": {
     "iopub.execute_input": "2022-12-14T22:34:16.162775Z",
     "iopub.status.busy": "2022-12-14T22:34:16.162281Z",
     "iopub.status.idle": "2022-12-14T22:34:16.176005Z",
     "shell.execute_reply": "2022-12-14T22:34:16.174695Z"
    },
    "papermill": {
     "duration": 0.047485,
     "end_time": "2022-12-14T22:34:16.178951",
     "exception": false,
     "start_time": "2022-12-14T22:34:16.131466",
     "status": "completed"
    },
    "tags": []
   },
   "outputs": [],
   "source": [
    "def get_path_to_point(config, point):\n",
    "    \"\"\"Find a path of configurations to `point` starting at `config`.\"\"\"\n",
    "    path = [config]\n",
    "    # Rotate each link, starting with the largest, until the point can\n",
    "    # be reached by the remaining links. The last link must reach the\n",
    "    # point itself.\n",
    "    for i in range(len(config)):\n",
    "        link = config[i]\n",
    "        base = get_position(config[:i])\n",
    "        relbase = (point[0] - base[0], point[1] - base[1])\n",
    "        position = get_position(config[:i+1])\n",
    "        relpos = (point[0] - position[0], point[1] - position[1])\n",
    "        radius = reduce(lambda r, link: r + max(abs(link[0]), abs(link[1])), config[i+1:], 0)\n",
    "        # Special case when next-to-last link lands on point. \n",
    "        if radius == 1 and relpos == (0, 0):\n",
    "            config = rotate(config, i, 1)\n",
    "            if get_position(config) == point:\n",
    "                path.append(config)\n",
    "                break\n",
    "            else:\n",
    "                continue\n",
    "        while np.max(np.abs(relpos)) > radius:\n",
    "            direction = get_direction(link, relbase)\n",
    "            config = rotate(config, i, direction)\n",
    "            path.append(config)\n",
    "            link = config[i]\n",
    "            base = get_position(config[:i])\n",
    "            relbase = (point[0] - base[0], point[1] - base[1])\n",
    "            position = get_position(config[:i+1])\n",
    "            relpos = (point[0] - position[0], point[1] - position[1])\n",
    "            radius = reduce(lambda r, link: r + max(abs(link[0]), abs(link[1])), config[i+1:], 0)\n",
    "    assert get_position(path[-1]) == point\n",
    "    path = compress_path(path)\n",
    "    return path"
   ]
  },
  {
   "cell_type": "markdown",
   "id": "e427cffe",
   "metadata": {
    "papermill": {
     "duration": 0.028801,
     "end_time": "2022-12-14T22:34:16.237147",
     "exception": false,
     "start_time": "2022-12-14T22:34:16.208346",
     "status": "completed"
    },
    "tags": []
   },
   "source": [
    "Reorder the points again. Notice the swap in x & y."
   ]
  },
  {
   "cell_type": "code",
   "execution_count": 22,
   "id": "9d1ad32b",
   "metadata": {
    "execution": {
     "iopub.execute_input": "2022-12-14T22:34:16.299234Z",
     "iopub.status.busy": "2022-12-14T22:34:16.298138Z",
     "iopub.status.idle": "2022-12-14T22:34:16.341035Z",
     "shell.execute_reply": "2022-12-14T22:34:16.339653Z"
    },
    "papermill": {
     "duration": 0.076583,
     "end_time": "2022-12-14T22:34:16.343792",
     "exception": false,
     "start_time": "2022-12-14T22:34:16.267209",
     "status": "completed"
    },
    "tags": []
   },
   "outputs": [
    {
     "data": {
      "text/plain": [
       "66049"
      ]
     },
     "execution_count": 22,
     "metadata": {},
     "output_type": "execute_result"
    }
   ],
   "source": [
    "origin = [(64, 0), (-32, 0), (-16, 0), (-8, 0), (-4, 0), (-2, 0), (-1, 0), (-1, 0)]\n",
    "n = origin[0][0] * 2\n",
    "\n",
    "points = []\n",
    "for x in list(product(range(-n, n + 1), repeat=1)):\n",
    "    if x[0] % 2 == 0:\n",
    "        for y in list(product(range(n, -n-1, -1), repeat=1)):\n",
    "            points.append((y[0],x[0]))\n",
    "    else:\n",
    "        for y in list(product(range(-n, n + 1), repeat=1)):\n",
    "            points.append((y[0],x[0]))\n",
    "\n",
    "len(points)"
   ]
  },
  {
   "cell_type": "code",
   "execution_count": 23,
   "id": "b8401093",
   "metadata": {
    "execution": {
     "iopub.execute_input": "2022-12-14T22:34:16.405335Z",
     "iopub.status.busy": "2022-12-14T22:34:16.404909Z",
     "iopub.status.idle": "2022-12-14T22:34:29.530627Z",
     "shell.execute_reply": "2022-12-14T22:34:29.529064Z"
    },
    "papermill": {
     "duration": 13.160774,
     "end_time": "2022-12-14T22:34:29.533959",
     "exception": false,
     "start_time": "2022-12-14T22:34:16.373185",
     "status": "completed"
    },
    "tags": []
   },
   "outputs": [
    {
     "name": "stderr",
     "output_type": "stream",
     "text": [
      "100%|██████████| 66049/66049 [00:13<00:00, 5068.03it/s]\n"
     ]
    },
    {
     "data": {
      "text/plain": [
       "67266"
      ]
     },
     "execution_count": 23,
     "metadata": {},
     "output_type": "execute_result"
    }
   ],
   "source": [
    "path = [origin]\n",
    "for p in tqdm(points):\n",
    "    config = path[-1]\n",
    "    path.extend(get_path_to_point(config, p)[1:])\n",
    "\n",
    "# Now make sure we end at the \"origin\" configuration\n",
    "path.extend(get_path_to_configuration(path[-1], origin)[1:])\n",
    "\n",
    "len(path)"
   ]
  },
  {
   "cell_type": "code",
   "execution_count": 24,
   "id": "a06013b6",
   "metadata": {
    "execution": {
     "iopub.execute_input": "2022-12-14T22:34:29.613320Z",
     "iopub.status.busy": "2022-12-14T22:34:29.612891Z",
     "iopub.status.idle": "2022-12-14T22:34:31.782966Z",
     "shell.execute_reply": "2022-12-14T22:34:31.781758Z"
    },
    "papermill": {
     "duration": 2.214214,
     "end_time": "2022-12-14T22:34:31.785537",
     "exception": false,
     "start_time": "2022-12-14T22:34:29.571323",
     "status": "completed"
    },
    "tags": []
   },
   "outputs": [
    {
     "data": {
      "text/plain": [
       "82409.67721736513"
      ]
     },
     "execution_count": 24,
     "metadata": {},
     "output_type": "execute_result"
    }
   ],
   "source": [
    "image = df_to_image(df_image)\n",
    "\n",
    "total_cost(path, image)"
   ]
  },
  {
   "cell_type": "markdown",
   "id": "a459f215",
   "metadata": {
    "papermill": {
     "duration": 0.035479,
     "end_time": "2022-12-14T22:34:31.857738",
     "exception": false,
     "start_time": "2022-12-14T22:34:31.822259",
     "status": "completed"
    },
    "tags": []
   },
   "source": [
    "The configuration changing part already achieves a decent score. Next, try to focus on crating a better path that minimizes the color changing penalty! Good Luck! :)"
   ]
  }
 ],
 "metadata": {
  "kernelspec": {
   "display_name": "Python 3",
   "language": "python",
   "name": "python3"
  },
  "language_info": {
   "codemirror_mode": {
    "name": "ipython",
    "version": 3
   },
   "file_extension": ".py",
   "mimetype": "text/x-python",
   "name": "python",
   "nbconvert_exporter": "python",
   "pygments_lexer": "ipython3",
   "version": "3.7.12"
  },
  "papermill": {
   "default_parameters": {},
   "duration": 64.003908,
   "end_time": "2022-12-14T22:34:32.617422",
   "environment_variables": {},
   "exception": null,
   "input_path": "__notebook__.ipynb",
   "output_path": "__notebook__.ipynb",
   "parameters": {},
   "start_time": "2022-12-14T22:33:28.613514",
   "version": "2.3.4"
  }
 },
 "nbformat": 4,
 "nbformat_minor": 5
}
