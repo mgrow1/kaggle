{
 "cells": [
  {
   "cell_type": "code",
   "execution_count": 1,
   "id": "3847acce",
   "metadata": {
    "_cell_guid": "b1076dfc-b9ad-4769-8c92-a6c4dae69d19",
    "_uuid": "8f2839f25d086af736a60e9eeb907d3b93b6e0e5",
    "execution": {
     "iopub.execute_input": "2022-10-28T17:23:08.873806Z",
     "iopub.status.busy": "2022-10-28T17:23:08.872983Z",
     "iopub.status.idle": "2022-10-28T17:23:08.890019Z",
     "shell.execute_reply": "2022-10-28T17:23:08.888069Z"
    },
    "papermill": {
     "duration": 0.027282,
     "end_time": "2022-10-28T17:23:08.893420",
     "exception": false,
     "start_time": "2022-10-28T17:23:08.866138",
     "status": "completed"
    },
    "tags": []
   },
   "outputs": [
    {
     "name": "stdout",
     "output_type": "stream",
     "text": [
      "/kaggle/input/titanic/train.csv\n",
      "/kaggle/input/titanic/test.csv\n",
      "/kaggle/input/titanic/gender_submission.csv\n"
     ]
    }
   ],
   "source": [
    "# This Python 3 environment comes with many helpful analytics libraries installed\n",
    "# It is defined by the kaggle/python Docker image: https://github.com/kaggle/docker-python\n",
    "# For example, here's several helpful packages to load\n",
    "\n",
    "import numpy as np # linear algebra\n",
    "import pandas as pd # data processing, CSV file I/O (e.g. pd.read_csv)\n",
    "\n",
    "# Input data files are available in the read-only \"../input/\" directory\n",
    "# For example, running this (by clicking run or pressing Shift+Enter) will list all files under the input directory\n",
    "\n",
    "import os\n",
    "for dirname, _, filenames in os.walk('/kaggle/input'):\n",
    "    for filename in filenames:\n",
    "        print(os.path.join(dirname, filename))\n",
    "\n",
    "# You can write up to 20GB to the current directory (/kaggle/working/) that gets preserved as output when you create a version using \"Save & Run All\" \n",
    "# You can also write temporary files to /kaggle/temp/, but they won't be saved outside of the current session"
   ]
  },
  {
   "cell_type": "code",
   "execution_count": 2,
   "id": "d0dfbe46",
   "metadata": {
    "execution": {
     "iopub.execute_input": "2022-10-28T17:23:08.903922Z",
     "iopub.status.busy": "2022-10-28T17:23:08.903555Z",
     "iopub.status.idle": "2022-10-28T17:23:08.942731Z",
     "shell.execute_reply": "2022-10-28T17:23:08.941631Z"
    },
    "papermill": {
     "duration": 0.047355,
     "end_time": "2022-10-28T17:23:08.945618",
     "exception": false,
     "start_time": "2022-10-28T17:23:08.898263",
     "status": "completed"
    },
    "tags": []
   },
   "outputs": [
    {
     "data": {
      "text/html": [
       "<div>\n",
       "<style scoped>\n",
       "    .dataframe tbody tr th:only-of-type {\n",
       "        vertical-align: middle;\n",
       "    }\n",
       "\n",
       "    .dataframe tbody tr th {\n",
       "        vertical-align: top;\n",
       "    }\n",
       "\n",
       "    .dataframe thead th {\n",
       "        text-align: right;\n",
       "    }\n",
       "</style>\n",
       "<table border=\"1\" class=\"dataframe\">\n",
       "  <thead>\n",
       "    <tr style=\"text-align: right;\">\n",
       "      <th></th>\n",
       "      <th>PassengerId</th>\n",
       "      <th>Survived</th>\n",
       "      <th>Pclass</th>\n",
       "      <th>Name</th>\n",
       "      <th>Sex</th>\n",
       "      <th>Age</th>\n",
       "      <th>SibSp</th>\n",
       "      <th>Parch</th>\n",
       "      <th>Ticket</th>\n",
       "      <th>Fare</th>\n",
       "      <th>Cabin</th>\n",
       "      <th>Embarked</th>\n",
       "    </tr>\n",
       "  </thead>\n",
       "  <tbody>\n",
       "    <tr>\n",
       "      <th>0</th>\n",
       "      <td>1</td>\n",
       "      <td>0</td>\n",
       "      <td>3</td>\n",
       "      <td>Braund, Mr. Owen Harris</td>\n",
       "      <td>male</td>\n",
       "      <td>22.0</td>\n",
       "      <td>1</td>\n",
       "      <td>0</td>\n",
       "      <td>A/5 21171</td>\n",
       "      <td>7.2500</td>\n",
       "      <td>NaN</td>\n",
       "      <td>S</td>\n",
       "    </tr>\n",
       "    <tr>\n",
       "      <th>1</th>\n",
       "      <td>2</td>\n",
       "      <td>1</td>\n",
       "      <td>1</td>\n",
       "      <td>Cumings, Mrs. John Bradley (Florence Briggs Th...</td>\n",
       "      <td>female</td>\n",
       "      <td>38.0</td>\n",
       "      <td>1</td>\n",
       "      <td>0</td>\n",
       "      <td>PC 17599</td>\n",
       "      <td>71.2833</td>\n",
       "      <td>C85</td>\n",
       "      <td>C</td>\n",
       "    </tr>\n",
       "    <tr>\n",
       "      <th>2</th>\n",
       "      <td>3</td>\n",
       "      <td>1</td>\n",
       "      <td>3</td>\n",
       "      <td>Heikkinen, Miss. Laina</td>\n",
       "      <td>female</td>\n",
       "      <td>26.0</td>\n",
       "      <td>0</td>\n",
       "      <td>0</td>\n",
       "      <td>STON/O2. 3101282</td>\n",
       "      <td>7.9250</td>\n",
       "      <td>NaN</td>\n",
       "      <td>S</td>\n",
       "    </tr>\n",
       "    <tr>\n",
       "      <th>3</th>\n",
       "      <td>4</td>\n",
       "      <td>1</td>\n",
       "      <td>1</td>\n",
       "      <td>Futrelle, Mrs. Jacques Heath (Lily May Peel)</td>\n",
       "      <td>female</td>\n",
       "      <td>35.0</td>\n",
       "      <td>1</td>\n",
       "      <td>0</td>\n",
       "      <td>113803</td>\n",
       "      <td>53.1000</td>\n",
       "      <td>C123</td>\n",
       "      <td>S</td>\n",
       "    </tr>\n",
       "    <tr>\n",
       "      <th>4</th>\n",
       "      <td>5</td>\n",
       "      <td>0</td>\n",
       "      <td>3</td>\n",
       "      <td>Allen, Mr. William Henry</td>\n",
       "      <td>male</td>\n",
       "      <td>35.0</td>\n",
       "      <td>0</td>\n",
       "      <td>0</td>\n",
       "      <td>373450</td>\n",
       "      <td>8.0500</td>\n",
       "      <td>NaN</td>\n",
       "      <td>S</td>\n",
       "    </tr>\n",
       "  </tbody>\n",
       "</table>\n",
       "</div>"
      ],
      "text/plain": [
       "   PassengerId  Survived  Pclass  \\\n",
       "0            1         0       3   \n",
       "1            2         1       1   \n",
       "2            3         1       3   \n",
       "3            4         1       1   \n",
       "4            5         0       3   \n",
       "\n",
       "                                                Name     Sex   Age  SibSp  \\\n",
       "0                            Braund, Mr. Owen Harris    male  22.0      1   \n",
       "1  Cumings, Mrs. John Bradley (Florence Briggs Th...  female  38.0      1   \n",
       "2                             Heikkinen, Miss. Laina  female  26.0      0   \n",
       "3       Futrelle, Mrs. Jacques Heath (Lily May Peel)  female  35.0      1   \n",
       "4                           Allen, Mr. William Henry    male  35.0      0   \n",
       "\n",
       "   Parch            Ticket     Fare Cabin Embarked  \n",
       "0      0         A/5 21171   7.2500   NaN        S  \n",
       "1      0          PC 17599  71.2833   C85        C  \n",
       "2      0  STON/O2. 3101282   7.9250   NaN        S  \n",
       "3      0            113803  53.1000  C123        S  \n",
       "4      0            373450   8.0500   NaN        S  "
      ]
     },
     "execution_count": 2,
     "metadata": {},
     "output_type": "execute_result"
    }
   ],
   "source": [
    "train_data = pd.read_csv(\"/kaggle/input/titanic/train.csv\")\n",
    "train_data.head()"
   ]
  },
  {
   "cell_type": "code",
   "execution_count": 3,
   "id": "ed08c834",
   "metadata": {
    "execution": {
     "iopub.execute_input": "2022-10-28T17:23:08.955517Z",
     "iopub.status.busy": "2022-10-28T17:23:08.955184Z",
     "iopub.status.idle": "2022-10-28T17:23:08.974269Z",
     "shell.execute_reply": "2022-10-28T17:23:08.973429Z"
    },
    "papermill": {
     "duration": 0.026093,
     "end_time": "2022-10-28T17:23:08.976107",
     "exception": false,
     "start_time": "2022-10-28T17:23:08.950014",
     "status": "completed"
    },
    "tags": []
   },
   "outputs": [
    {
     "data": {
      "text/html": [
       "<div>\n",
       "<style scoped>\n",
       "    .dataframe tbody tr th:only-of-type {\n",
       "        vertical-align: middle;\n",
       "    }\n",
       "\n",
       "    .dataframe tbody tr th {\n",
       "        vertical-align: top;\n",
       "    }\n",
       "\n",
       "    .dataframe thead th {\n",
       "        text-align: right;\n",
       "    }\n",
       "</style>\n",
       "<table border=\"1\" class=\"dataframe\">\n",
       "  <thead>\n",
       "    <tr style=\"text-align: right;\">\n",
       "      <th></th>\n",
       "      <th>PassengerId</th>\n",
       "      <th>Pclass</th>\n",
       "      <th>Name</th>\n",
       "      <th>Sex</th>\n",
       "      <th>Age</th>\n",
       "      <th>SibSp</th>\n",
       "      <th>Parch</th>\n",
       "      <th>Ticket</th>\n",
       "      <th>Fare</th>\n",
       "      <th>Cabin</th>\n",
       "      <th>Embarked</th>\n",
       "    </tr>\n",
       "  </thead>\n",
       "  <tbody>\n",
       "    <tr>\n",
       "      <th>0</th>\n",
       "      <td>892</td>\n",
       "      <td>3</td>\n",
       "      <td>Kelly, Mr. James</td>\n",
       "      <td>male</td>\n",
       "      <td>34.5</td>\n",
       "      <td>0</td>\n",
       "      <td>0</td>\n",
       "      <td>330911</td>\n",
       "      <td>7.8292</td>\n",
       "      <td>NaN</td>\n",
       "      <td>Q</td>\n",
       "    </tr>\n",
       "    <tr>\n",
       "      <th>1</th>\n",
       "      <td>893</td>\n",
       "      <td>3</td>\n",
       "      <td>Wilkes, Mrs. James (Ellen Needs)</td>\n",
       "      <td>female</td>\n",
       "      <td>47.0</td>\n",
       "      <td>1</td>\n",
       "      <td>0</td>\n",
       "      <td>363272</td>\n",
       "      <td>7.0000</td>\n",
       "      <td>NaN</td>\n",
       "      <td>S</td>\n",
       "    </tr>\n",
       "    <tr>\n",
       "      <th>2</th>\n",
       "      <td>894</td>\n",
       "      <td>2</td>\n",
       "      <td>Myles, Mr. Thomas Francis</td>\n",
       "      <td>male</td>\n",
       "      <td>62.0</td>\n",
       "      <td>0</td>\n",
       "      <td>0</td>\n",
       "      <td>240276</td>\n",
       "      <td>9.6875</td>\n",
       "      <td>NaN</td>\n",
       "      <td>Q</td>\n",
       "    </tr>\n",
       "    <tr>\n",
       "      <th>3</th>\n",
       "      <td>895</td>\n",
       "      <td>3</td>\n",
       "      <td>Wirz, Mr. Albert</td>\n",
       "      <td>male</td>\n",
       "      <td>27.0</td>\n",
       "      <td>0</td>\n",
       "      <td>0</td>\n",
       "      <td>315154</td>\n",
       "      <td>8.6625</td>\n",
       "      <td>NaN</td>\n",
       "      <td>S</td>\n",
       "    </tr>\n",
       "    <tr>\n",
       "      <th>4</th>\n",
       "      <td>896</td>\n",
       "      <td>3</td>\n",
       "      <td>Hirvonen, Mrs. Alexander (Helga E Lindqvist)</td>\n",
       "      <td>female</td>\n",
       "      <td>22.0</td>\n",
       "      <td>1</td>\n",
       "      <td>1</td>\n",
       "      <td>3101298</td>\n",
       "      <td>12.2875</td>\n",
       "      <td>NaN</td>\n",
       "      <td>S</td>\n",
       "    </tr>\n",
       "  </tbody>\n",
       "</table>\n",
       "</div>"
      ],
      "text/plain": [
       "   PassengerId  Pclass                                          Name     Sex  \\\n",
       "0          892       3                              Kelly, Mr. James    male   \n",
       "1          893       3              Wilkes, Mrs. James (Ellen Needs)  female   \n",
       "2          894       2                     Myles, Mr. Thomas Francis    male   \n",
       "3          895       3                              Wirz, Mr. Albert    male   \n",
       "4          896       3  Hirvonen, Mrs. Alexander (Helga E Lindqvist)  female   \n",
       "\n",
       "    Age  SibSp  Parch   Ticket     Fare Cabin Embarked  \n",
       "0  34.5      0      0   330911   7.8292   NaN        Q  \n",
       "1  47.0      1      0   363272   7.0000   NaN        S  \n",
       "2  62.0      0      0   240276   9.6875   NaN        Q  \n",
       "3  27.0      0      0   315154   8.6625   NaN        S  \n",
       "4  22.0      1      1  3101298  12.2875   NaN        S  "
      ]
     },
     "execution_count": 3,
     "metadata": {},
     "output_type": "execute_result"
    }
   ],
   "source": [
    "test_data = pd.read_csv(\"/kaggle/input/titanic/test.csv\")\n",
    "test_data.head()"
   ]
  },
  {
   "cell_type": "code",
   "execution_count": 4,
   "id": "53e38a46",
   "metadata": {
    "execution": {
     "iopub.execute_input": "2022-10-28T17:23:08.984845Z",
     "iopub.status.busy": "2022-10-28T17:23:08.984582Z",
     "iopub.status.idle": "2022-10-28T17:23:10.242765Z",
     "shell.execute_reply": "2022-10-28T17:23:10.241655Z"
    },
    "papermill": {
     "duration": 1.264592,
     "end_time": "2022-10-28T17:23:10.244778",
     "exception": false,
     "start_time": "2022-10-28T17:23:08.980186",
     "status": "completed"
    },
    "tags": []
   },
   "outputs": [
    {
     "name": "stdout",
     "output_type": "stream",
     "text": [
      "Train Set Accuracy: 0.816\n"
     ]
    }
   ],
   "source": [
    "# create an initial random forest model, as given in the Titanic Tutorial (by Alexis Cook)\n",
    "\n",
    "from sklearn.ensemble import RandomForestClassifier\n",
    "from sklearn.metrics import accuracy_score\n",
    "\n",
    "y = train_data[\"Survived\"]\n",
    "\n",
    "features = [\"Pclass\", \"Sex\", \"SibSp\", \"Parch\"]\n",
    "X = pd.get_dummies(train_data[features])\n",
    "\n",
    "model = RandomForestClassifier(n_estimators=100, max_depth=5, random_state=1)\n",
    "model.fit(X, y)\n",
    "\n",
    "pred_train = model.predict(X)\n",
    "print('Train Set Accuracy: {:.3f}'.format(accuracy_score(y, pred_train)))\n",
    "\n",
    "#X_test = pd.get_dummies(test_data[features])\n",
    "#predictions = model.predict(X_test)\n",
    "\n",
    "#output = pd.DataFrame({'PassengerId': test_data.PassengerId, 'Survived': predictions})\n",
    "#output.to_csv('submission.csv', index=False)\n",
    "#print(\"Your submission was successfully saved!\")"
   ]
  },
  {
   "cell_type": "code",
   "execution_count": 5,
   "id": "d0330180",
   "metadata": {
    "execution": {
     "iopub.execute_input": "2022-10-28T17:23:10.253968Z",
     "iopub.status.busy": "2022-10-28T17:23:10.253648Z",
     "iopub.status.idle": "2022-10-28T17:23:10.464164Z",
     "shell.execute_reply": "2022-10-28T17:23:10.463348Z"
    },
    "papermill": {
     "duration": 0.21783,
     "end_time": "2022-10-28T17:23:10.466466",
     "exception": false,
     "start_time": "2022-10-28T17:23:10.248636",
     "status": "completed"
    },
    "tags": []
   },
   "outputs": [
    {
     "data": {
      "text/plain": [
       "Text(0.5, 1.0, 'Variable Importance')"
      ]
     },
     "execution_count": 5,
     "metadata": {},
     "output_type": "execute_result"
    },
    {
     "data": {
      "image/png": "[encoded data removed]",
      "text/plain": [
       "<Figure size 432x288 with 1 Axes>"
      ]
     },
     "metadata": {
      "needs_background": "light"
     },
     "output_type": "display_data"
    }
   ],
   "source": [
    "# plot the feature importance of the first random forest model\n",
    "\n",
    "import matplotlib.pyplot as plt\n",
    "\n",
    "importances = model.feature_importances_\n",
    "feature_names = model.feature_names_in_\n",
    "\n",
    "forest_importances = pd.Series(importances, index=feature_names)\n",
    "forest_importances.sort_values(inplace=True)\n",
    "\n",
    "fig, ax = plt.subplots()\n",
    "forest_importances.plot.barh(ax=ax)\n",
    "ax.set_title(\"Variable Importance\")"
   ]
  },
  {
   "cell_type": "code",
   "execution_count": 6,
   "id": "8ccc8a3e",
   "metadata": {
    "execution": {
     "iopub.execute_input": "2022-10-28T17:23:10.477292Z",
     "iopub.status.busy": "2022-10-28T17:23:10.476153Z",
     "iopub.status.idle": "2022-10-28T17:23:10.489185Z",
     "shell.execute_reply": "2022-10-28T17:23:10.487535Z"
    },
    "papermill": {
     "duration": 0.021005,
     "end_time": "2022-10-28T17:23:10.491920",
     "exception": false,
     "start_time": "2022-10-28T17:23:10.470915",
     "status": "completed"
    },
    "tags": []
   },
   "outputs": [
    {
     "data": {
      "text/plain": [
       "PassengerId      0\n",
       "Survived         0\n",
       "Pclass           0\n",
       "Name             0\n",
       "Sex              0\n",
       "Age            177\n",
       "SibSp            0\n",
       "Parch            0\n",
       "Ticket           0\n",
       "Fare             0\n",
       "Cabin          687\n",
       "Embarked         2\n",
       "dtype: int64"
      ]
     },
     "execution_count": 6,
     "metadata": {},
     "output_type": "execute_result"
    }
   ],
   "source": [
    "# find missing values in training data\n",
    "\n",
    "train_data.isnull().sum()"
   ]
  },
  {
   "cell_type": "code",
   "execution_count": 7,
   "id": "77362c6f",
   "metadata": {
    "execution": {
     "iopub.execute_input": "2022-10-28T17:23:10.502783Z",
     "iopub.status.busy": "2022-10-28T17:23:10.502410Z",
     "iopub.status.idle": "2022-10-28T17:23:10.510650Z",
     "shell.execute_reply": "2022-10-28T17:23:10.509794Z"
    },
    "papermill": {
     "duration": 0.015871,
     "end_time": "2022-10-28T17:23:10.512477",
     "exception": false,
     "start_time": "2022-10-28T17:23:10.496606",
     "status": "completed"
    },
    "tags": []
   },
   "outputs": [
    {
     "data": {
      "text/plain": [
       "PassengerId      0\n",
       "Pclass           0\n",
       "Name             0\n",
       "Sex              0\n",
       "Age             86\n",
       "SibSp            0\n",
       "Parch            0\n",
       "Ticket           0\n",
       "Fare             1\n",
       "Cabin          327\n",
       "Embarked         0\n",
       "dtype: int64"
      ]
     },
     "execution_count": 7,
     "metadata": {},
     "output_type": "execute_result"
    }
   ],
   "source": [
    "# find missing values in test data\n",
    "\n",
    "test_data.isnull().sum()"
   ]
  },
  {
   "cell_type": "code",
   "execution_count": 8,
   "id": "2d58ce69",
   "metadata": {
    "execution": {
     "iopub.execute_input": "2022-10-28T17:23:10.522733Z",
     "iopub.status.busy": "2022-10-28T17:23:10.522240Z",
     "iopub.status.idle": "2022-10-28T17:23:10.678193Z",
     "shell.execute_reply": "2022-10-28T17:23:10.676843Z"
    },
    "papermill": {
     "duration": 0.163443,
     "end_time": "2022-10-28T17:23:10.680309",
     "exception": false,
     "start_time": "2022-10-28T17:23:10.516866",
     "status": "completed"
    },
    "tags": []
   },
   "outputs": [
    {
     "name": "stdout",
     "output_type": "stream",
     "text": [
      "Train Set Accuracy: 0.814\n"
     ]
    }
   ],
   "source": [
    "# create another random forest modeling with the Embarked variable also included\n",
    "\n",
    "features2 = [\"Pclass\", \"Sex\", \"SibSp\", \"Parch\", \"Embarked\"]\n",
    "\n",
    "# drop the two rows with missing values for Embarked\n",
    "train_data2 = train_data[features2+[\"Survived\"]].dropna()    \n",
    "\n",
    "y2 = train_data2[\"Survived\"]\n",
    "\n",
    "X2 = pd.get_dummies(train_data2[features2])\n",
    "#X_test2 = pd.get_dummies(test_data[features2])\n",
    "\n",
    "model2 = RandomForestClassifier(n_estimators=100, max_depth=5, random_state=1)\n",
    "model2.fit(X2, y2)\n",
    "\n",
    "pred_train2 = model2.predict(X2)\n",
    "print('Train Set Accuracy: {:.3f}'.format(accuracy_score(y2, pred_train2)))"
   ]
  },
  {
   "cell_type": "code",
   "execution_count": 9,
   "id": "f664f136",
   "metadata": {
    "execution": {
     "iopub.execute_input": "2022-10-28T17:23:10.690934Z",
     "iopub.status.busy": "2022-10-28T17:23:10.690062Z",
     "iopub.status.idle": "2022-10-28T17:23:10.872346Z",
     "shell.execute_reply": "2022-10-28T17:23:10.870803Z"
    },
    "papermill": {
     "duration": 0.190347,
     "end_time": "2022-10-28T17:23:10.875059",
     "exception": false,
     "start_time": "2022-10-28T17:23:10.684712",
     "status": "completed"
    },
    "tags": []
   },
   "outputs": [
    {
     "data": {
      "text/plain": [
       "Text(0.5, 1.0, 'Variable Importance')"
      ]
     },
     "execution_count": 9,
     "metadata": {},
     "output_type": "execute_result"
    },
    {
     "data": {
      "image/png": "[encoded data removed]",
      "text/plain": [
       "<Figure size 432x288 with 1 Axes>"
      ]
     },
     "metadata": {
      "needs_background": "light"
     },
     "output_type": "display_data"
    }
   ],
   "source": [
    "# plot feature importance for second model\n",
    "\n",
    "importances = model2.feature_importances_\n",
    "feature_names = model2.feature_names_in_\n",
    "\n",
    "forest_importances2 = pd.Series(importances, index=feature_names)\n",
    "forest_importances2.sort_values(inplace=True)\n",
    "\n",
    "fig, ax = plt.subplots()\n",
    "forest_importances2.plot.barh(ax=ax)\n",
    "ax.set_title(\"Variable Importance\")"
   ]
  },
  {
   "cell_type": "code",
   "execution_count": 10,
   "id": "52743447",
   "metadata": {
    "execution": {
     "iopub.execute_input": "2022-10-28T17:23:10.886620Z",
     "iopub.status.busy": "2022-10-28T17:23:10.885909Z",
     "iopub.status.idle": "2022-10-28T17:24:03.314738Z",
     "shell.execute_reply": "2022-10-28T17:24:03.313610Z"
    },
    "papermill": {
     "duration": 52.440441,
     "end_time": "2022-10-28T17:24:03.320467",
     "exception": false,
     "start_time": "2022-10-28T17:23:10.880026",
     "status": "completed"
    },
    "tags": []
   },
   "outputs": [
    {
     "name": "stdout",
     "output_type": "stream",
     "text": [
      "Train Set Accuracy: 0.814\n"
     ]
    }
   ],
   "source": [
    "# create another random forest model using cross-validation to tune the parameters\n",
    "\n",
    "from sklearn.model_selection import GridSearchCV\n",
    "\n",
    "max_depths = np.arange(1, 10).tolist()\n",
    "n_est = np.arange(20, 200, step = 20).tolist()\n",
    "grid_params = {'n_estimators': n_est, 'max_depth':max_depths}\n",
    "\n",
    "rf2 = RandomForestClassifier()\n",
    "\n",
    "rf2cv = GridSearchCV(rf2, param_grid=grid_params, \n",
    "                     scoring='accuracy')\n",
    "\n",
    "features = [\"Pclass\", \"Sex\", \"SibSp\", \"Parch\"]\n",
    "X = pd.get_dummies(train_data[features])\n",
    "rf2cv.fit(X, np.ravel(y))  #used np.ravel to make y_train a horizontal 1D array because of a warning\n",
    "\n",
    "pred_train = rf2cv.predict(X)\n",
    "print('Train Set Accuracy: {:.3f}'.format(accuracy_score(y, pred_train)))"
   ]
  },
  {
   "cell_type": "code",
   "execution_count": 11,
   "id": "e27fc5fd",
   "metadata": {
    "execution": {
     "iopub.execute_input": "2022-10-28T17:24:03.331230Z",
     "iopub.status.busy": "2022-10-28T17:24:03.330890Z",
     "iopub.status.idle": "2022-10-28T17:24:03.483722Z",
     "shell.execute_reply": "2022-10-28T17:24:03.482494Z"
    },
    "papermill": {
     "duration": 0.160519,
     "end_time": "2022-10-28T17:24:03.485550",
     "exception": false,
     "start_time": "2022-10-28T17:24:03.325031",
     "status": "completed"
    },
    "tags": []
   },
   "outputs": [
    {
     "data": {
      "text/plain": [
       "Text(0.5, 1.0, 'Variable Importance')"
      ]
     },
     "execution_count": 11,
     "metadata": {},
     "output_type": "execute_result"
    },
    {
     "data": {
      "image/png": "[encoded data removed]",
      "text/plain": [
       "<Figure size 432x288 with 1 Axes>"
      ]
     },
     "metadata": {
      "needs_background": "light"
     },
     "output_type": "display_data"
    }
   ],
   "source": [
    "importances = rf2cv.best_estimator_.feature_importances_\n",
    "feature_names = rf2cv.feature_names_in_\n",
    "\n",
    "forest_importances3 = pd.Series(importances, index=feature_names)\n",
    "forest_importances3.sort_values(inplace=True)\n",
    "\n",
    "fig, ax = plt.subplots()\n",
    "forest_importances3.plot.barh(ax=ax)\n",
    "ax.set_title(\"Variable Importance\")"
   ]
  },
  {
   "cell_type": "code",
   "execution_count": 12,
   "id": "e85242eb",
   "metadata": {
    "execution": {
     "iopub.execute_input": "2022-10-28T17:24:03.497213Z",
     "iopub.status.busy": "2022-10-28T17:24:03.496916Z",
     "iopub.status.idle": "2022-10-28T17:24:03.518014Z",
     "shell.execute_reply": "2022-10-28T17:24:03.517133Z"
    },
    "papermill": {
     "duration": 0.029261,
     "end_time": "2022-10-28T17:24:03.519855",
     "exception": false,
     "start_time": "2022-10-28T17:24:03.490594",
     "status": "completed"
    },
    "tags": []
   },
   "outputs": [],
   "source": [
    "# make predictions on the test data for submission\n",
    "\n",
    "X_test = pd.get_dummies(test_data[features])\n",
    "predictions = rf2cv.predict(X_test)\n",
    "\n",
    "output = pd.DataFrame({'PassengerId': test_data.PassengerId, 'Survived': predictions})\n",
    "output.to_csv('submission.csv', index=False)\n",
    "#print(\"Your submission was successfully saved!\")"
   ]
  }
 ],
 "metadata": {
  "kernelspec": {
   "display_name": "Python 3",
   "language": "python",
   "name": "python3"
  },
  "language_info": {
   "codemirror_mode": {
    "name": "ipython",
    "version": 3
   },
   "file_extension": ".py",
   "mimetype": "text/x-python",
   "name": "python",
   "nbconvert_exporter": "python",
   "pygments_lexer": "ipython3",
   "version": "3.7.12"
  },
  "papermill": {
   "default_parameters": {},
   "duration": 62.360524,
   "end_time": "2022-10-28T17:24:04.246068",
   "environment_variables": {},
   "exception": null,
   "input_path": "__notebook__.ipynb",
   "output_path": "__notebook__.ipynb",
   "parameters": {},
   "start_time": "2022-10-28T17:23:01.885544",
   "version": "2.3.4"
  }
 },
 "nbformat": 4,
 "nbformat_minor": 5
}
