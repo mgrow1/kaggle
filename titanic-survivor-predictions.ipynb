{
 "cells": [
  {
   "cell_type": "code",
   "execution_count": 1,
   "id": "7f878210",
   "metadata": {
    "_cell_guid": "b1076dfc-b9ad-4769-8c92-a6c4dae69d19",
    "_uuid": "8f2839f25d086af736a60e9eeb907d3b93b6e0e5",
    "execution": {
     "iopub.execute_input": "2022-10-26T22:08:09.592991Z",
     "iopub.status.busy": "2022-10-26T22:08:09.591983Z",
     "iopub.status.idle": "2022-10-26T22:08:09.606668Z",
     "shell.execute_reply": "2022-10-26T22:08:09.605559Z"
    },
    "papermill": {
     "duration": 0.024902,
     "end_time": "2022-10-26T22:08:09.609873",
     "exception": false,
     "start_time": "2022-10-26T22:08:09.584971",
     "status": "completed"
    },
    "tags": []
   },
   "outputs": [
    {
     "name": "stdout",
     "output_type": "stream",
     "text": [
      "/kaggle/input/titanic/train.csv\n",
      "/kaggle/input/titanic/test.csv\n",
      "/kaggle/input/titanic/gender_submission.csv\n"
     ]
    }
   ],
   "source": [
    "# This Python 3 environment comes with many helpful analytics libraries installed\n",
    "# It is defined by the kaggle/python Docker image: https://github.com/kaggle/docker-python\n",
    "# For example, here's several helpful packages to load\n",
    "\n",
    "import numpy as np # linear algebra\n",
    "import pandas as pd # data processing, CSV file I/O (e.g. pd.read_csv)\n",
    "\n",
    "# Input data files are available in the read-only \"../input/\" directory\n",
    "# For example, running this (by clicking run or pressing Shift+Enter) will list all files under the input directory\n",
    "\n",
    "import os\n",
    "for dirname, _, filenames in os.walk('/kaggle/input'):\n",
    "    for filename in filenames:\n",
    "        print(os.path.join(dirname, filename))\n",
    "\n",
    "# You can write up to 20GB to the current directory (/kaggle/working/) that gets preserved as output when you create a version using \"Save & Run All\" \n",
    "# You can also write temporary files to /kaggle/temp/, but they won't be saved outside of the current session"
   ]
  },
  {
   "cell_type": "code",
   "execution_count": 2,
   "id": "19f4c300",
   "metadata": {
    "execution": {
     "iopub.execute_input": "2022-10-26T22:08:09.621824Z",
     "iopub.status.busy": "2022-10-26T22:08:09.621075Z",
     "iopub.status.idle": "2022-10-26T22:08:09.672749Z",
     "shell.execute_reply": "2022-10-26T22:08:09.671786Z"
    },
    "papermill": {
     "duration": 0.059589,
     "end_time": "2022-10-26T22:08:09.675003",
     "exception": false,
     "start_time": "2022-10-26T22:08:09.615414",
     "status": "completed"
    },
    "tags": []
   },
   "outputs": [
    {
     "data": {
      "text/html": [
       "<div>\n",
       "<style scoped>\n",
       "    .dataframe tbody tr th:only-of-type {\n",
       "        vertical-align: middle;\n",
       "    }\n",
       "\n",
       "    .dataframe tbody tr th {\n",
       "        vertical-align: top;\n",
       "    }\n",
       "\n",
       "    .dataframe thead th {\n",
       "        text-align: right;\n",
       "    }\n",
       "</style>\n",
       "<table border=\"1\" class=\"dataframe\">\n",
       "  <thead>\n",
       "    <tr style=\"text-align: right;\">\n",
       "      <th></th>\n",
       "      <th>PassengerId</th>\n",
       "      <th>Survived</th>\n",
       "      <th>Pclass</th>\n",
       "      <th>Name</th>\n",
       "      <th>Sex</th>\n",
       "      <th>Age</th>\n",
       "      <th>SibSp</th>\n",
       "      <th>Parch</th>\n",
       "      <th>Ticket</th>\n",
       "      <th>Fare</th>\n",
       "      <th>Cabin</th>\n",
       "      <th>Embarked</th>\n",
       "    </tr>\n",
       "  </thead>\n",
       "  <tbody>\n",
       "    <tr>\n",
       "      <th>0</th>\n",
       "      <td>1</td>\n",
       "      <td>0</td>\n",
       "      <td>3</td>\n",
       "      <td>Braund, Mr. Owen Harris</td>\n",
       "      <td>male</td>\n",
       "      <td>22.0</td>\n",
       "      <td>1</td>\n",
       "      <td>0</td>\n",
       "      <td>A/5 21171</td>\n",
       "      <td>7.2500</td>\n",
       "      <td>NaN</td>\n",
       "      <td>S</td>\n",
       "    </tr>\n",
       "    <tr>\n",
       "      <th>1</th>\n",
       "      <td>2</td>\n",
       "      <td>1</td>\n",
       "      <td>1</td>\n",
       "      <td>Cumings, Mrs. John Bradley (Florence Briggs Th...</td>\n",
       "      <td>female</td>\n",
       "      <td>38.0</td>\n",
       "      <td>1</td>\n",
       "      <td>0</td>\n",
       "      <td>PC 17599</td>\n",
       "      <td>71.2833</td>\n",
       "      <td>C85</td>\n",
       "      <td>C</td>\n",
       "    </tr>\n",
       "    <tr>\n",
       "      <th>2</th>\n",
       "      <td>3</td>\n",
       "      <td>1</td>\n",
       "      <td>3</td>\n",
       "      <td>Heikkinen, Miss. Laina</td>\n",
       "      <td>female</td>\n",
       "      <td>26.0</td>\n",
       "      <td>0</td>\n",
       "      <td>0</td>\n",
       "      <td>STON/O2. 3101282</td>\n",
       "      <td>7.9250</td>\n",
       "      <td>NaN</td>\n",
       "      <td>S</td>\n",
       "    </tr>\n",
       "    <tr>\n",
       "      <th>3</th>\n",
       "      <td>4</td>\n",
       "      <td>1</td>\n",
       "      <td>1</td>\n",
       "      <td>Futrelle, Mrs. Jacques Heath (Lily May Peel)</td>\n",
       "      <td>female</td>\n",
       "      <td>35.0</td>\n",
       "      <td>1</td>\n",
       "      <td>0</td>\n",
       "      <td>113803</td>\n",
       "      <td>53.1000</td>\n",
       "      <td>C123</td>\n",
       "      <td>S</td>\n",
       "    </tr>\n",
       "    <tr>\n",
       "      <th>4</th>\n",
       "      <td>5</td>\n",
       "      <td>0</td>\n",
       "      <td>3</td>\n",
       "      <td>Allen, Mr. William Henry</td>\n",
       "      <td>male</td>\n",
       "      <td>35.0</td>\n",
       "      <td>0</td>\n",
       "      <td>0</td>\n",
       "      <td>373450</td>\n",
       "      <td>8.0500</td>\n",
       "      <td>NaN</td>\n",
       "      <td>S</td>\n",
       "    </tr>\n",
       "  </tbody>\n",
       "</table>\n",
       "</div>"
      ],
      "text/plain": [
       "   PassengerId  Survived  Pclass  \\\n",
       "0            1         0       3   \n",
       "1            2         1       1   \n",
       "2            3         1       3   \n",
       "3            4         1       1   \n",
       "4            5         0       3   \n",
       "\n",
       "                                                Name     Sex   Age  SibSp  \\\n",
       "0                            Braund, Mr. Owen Harris    male  22.0      1   \n",
       "1  Cumings, Mrs. John Bradley (Florence Briggs Th...  female  38.0      1   \n",
       "2                             Heikkinen, Miss. Laina  female  26.0      0   \n",
       "3       Futrelle, Mrs. Jacques Heath (Lily May Peel)  female  35.0      1   \n",
       "4                           Allen, Mr. William Henry    male  35.0      0   \n",
       "\n",
       "   Parch            Ticket     Fare Cabin Embarked  \n",
       "0      0         A/5 21171   7.2500   NaN        S  \n",
       "1      0          PC 17599  71.2833   C85        C  \n",
       "2      0  STON/O2. 3101282   7.9250   NaN        S  \n",
       "3      0            113803  53.1000  C123        S  \n",
       "4      0            373450   8.0500   NaN        S  "
      ]
     },
     "execution_count": 2,
     "metadata": {},
     "output_type": "execute_result"
    }
   ],
   "source": [
    "train_data = pd.read_csv(\"/kaggle/input/titanic/train.csv\")\n",
    "train_data.head()"
   ]
  },
  {
   "cell_type": "code",
   "execution_count": 3,
   "id": "bae35ba1",
   "metadata": {
    "execution": {
     "iopub.execute_input": "2022-10-26T22:08:09.686610Z",
     "iopub.status.busy": "2022-10-26T22:08:09.685526Z",
     "iopub.status.idle": "2022-10-26T22:08:09.711112Z",
     "shell.execute_reply": "2022-10-26T22:08:09.709851Z"
    },
    "papermill": {
     "duration": 0.034057,
     "end_time": "2022-10-26T22:08:09.713710",
     "exception": false,
     "start_time": "2022-10-26T22:08:09.679653",
     "status": "completed"
    },
    "tags": []
   },
   "outputs": [
    {
     "data": {
      "text/html": [
       "<div>\n",
       "<style scoped>\n",
       "    .dataframe tbody tr th:only-of-type {\n",
       "        vertical-align: middle;\n",
       "    }\n",
       "\n",
       "    .dataframe tbody tr th {\n",
       "        vertical-align: top;\n",
       "    }\n",
       "\n",
       "    .dataframe thead th {\n",
       "        text-align: right;\n",
       "    }\n",
       "</style>\n",
       "<table border=\"1\" class=\"dataframe\">\n",
       "  <thead>\n",
       "    <tr style=\"text-align: right;\">\n",
       "      <th></th>\n",
       "      <th>PassengerId</th>\n",
       "      <th>Pclass</th>\n",
       "      <th>Name</th>\n",
       "      <th>Sex</th>\n",
       "      <th>Age</th>\n",
       "      <th>SibSp</th>\n",
       "      <th>Parch</th>\n",
       "      <th>Ticket</th>\n",
       "      <th>Fare</th>\n",
       "      <th>Cabin</th>\n",
       "      <th>Embarked</th>\n",
       "    </tr>\n",
       "  </thead>\n",
       "  <tbody>\n",
       "    <tr>\n",
       "      <th>0</th>\n",
       "      <td>892</td>\n",
       "      <td>3</td>\n",
       "      <td>Kelly, Mr. James</td>\n",
       "      <td>male</td>\n",
       "      <td>34.5</td>\n",
       "      <td>0</td>\n",
       "      <td>0</td>\n",
       "      <td>330911</td>\n",
       "      <td>7.8292</td>\n",
       "      <td>NaN</td>\n",
       "      <td>Q</td>\n",
       "    </tr>\n",
       "    <tr>\n",
       "      <th>1</th>\n",
       "      <td>893</td>\n",
       "      <td>3</td>\n",
       "      <td>Wilkes, Mrs. James (Ellen Needs)</td>\n",
       "      <td>female</td>\n",
       "      <td>47.0</td>\n",
       "      <td>1</td>\n",
       "      <td>0</td>\n",
       "      <td>363272</td>\n",
       "      <td>7.0000</td>\n",
       "      <td>NaN</td>\n",
       "      <td>S</td>\n",
       "    </tr>\n",
       "    <tr>\n",
       "      <th>2</th>\n",
       "      <td>894</td>\n",
       "      <td>2</td>\n",
       "      <td>Myles, Mr. Thomas Francis</td>\n",
       "      <td>male</td>\n",
       "      <td>62.0</td>\n",
       "      <td>0</td>\n",
       "      <td>0</td>\n",
       "      <td>240276</td>\n",
       "      <td>9.6875</td>\n",
       "      <td>NaN</td>\n",
       "      <td>Q</td>\n",
       "    </tr>\n",
       "    <tr>\n",
       "      <th>3</th>\n",
       "      <td>895</td>\n",
       "      <td>3</td>\n",
       "      <td>Wirz, Mr. Albert</td>\n",
       "      <td>male</td>\n",
       "      <td>27.0</td>\n",
       "      <td>0</td>\n",
       "      <td>0</td>\n",
       "      <td>315154</td>\n",
       "      <td>8.6625</td>\n",
       "      <td>NaN</td>\n",
       "      <td>S</td>\n",
       "    </tr>\n",
       "    <tr>\n",
       "      <th>4</th>\n",
       "      <td>896</td>\n",
       "      <td>3</td>\n",
       "      <td>Hirvonen, Mrs. Alexander (Helga E Lindqvist)</td>\n",
       "      <td>female</td>\n",
       "      <td>22.0</td>\n",
       "      <td>1</td>\n",
       "      <td>1</td>\n",
       "      <td>3101298</td>\n",
       "      <td>12.2875</td>\n",
       "      <td>NaN</td>\n",
       "      <td>S</td>\n",
       "    </tr>\n",
       "  </tbody>\n",
       "</table>\n",
       "</div>"
      ],
      "text/plain": [
       "   PassengerId  Pclass                                          Name     Sex  \\\n",
       "0          892       3                              Kelly, Mr. James    male   \n",
       "1          893       3              Wilkes, Mrs. James (Ellen Needs)  female   \n",
       "2          894       2                     Myles, Mr. Thomas Francis    male   \n",
       "3          895       3                              Wirz, Mr. Albert    male   \n",
       "4          896       3  Hirvonen, Mrs. Alexander (Helga E Lindqvist)  female   \n",
       "\n",
       "    Age  SibSp  Parch   Ticket     Fare Cabin Embarked  \n",
       "0  34.5      0      0   330911   7.8292   NaN        Q  \n",
       "1  47.0      1      0   363272   7.0000   NaN        S  \n",
       "2  62.0      0      0   240276   9.6875   NaN        Q  \n",
       "3  27.0      0      0   315154   8.6625   NaN        S  \n",
       "4  22.0      1      1  3101298  12.2875   NaN        S  "
      ]
     },
     "execution_count": 3,
     "metadata": {},
     "output_type": "execute_result"
    }
   ],
   "source": [
    "test_data = pd.read_csv(\"/kaggle/input/titanic/test.csv\")\n",
    "test_data.head()"
   ]
  },
  {
   "cell_type": "code",
   "execution_count": 4,
   "id": "6f13a5f7",
   "metadata": {
    "execution": {
     "iopub.execute_input": "2022-10-26T22:08:09.725385Z",
     "iopub.status.busy": "2022-10-26T22:08:09.724623Z",
     "iopub.status.idle": "2022-10-26T22:08:11.446041Z",
     "shell.execute_reply": "2022-10-26T22:08:11.444738Z"
    },
    "papermill": {
     "duration": 1.731142,
     "end_time": "2022-10-26T22:08:11.449564",
     "exception": false,
     "start_time": "2022-10-26T22:08:09.718422",
     "status": "completed"
    },
    "tags": []
   },
   "outputs": [
    {
     "name": "stdout",
     "output_type": "stream",
     "text": [
      "Train Set Accuracy: 0.816\n"
     ]
    }
   ],
   "source": [
    "from sklearn.ensemble import RandomForestClassifier\n",
    "from sklearn.metrics import accuracy_score\n",
    "\n",
    "y = train_data[\"Survived\"]\n",
    "\n",
    "features = [\"Pclass\", \"Sex\", \"SibSp\", \"Parch\"]\n",
    "X = pd.get_dummies(train_data[features])\n",
    "X_test = pd.get_dummies(test_data[features])\n",
    "\n",
    "model = RandomForestClassifier(n_estimators=100, max_depth=5, random_state=1)\n",
    "model.fit(X, y)\n",
    "#predictions = model.predict(X_test)\n",
    "\n",
    "pred_train = model.predict(X)\n",
    "print('Train Set Accuracy: {:.3f}'.format(accuracy_score(y, pred_train)))\n",
    "\n",
    "#output = pd.DataFrame({'PassengerId': test_data.PassengerId, 'Survived': predictions})\n",
    "#output.to_csv('submission.csv', index=False)\n",
    "#print(\"Your submission was successfully saved!\")"
   ]
  },
  {
   "cell_type": "code",
   "execution_count": 5,
   "id": "cb4f2339",
   "metadata": {
    "execution": {
     "iopub.execute_input": "2022-10-26T22:08:11.462490Z",
     "iopub.status.busy": "2022-10-26T22:08:11.461715Z",
     "iopub.status.idle": "2022-10-26T22:08:11.481411Z",
     "shell.execute_reply": "2022-10-26T22:08:11.480043Z"
    },
    "papermill": {
     "duration": 0.029435,
     "end_time": "2022-10-26T22:08:11.484487",
     "exception": false,
     "start_time": "2022-10-26T22:08:11.455052",
     "status": "completed"
    },
    "tags": []
   },
   "outputs": [
    {
     "data": {
      "text/plain": [
       "array([0.21550768, 0.07712207, 0.08040609, 0.34229736, 0.2846668 ])"
      ]
     },
     "execution_count": 5,
     "metadata": {},
     "output_type": "execute_result"
    }
   ],
   "source": [
    "model.feature_importances_"
   ]
  },
  {
   "cell_type": "code",
   "execution_count": 6,
   "id": "bdd3634b",
   "metadata": {
    "execution": {
     "iopub.execute_input": "2022-10-26T22:08:11.496677Z",
     "iopub.status.busy": "2022-10-26T22:08:11.496134Z",
     "iopub.status.idle": "2022-10-26T22:08:11.506936Z",
     "shell.execute_reply": "2022-10-26T22:08:11.505315Z"
    },
    "papermill": {
     "duration": 0.020117,
     "end_time": "2022-10-26T22:08:11.509638",
     "exception": false,
     "start_time": "2022-10-26T22:08:11.489521",
     "status": "completed"
    },
    "tags": []
   },
   "outputs": [
    {
     "data": {
      "text/plain": [
       "array(['Pclass', 'SibSp', 'Parch', 'Sex_female', 'Sex_male'], dtype=object)"
      ]
     },
     "execution_count": 6,
     "metadata": {},
     "output_type": "execute_result"
    }
   ],
   "source": [
    "model.feature_names_in_"
   ]
  },
  {
   "cell_type": "code",
   "execution_count": 7,
   "id": "8ab8a676",
   "metadata": {
    "execution": {
     "iopub.execute_input": "2022-10-26T22:08:11.521913Z",
     "iopub.status.busy": "2022-10-26T22:08:11.521490Z",
     "iopub.status.idle": "2022-10-26T22:08:11.814419Z",
     "shell.execute_reply": "2022-10-26T22:08:11.813088Z"
    },
    "papermill": {
     "duration": 0.302365,
     "end_time": "2022-10-26T22:08:11.817026",
     "exception": false,
     "start_time": "2022-10-26T22:08:11.514661",
     "status": "completed"
    },
    "tags": []
   },
   "outputs": [
    {
     "data": {
      "text/plain": [
       "Text(0.5, 1.0, 'Variable Importance')"
      ]
     },
     "execution_count": 7,
     "metadata": {},
     "output_type": "execute_result"
    },
    {
     "data": {
      "image/png": "[encoded data removed]",
      "text/plain": [
       "<Figure size 432x288 with 1 Axes>"
      ]
     },
     "metadata": {
      "needs_background": "light"
     },
     "output_type": "display_data"
    }
   ],
   "source": [
    "import matplotlib.pyplot as plt\n",
    "\n",
    "importances = model.feature_importances_\n",
    "feature_names = model.feature_names_in_\n",
    "\n",
    "forest_importances = pd.Series(importances, index=feature_names)\n",
    "forest_importances.sort_values(inplace=True)\n",
    "\n",
    "fig, ax = plt.subplots()\n",
    "forest_importances.plot.barh(ax=ax)\n",
    "ax.set_title(\"Variable Importance\")"
   ]
  },
  {
   "cell_type": "code",
   "execution_count": 8,
   "id": "d00dfd25",
   "metadata": {
    "execution": {
     "iopub.execute_input": "2022-10-26T22:08:11.829772Z",
     "iopub.status.busy": "2022-10-26T22:08:11.829346Z",
     "iopub.status.idle": "2022-10-26T22:08:11.839779Z",
     "shell.execute_reply": "2022-10-26T22:08:11.838583Z"
    },
    "papermill": {
     "duration": 0.01983,
     "end_time": "2022-10-26T22:08:11.842342",
     "exception": false,
     "start_time": "2022-10-26T22:08:11.822512",
     "status": "completed"
    },
    "tags": []
   },
   "outputs": [
    {
     "data": {
      "text/plain": [
       "Pclass    0\n",
       "Sex       0\n",
       "SibSp     0\n",
       "Parch     0\n",
       "dtype: int64"
      ]
     },
     "execution_count": 8,
     "metadata": {},
     "output_type": "execute_result"
    }
   ],
   "source": [
    "train_data[features].isnull().sum()"
   ]
  },
  {
   "cell_type": "code",
   "execution_count": 9,
   "id": "13725632",
   "metadata": {
    "execution": {
     "iopub.execute_input": "2022-10-26T22:08:11.856846Z",
     "iopub.status.busy": "2022-10-26T22:08:11.855631Z",
     "iopub.status.idle": "2022-10-26T22:08:11.870404Z",
     "shell.execute_reply": "2022-10-26T22:08:11.868712Z"
    },
    "papermill": {
     "duration": 0.024958,
     "end_time": "2022-10-26T22:08:11.872955",
     "exception": false,
     "start_time": "2022-10-26T22:08:11.847997",
     "status": "completed"
    },
    "tags": []
   },
   "outputs": [
    {
     "data": {
      "text/plain": [
       "Pclass    0\n",
       "Sex       0\n",
       "SibSp     0\n",
       "Parch     0\n",
       "dtype: int64"
      ]
     },
     "execution_count": 9,
     "metadata": {},
     "output_type": "execute_result"
    }
   ],
   "source": [
    "test_data[features].isnull().sum()"
   ]
  },
  {
   "cell_type": "code",
   "execution_count": 10,
   "id": "1ada64cc",
   "metadata": {
    "execution": {
     "iopub.execute_input": "2022-10-26T22:08:11.886703Z",
     "iopub.status.busy": "2022-10-26T22:08:11.886255Z",
     "iopub.status.idle": "2022-10-26T22:08:12.106800Z",
     "shell.execute_reply": "2022-10-26T22:08:12.105190Z"
    },
    "papermill": {
     "duration": 0.231212,
     "end_time": "2022-10-26T22:08:12.109911",
     "exception": false,
     "start_time": "2022-10-26T22:08:11.878699",
     "status": "completed"
    },
    "tags": []
   },
   "outputs": [
    {
     "name": "stdout",
     "output_type": "stream",
     "text": [
      "Train Set Accuracy: 0.814\n"
     ]
    }
   ],
   "source": [
    "features2 = [\"Pclass\", \"Sex\", \"SibSp\", \"Parch\", \"Embarked\"]\n",
    "\n",
    "train_data2 = train_data[features2+[\"Survived\"]].dropna()    #drop the two rows with missing values for Embarked\n",
    "\n",
    "y2 = train_data2[\"Survived\"]\n",
    "\n",
    "X2 = pd.get_dummies(train_data2[features2])\n",
    "X_test = pd.get_dummies(test_data[features2])\n",
    "\n",
    "model2 = RandomForestClassifier(n_estimators=100, max_depth=5, random_state=1)\n",
    "model2.fit(X2, y2)\n",
    "\n",
    "pred_train2 = model2.predict(X2)\n",
    "print('Train Set Accuracy: {:.3f}'.format(accuracy_score(y2, pred_train2)))"
   ]
  },
  {
   "cell_type": "code",
   "execution_count": 11,
   "id": "22bcc018",
   "metadata": {
    "execution": {
     "iopub.execute_input": "2022-10-26T22:08:12.123793Z",
     "iopub.status.busy": "2022-10-26T22:08:12.123364Z",
     "iopub.status.idle": "2022-10-26T22:08:12.390555Z",
     "shell.execute_reply": "2022-10-26T22:08:12.389152Z"
    },
    "papermill": {
     "duration": 0.277034,
     "end_time": "2022-10-26T22:08:12.393103",
     "exception": false,
     "start_time": "2022-10-26T22:08:12.116069",
     "status": "completed"
    },
    "tags": []
   },
   "outputs": [
    {
     "data": {
      "text/plain": [
       "Text(0.5, 1.0, 'Variable Importance')"
      ]
     },
     "execution_count": 11,
     "metadata": {},
     "output_type": "execute_result"
    },
    {
     "data": {
      "image/png": "[encoded data removed]",
      "text/plain": [
       "<Figure size 432x288 with 1 Axes>"
      ]
     },
     "metadata": {
      "needs_background": "light"
     },
     "output_type": "display_data"
    }
   ],
   "source": [
    "importances = model2.feature_importances_\n",
    "feature_names = model2.feature_names_in_\n",
    "\n",
    "forest_importances2 = pd.Series(importances, index=feature_names)\n",
    "forest_importances2.sort_values(inplace=True)\n",
    "\n",
    "fig, ax = plt.subplots()\n",
    "forest_importances2.plot.barh(ax=ax)\n",
    "ax.set_title(\"Variable Importance\")"
   ]
  },
  {
   "cell_type": "code",
   "execution_count": 12,
   "id": "39f1dfdb",
   "metadata": {
    "execution": {
     "iopub.execute_input": "2022-10-26T22:08:12.407164Z",
     "iopub.status.busy": "2022-10-26T22:08:12.406756Z",
     "iopub.status.idle": "2022-10-26T22:09:23.842087Z",
     "shell.execute_reply": "2022-10-26T22:09:23.840727Z"
    },
    "papermill": {
     "duration": 71.450628,
     "end_time": "2022-10-26T22:09:23.850073",
     "exception": false,
     "start_time": "2022-10-26T22:08:12.399445",
     "status": "completed"
    },
    "tags": []
   },
   "outputs": [
    {
     "name": "stdout",
     "output_type": "stream",
     "text": [
      "Train Set Accuracy: 0.814\n"
     ]
    }
   ],
   "source": [
    "from sklearn.model_selection import GridSearchCV\n",
    "\n",
    "max_depths = np.arange(1, 10).tolist()\n",
    "n_est = np.arange(20, 200, step = 20).tolist()\n",
    "grid_params = {'n_estimators': n_est, 'max_depth':max_depths}\n",
    "\n",
    "rf2 = RandomForestClassifier()\n",
    "\n",
    "rf2cv = GridSearchCV(rf2, param_grid=grid_params, \n",
    "                     scoring='accuracy')\n",
    "\n",
    "rf2cv.fit(X, np.ravel(y))  #used np.ravel to make y_train a horizontal 1D array because of a warning\n",
    "\n",
    "pred_train = rf2cv.predict(X)\n",
    "print('Train Set Accuracy: {:.3f}'.format(accuracy_score(y, pred_train)))"
   ]
  },
  {
   "cell_type": "code",
   "execution_count": 13,
   "id": "ddcb633e",
   "metadata": {
    "execution": {
     "iopub.execute_input": "2022-10-26T22:09:23.864909Z",
     "iopub.status.busy": "2022-10-26T22:09:23.863533Z",
     "iopub.status.idle": "2022-10-26T22:09:24.070061Z",
     "shell.execute_reply": "2022-10-26T22:09:24.068566Z"
    },
    "papermill": {
     "duration": 0.217117,
     "end_time": "2022-10-26T22:09:24.073072",
     "exception": false,
     "start_time": "2022-10-26T22:09:23.855955",
     "status": "completed"
    },
    "tags": []
   },
   "outputs": [
    {
     "data": {
      "text/plain": [
       "Text(0.5, 1.0, 'Variable Importance')"
      ]
     },
     "execution_count": 13,
     "metadata": {},
     "output_type": "execute_result"
    },
    {
     "data": {
      "image/png": "[encoded data removed]",
      "text/plain": [
       "<Figure size 432x288 with 1 Axes>"
      ]
     },
     "metadata": {
      "needs_background": "light"
     },
     "output_type": "display_data"
    }
   ],
   "source": [
    "importances = rf2cv.best_estimator_.feature_importances_\n",
    "feature_names = rf2cv.feature_names_in_\n",
    "\n",
    "forest_importances3 = pd.Series(importances, index=feature_names)\n",
    "forest_importances3.sort_values(inplace=True)\n",
    "\n",
    "fig, ax = plt.subplots()\n",
    "forest_importances3.plot.barh(ax=ax)\n",
    "ax.set_title(\"Variable Importance\")"
   ]
  }
 ],
 "metadata": {
  "kernelspec": {
   "display_name": "Python 3",
   "language": "python",
   "name": "python3"
  },
  "language_info": {
   "codemirror_mode": {
    "name": "ipython",
    "version": 3
   },
   "file_extension": ".py",
   "mimetype": "text/x-python",
   "name": "python",
   "nbconvert_exporter": "python",
   "pygments_lexer": "ipython3",
   "version": "3.7.12"
  },
  "papermill": {
   "default_parameters": {},
   "duration": 86.796767,
   "end_time": "2022-10-26T22:09:25.008629",
   "environment_variables": {},
   "exception": null,
   "input_path": "__notebook__.ipynb",
   "output_path": "__notebook__.ipynb",
   "parameters": {},
   "start_time": "2022-10-26T22:07:58.211862",
   "version": "2.3.4"
  }
 },
 "nbformat": 4,
 "nbformat_minor": 5
}
