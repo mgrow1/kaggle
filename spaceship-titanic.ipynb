{
 "cells": [
  {
   "cell_type": "code",
   "execution_count": 1,
   "id": "7b39e167",
   "metadata": {
    "_cell_guid": "b1076dfc-b9ad-4769-8c92-a6c4dae69d19",
    "_uuid": "8f2839f25d086af736a60e9eeb907d3b93b6e0e5",
    "execution": {
     "iopub.execute_input": "2022-11-08T05:07:16.552188Z",
     "iopub.status.busy": "2022-11-08T05:07:16.551700Z",
     "iopub.status.idle": "2022-11-08T05:07:17.704380Z",
     "shell.execute_reply": "2022-11-08T05:07:17.702008Z"
    },
    "papermill": {
     "duration": 1.163866,
     "end_time": "2022-11-08T05:07:17.707447",
     "exception": false,
     "start_time": "2022-11-08T05:07:16.543581",
     "status": "completed"
    },
    "tags": []
   },
   "outputs": [
    {
     "name": "stdout",
     "output_type": "stream",
     "text": [
      "/kaggle/input/spaceship-titanic/sample_submission.csv\n",
      "/kaggle/input/spaceship-titanic/train.csv\n",
      "/kaggle/input/spaceship-titanic/test.csv\n"
     ]
    }
   ],
   "source": [
    "# This Python 3 environment is defined by the kaggle/python Docker image: https://github.com/kaggle/docker-python\n",
    "\n",
    "import numpy as np \n",
    "import pandas as pd\n",
    "import matplotlib.pyplot as plt\n",
    "import seaborn as sns\n",
    "\n",
    "\n",
    "# Input data files are available in the read-only \"../input/\" directory\n",
    "\n",
    "import os\n",
    "for dirname, _, filenames in os.walk('/kaggle/input'):\n",
    "    for filename in filenames:\n",
    "        print(os.path.join(dirname, filename))\n"
   ]
  },
  {
   "cell_type": "markdown",
   "id": "f1a66ce6",
   "metadata": {
    "papermill": {
     "duration": 0.004865,
     "end_time": "2022-11-08T05:07:17.717940",
     "exception": false,
     "start_time": "2022-11-08T05:07:17.713075",
     "status": "completed"
    },
    "tags": []
   },
   "source": [
    "# EDA"
   ]
  },
  {
   "cell_type": "code",
   "execution_count": 2,
   "id": "f24cd626",
   "metadata": {
    "execution": {
     "iopub.execute_input": "2022-11-08T05:07:17.730959Z",
     "iopub.status.busy": "2022-11-08T05:07:17.729700Z",
     "iopub.status.idle": "2022-11-08T05:07:17.844680Z",
     "shell.execute_reply": "2022-11-08T05:07:17.843472Z"
    },
    "papermill": {
     "duration": 0.123639,
     "end_time": "2022-11-08T05:07:17.846816",
     "exception": false,
     "start_time": "2022-11-08T05:07:17.723177",
     "status": "completed"
    },
    "tags": []
   },
   "outputs": [
    {
     "data": {
      "text/html": [
       "<div>\n",
       "<style scoped>\n",
       "    .dataframe tbody tr th:only-of-type {\n",
       "        vertical-align: middle;\n",
       "    }\n",
       "\n",
       "    .dataframe tbody tr th {\n",
       "        vertical-align: top;\n",
       "    }\n",
       "\n",
       "    .dataframe thead th {\n",
       "        text-align: right;\n",
       "    }\n",
       "</style>\n",
       "<table border=\"1\" class=\"dataframe\">\n",
       "  <thead>\n",
       "    <tr style=\"text-align: right;\">\n",
       "      <th></th>\n",
       "      <th>PassengerId</th>\n",
       "      <th>HomePlanet</th>\n",
       "      <th>CryoSleep</th>\n",
       "      <th>Cabin</th>\n",
       "      <th>Destination</th>\n",
       "      <th>Age</th>\n",
       "      <th>VIP</th>\n",
       "      <th>RoomService</th>\n",
       "      <th>FoodCourt</th>\n",
       "      <th>ShoppingMall</th>\n",
       "      <th>Spa</th>\n",
       "      <th>VRDeck</th>\n",
       "      <th>Name</th>\n",
       "      <th>Transported</th>\n",
       "    </tr>\n",
       "  </thead>\n",
       "  <tbody>\n",
       "    <tr>\n",
       "      <th>0</th>\n",
       "      <td>0001_01</td>\n",
       "      <td>Europa</td>\n",
       "      <td>False</td>\n",
       "      <td>B/0/P</td>\n",
       "      <td>TRAPPIST-1e</td>\n",
       "      <td>39.0</td>\n",
       "      <td>False</td>\n",
       "      <td>0.0</td>\n",
       "      <td>0.0</td>\n",
       "      <td>0.0</td>\n",
       "      <td>0.0</td>\n",
       "      <td>0.0</td>\n",
       "      <td>Maham Ofracculy</td>\n",
       "      <td>False</td>\n",
       "    </tr>\n",
       "    <tr>\n",
       "      <th>1</th>\n",
       "      <td>0002_01</td>\n",
       "      <td>Earth</td>\n",
       "      <td>False</td>\n",
       "      <td>F/0/S</td>\n",
       "      <td>TRAPPIST-1e</td>\n",
       "      <td>24.0</td>\n",
       "      <td>False</td>\n",
       "      <td>109.0</td>\n",
       "      <td>9.0</td>\n",
       "      <td>25.0</td>\n",
       "      <td>549.0</td>\n",
       "      <td>44.0</td>\n",
       "      <td>Juanna Vines</td>\n",
       "      <td>True</td>\n",
       "    </tr>\n",
       "    <tr>\n",
       "      <th>2</th>\n",
       "      <td>0003_01</td>\n",
       "      <td>Europa</td>\n",
       "      <td>False</td>\n",
       "      <td>A/0/S</td>\n",
       "      <td>TRAPPIST-1e</td>\n",
       "      <td>58.0</td>\n",
       "      <td>True</td>\n",
       "      <td>43.0</td>\n",
       "      <td>3576.0</td>\n",
       "      <td>0.0</td>\n",
       "      <td>6715.0</td>\n",
       "      <td>49.0</td>\n",
       "      <td>Altark Susent</td>\n",
       "      <td>False</td>\n",
       "    </tr>\n",
       "    <tr>\n",
       "      <th>3</th>\n",
       "      <td>0003_02</td>\n",
       "      <td>Europa</td>\n",
       "      <td>False</td>\n",
       "      <td>A/0/S</td>\n",
       "      <td>TRAPPIST-1e</td>\n",
       "      <td>33.0</td>\n",
       "      <td>False</td>\n",
       "      <td>0.0</td>\n",
       "      <td>1283.0</td>\n",
       "      <td>371.0</td>\n",
       "      <td>3329.0</td>\n",
       "      <td>193.0</td>\n",
       "      <td>Solam Susent</td>\n",
       "      <td>False</td>\n",
       "    </tr>\n",
       "    <tr>\n",
       "      <th>4</th>\n",
       "      <td>0004_01</td>\n",
       "      <td>Earth</td>\n",
       "      <td>False</td>\n",
       "      <td>F/1/S</td>\n",
       "      <td>TRAPPIST-1e</td>\n",
       "      <td>16.0</td>\n",
       "      <td>False</td>\n",
       "      <td>303.0</td>\n",
       "      <td>70.0</td>\n",
       "      <td>151.0</td>\n",
       "      <td>565.0</td>\n",
       "      <td>2.0</td>\n",
       "      <td>Willy Santantines</td>\n",
       "      <td>True</td>\n",
       "    </tr>\n",
       "  </tbody>\n",
       "</table>\n",
       "</div>"
      ],
      "text/plain": [
       "  PassengerId HomePlanet CryoSleep  Cabin  Destination   Age    VIP  \\\n",
       "0     0001_01     Europa     False  B/0/P  TRAPPIST-1e  39.0  False   \n",
       "1     0002_01      Earth     False  F/0/S  TRAPPIST-1e  24.0  False   \n",
       "2     0003_01     Europa     False  A/0/S  TRAPPIST-1e  58.0   True   \n",
       "3     0003_02     Europa     False  A/0/S  TRAPPIST-1e  33.0  False   \n",
       "4     0004_01      Earth     False  F/1/S  TRAPPIST-1e  16.0  False   \n",
       "\n",
       "   RoomService  FoodCourt  ShoppingMall     Spa  VRDeck               Name  \\\n",
       "0          0.0        0.0           0.0     0.0     0.0    Maham Ofracculy   \n",
       "1        109.0        9.0          25.0   549.0    44.0       Juanna Vines   \n",
       "2         43.0     3576.0           0.0  6715.0    49.0      Altark Susent   \n",
       "3          0.0     1283.0         371.0  3329.0   193.0       Solam Susent   \n",
       "4        303.0       70.0         151.0   565.0     2.0  Willy Santantines   \n",
       "\n",
       "   Transported  \n",
       "0        False  \n",
       "1         True  \n",
       "2        False  \n",
       "3        False  \n",
       "4         True  "
      ]
     },
     "execution_count": 2,
     "metadata": {},
     "output_type": "execute_result"
    }
   ],
   "source": [
    "train_data = pd.read_csv(\"/kaggle/input/spaceship-titanic/train.csv\")\n",
    "test_data = pd.read_csv(\"/kaggle/input/spaceship-titanic/test.csv\")\n",
    "\n",
    "train_data.head()"
   ]
  },
  {
   "cell_type": "code",
   "execution_count": 3,
   "id": "db4c8af8",
   "metadata": {
    "execution": {
     "iopub.execute_input": "2022-11-08T05:07:17.859000Z",
     "iopub.status.busy": "2022-11-08T05:07:17.858589Z",
     "iopub.status.idle": "2022-11-08T05:07:17.863674Z",
     "shell.execute_reply": "2022-11-08T05:07:17.862457Z"
    },
    "papermill": {
     "duration": 0.013763,
     "end_time": "2022-11-08T05:07:17.865878",
     "exception": false,
     "start_time": "2022-11-08T05:07:17.852115",
     "status": "completed"
    },
    "tags": []
   },
   "outputs": [],
   "source": [
    "#test_data.head()"
   ]
  },
  {
   "cell_type": "code",
   "execution_count": 4,
   "id": "62f40d44",
   "metadata": {
    "execution": {
     "iopub.execute_input": "2022-11-08T05:07:17.878268Z",
     "iopub.status.busy": "2022-11-08T05:07:17.877893Z",
     "iopub.status.idle": "2022-11-08T05:07:17.893463Z",
     "shell.execute_reply": "2022-11-08T05:07:17.892143Z"
    },
    "papermill": {
     "duration": 0.025524,
     "end_time": "2022-11-08T05:07:17.896810",
     "exception": false,
     "start_time": "2022-11-08T05:07:17.871286",
     "status": "completed"
    },
    "tags": []
   },
   "outputs": [
    {
     "name": "stdout",
     "output_type": "stream",
     "text": [
      "Training:\n",
      " (8693, 14) \n",
      "\n",
      "PassengerId       0\n",
      "HomePlanet      201\n",
      "CryoSleep       217\n",
      "Cabin           199\n",
      "Destination     182\n",
      "Age             179\n",
      "VIP             203\n",
      "RoomService     181\n",
      "FoodCourt       183\n",
      "ShoppingMall    208\n",
      "Spa             183\n",
      "VRDeck          188\n",
      "Name            200\n",
      "Transported       0\n",
      "dtype: int64 \n",
      "\n",
      "\n",
      "Test:\n",
      " (4277, 13) \n",
      "\n",
      "PassengerId       0\n",
      "HomePlanet       87\n",
      "CryoSleep        93\n",
      "Cabin           100\n",
      "Destination      92\n",
      "Age              91\n",
      "VIP              93\n",
      "RoomService      82\n",
      "FoodCourt       106\n",
      "ShoppingMall     98\n",
      "Spa             101\n",
      "VRDeck           80\n",
      "Name             94\n",
      "dtype: int64\n"
     ]
    }
   ],
   "source": [
    "# find missing values and print data dimensions\n",
    "print(\"Training:\\n\", train_data.shape, \"\\n\")\n",
    "print(train_data.isnull().sum(),\"\\n\\n\")\n",
    "print(\"Test:\\n\", test_data.shape, \"\\n\")\n",
    "print(test_data.isnull().sum())"
   ]
  },
  {
   "cell_type": "code",
   "execution_count": 5,
   "id": "d8ec9b2b",
   "metadata": {
    "execution": {
     "iopub.execute_input": "2022-11-08T05:07:17.910719Z",
     "iopub.status.busy": "2022-11-08T05:07:17.909647Z",
     "iopub.status.idle": "2022-11-08T05:07:18.647302Z",
     "shell.execute_reply": "2022-11-08T05:07:18.645941Z"
    },
    "papermill": {
     "duration": 0.746975,
     "end_time": "2022-11-08T05:07:18.649960",
     "exception": false,
     "start_time": "2022-11-08T05:07:17.902985",
     "status": "completed"
    },
    "tags": []
   },
   "outputs": [
    {
     "data": {
      "text/plain": [
       "<AxesSubplot:>"
      ]
     },
     "execution_count": 5,
     "metadata": {},
     "output_type": "execute_result"
    },
    {
     "data": {
      "image/png": "[encoded data removed]",
      "text/plain": [
       "<Figure size 800x500 with 2 Axes>"
      ]
     },
     "metadata": {
      "needs_background": "light"
     },
     "output_type": "display_data"
    }
   ],
   "source": [
    "# visualize missing values\n",
    "plt.figure(dpi=100, figsize=(8, 5))\n",
    "sns.heatmap(train_data.isnull())"
   ]
  },
  {
   "cell_type": "code",
   "execution_count": 6,
   "id": "afe882c9",
   "metadata": {
    "execution": {
     "iopub.execute_input": "2022-11-08T05:07:18.664766Z",
     "iopub.status.busy": "2022-11-08T05:07:18.664290Z",
     "iopub.status.idle": "2022-11-08T05:07:18.672992Z",
     "shell.execute_reply": "2022-11-08T05:07:18.671914Z"
    },
    "papermill": {
     "duration": 0.018545,
     "end_time": "2022-11-08T05:07:18.675159",
     "exception": false,
     "start_time": "2022-11-08T05:07:18.656614",
     "status": "completed"
    },
    "tags": []
   },
   "outputs": [
    {
     "data": {
      "text/plain": [
       "PassengerId      object\n",
       "HomePlanet       object\n",
       "CryoSleep        object\n",
       "Cabin            object\n",
       "Destination      object\n",
       "Age             float64\n",
       "VIP              object\n",
       "RoomService     float64\n",
       "FoodCourt       float64\n",
       "ShoppingMall    float64\n",
       "Spa             float64\n",
       "VRDeck          float64\n",
       "Name             object\n",
       "Transported        bool\n",
       "dtype: object"
      ]
     },
     "execution_count": 6,
     "metadata": {},
     "output_type": "execute_result"
    }
   ],
   "source": [
    "train_data.dtypes"
   ]
  },
  {
   "cell_type": "code",
   "execution_count": 7,
   "id": "5176cebe",
   "metadata": {
    "execution": {
     "iopub.execute_input": "2022-11-08T05:07:18.690659Z",
     "iopub.status.busy": "2022-11-08T05:07:18.689517Z",
     "iopub.status.idle": "2022-11-08T05:07:18.714946Z",
     "shell.execute_reply": "2022-11-08T05:07:18.714114Z"
    },
    "papermill": {
     "duration": 0.035352,
     "end_time": "2022-11-08T05:07:18.716989",
     "exception": false,
     "start_time": "2022-11-08T05:07:18.681637",
     "status": "completed"
    },
    "tags": []
   },
   "outputs": [
    {
     "data": {
      "text/plain": [
       "PassengerId     8693\n",
       "HomePlanet         3\n",
       "CryoSleep          2\n",
       "Cabin           6560\n",
       "Destination        3\n",
       "Age               80\n",
       "VIP                2\n",
       "RoomService     1273\n",
       "FoodCourt       1507\n",
       "ShoppingMall    1115\n",
       "Spa             1327\n",
       "VRDeck          1306\n",
       "Name            8473\n",
       "Transported        2\n",
       "dtype: int64"
      ]
     },
     "execution_count": 7,
     "metadata": {},
     "output_type": "execute_result"
    }
   ],
   "source": [
    "train_data.nunique()"
   ]
  },
  {
   "cell_type": "code",
   "execution_count": 8,
   "id": "ad464244",
   "metadata": {
    "execution": {
     "iopub.execute_input": "2022-11-08T05:07:18.731864Z",
     "iopub.status.busy": "2022-11-08T05:07:18.731393Z",
     "iopub.status.idle": "2022-11-08T05:07:18.771451Z",
     "shell.execute_reply": "2022-11-08T05:07:18.770215Z"
    },
    "papermill": {
     "duration": 0.050712,
     "end_time": "2022-11-08T05:07:18.774157",
     "exception": false,
     "start_time": "2022-11-08T05:07:18.723445",
     "status": "completed"
    },
    "tags": []
   },
   "outputs": [
    {
     "data": {
      "text/html": [
       "<div>\n",
       "<style scoped>\n",
       "    .dataframe tbody tr th:only-of-type {\n",
       "        vertical-align: middle;\n",
       "    }\n",
       "\n",
       "    .dataframe tbody tr th {\n",
       "        vertical-align: top;\n",
       "    }\n",
       "\n",
       "    .dataframe thead th {\n",
       "        text-align: right;\n",
       "    }\n",
       "</style>\n",
       "<table border=\"1\" class=\"dataframe\">\n",
       "  <thead>\n",
       "    <tr style=\"text-align: right;\">\n",
       "      <th></th>\n",
       "      <th>Age</th>\n",
       "      <th>RoomService</th>\n",
       "      <th>FoodCourt</th>\n",
       "      <th>ShoppingMall</th>\n",
       "      <th>Spa</th>\n",
       "      <th>VRDeck</th>\n",
       "    </tr>\n",
       "  </thead>\n",
       "  <tbody>\n",
       "    <tr>\n",
       "      <th>count</th>\n",
       "      <td>8514.000000</td>\n",
       "      <td>8512.000000</td>\n",
       "      <td>8510.000000</td>\n",
       "      <td>8485.000000</td>\n",
       "      <td>8510.000000</td>\n",
       "      <td>8505.000000</td>\n",
       "    </tr>\n",
       "    <tr>\n",
       "      <th>mean</th>\n",
       "      <td>28.827930</td>\n",
       "      <td>224.687617</td>\n",
       "      <td>458.077203</td>\n",
       "      <td>173.729169</td>\n",
       "      <td>311.138778</td>\n",
       "      <td>304.854791</td>\n",
       "    </tr>\n",
       "    <tr>\n",
       "      <th>std</th>\n",
       "      <td>14.489021</td>\n",
       "      <td>666.717663</td>\n",
       "      <td>1611.489240</td>\n",
       "      <td>604.696458</td>\n",
       "      <td>1136.705535</td>\n",
       "      <td>1145.717189</td>\n",
       "    </tr>\n",
       "    <tr>\n",
       "      <th>min</th>\n",
       "      <td>0.000000</td>\n",
       "      <td>0.000000</td>\n",
       "      <td>0.000000</td>\n",
       "      <td>0.000000</td>\n",
       "      <td>0.000000</td>\n",
       "      <td>0.000000</td>\n",
       "    </tr>\n",
       "    <tr>\n",
       "      <th>25%</th>\n",
       "      <td>19.000000</td>\n",
       "      <td>0.000000</td>\n",
       "      <td>0.000000</td>\n",
       "      <td>0.000000</td>\n",
       "      <td>0.000000</td>\n",
       "      <td>0.000000</td>\n",
       "    </tr>\n",
       "    <tr>\n",
       "      <th>50%</th>\n",
       "      <td>27.000000</td>\n",
       "      <td>0.000000</td>\n",
       "      <td>0.000000</td>\n",
       "      <td>0.000000</td>\n",
       "      <td>0.000000</td>\n",
       "      <td>0.000000</td>\n",
       "    </tr>\n",
       "    <tr>\n",
       "      <th>75%</th>\n",
       "      <td>38.000000</td>\n",
       "      <td>47.000000</td>\n",
       "      <td>76.000000</td>\n",
       "      <td>27.000000</td>\n",
       "      <td>59.000000</td>\n",
       "      <td>46.000000</td>\n",
       "    </tr>\n",
       "    <tr>\n",
       "      <th>max</th>\n",
       "      <td>79.000000</td>\n",
       "      <td>14327.000000</td>\n",
       "      <td>29813.000000</td>\n",
       "      <td>23492.000000</td>\n",
       "      <td>22408.000000</td>\n",
       "      <td>24133.000000</td>\n",
       "    </tr>\n",
       "  </tbody>\n",
       "</table>\n",
       "</div>"
      ],
      "text/plain": [
       "               Age   RoomService     FoodCourt  ShoppingMall           Spa  \\\n",
       "count  8514.000000   8512.000000   8510.000000   8485.000000   8510.000000   \n",
       "mean     28.827930    224.687617    458.077203    173.729169    311.138778   \n",
       "std      14.489021    666.717663   1611.489240    604.696458   1136.705535   \n",
       "min       0.000000      0.000000      0.000000      0.000000      0.000000   \n",
       "25%      19.000000      0.000000      0.000000      0.000000      0.000000   \n",
       "50%      27.000000      0.000000      0.000000      0.000000      0.000000   \n",
       "75%      38.000000     47.000000     76.000000     27.000000     59.000000   \n",
       "max      79.000000  14327.000000  29813.000000  23492.000000  22408.000000   \n",
       "\n",
       "             VRDeck  \n",
       "count   8505.000000  \n",
       "mean     304.854791  \n",
       "std     1145.717189  \n",
       "min        0.000000  \n",
       "25%        0.000000  \n",
       "50%        0.000000  \n",
       "75%       46.000000  \n",
       "max    24133.000000  "
      ]
     },
     "execution_count": 8,
     "metadata": {},
     "output_type": "execute_result"
    }
   ],
   "source": [
    "train_data.describe()"
   ]
  },
  {
   "cell_type": "code",
   "execution_count": 9,
   "id": "1b9e2853",
   "metadata": {
    "execution": {
     "iopub.execute_input": "2022-11-08T05:07:18.791345Z",
     "iopub.status.busy": "2022-11-08T05:07:18.790922Z",
     "iopub.status.idle": "2022-11-08T05:07:18.802611Z",
     "shell.execute_reply": "2022-11-08T05:07:18.801789Z"
    },
    "papermill": {
     "duration": 0.022576,
     "end_time": "2022-11-08T05:07:18.805317",
     "exception": false,
     "start_time": "2022-11-08T05:07:18.782741",
     "status": "completed"
    },
    "tags": []
   },
   "outputs": [
    {
     "name": "stdout",
     "output_type": "stream",
     "text": [
      "Earth     4602\n",
      "Europa    2131\n",
      "Mars      1759\n",
      "Name: HomePlanet, dtype: int64 \n",
      "\n",
      "False    5439\n",
      "True     3037\n",
      "Name: CryoSleep, dtype: int64 \n",
      "\n",
      "TRAPPIST-1e      5915\n",
      "55 Cancri e      1800\n",
      "PSO J318.5-22     796\n",
      "Name: Destination, dtype: int64 \n",
      "\n",
      "False    8291\n",
      "True      199\n",
      "Name: VIP, dtype: int64 \n",
      "\n"
     ]
    }
   ],
   "source": [
    "for c in ['HomePlanet', 'CryoSleep', 'Destination', 'VIP']:\n",
    "    print(train_data[c].value_counts(), \"\\n\")"
   ]
  },
  {
   "cell_type": "code",
   "execution_count": 10,
   "id": "1cb11d84",
   "metadata": {
    "execution": {
     "iopub.execute_input": "2022-11-08T05:07:18.820517Z",
     "iopub.status.busy": "2022-11-08T05:07:18.820094Z",
     "iopub.status.idle": "2022-11-08T05:07:18.881229Z",
     "shell.execute_reply": "2022-11-08T05:07:18.880115Z"
    },
    "papermill": {
     "duration": 0.071652,
     "end_time": "2022-11-08T05:07:18.883658",
     "exception": false,
     "start_time": "2022-11-08T05:07:18.812006",
     "status": "completed"
    },
    "tags": []
   },
   "outputs": [
    {
     "data": {
      "text/html": [
       "<div>\n",
       "<style scoped>\n",
       "    .dataframe tbody tr th:only-of-type {\n",
       "        vertical-align: middle;\n",
       "    }\n",
       "\n",
       "    .dataframe tbody tr th {\n",
       "        vertical-align: top;\n",
       "    }\n",
       "\n",
       "    .dataframe thead th {\n",
       "        text-align: right;\n",
       "    }\n",
       "</style>\n",
       "<table border=\"1\" class=\"dataframe\">\n",
       "  <thead>\n",
       "    <tr style=\"text-align: right;\">\n",
       "      <th></th>\n",
       "      <th>PassengerId</th>\n",
       "      <th>HomePlanet</th>\n",
       "      <th>CryoSleep</th>\n",
       "      <th>Cabin</th>\n",
       "      <th>Destination</th>\n",
       "      <th>Age</th>\n",
       "      <th>VIP</th>\n",
       "      <th>RoomService</th>\n",
       "      <th>FoodCourt</th>\n",
       "      <th>ShoppingMall</th>\n",
       "      <th>Spa</th>\n",
       "      <th>VRDeck</th>\n",
       "      <th>Name</th>\n",
       "      <th>Transported</th>\n",
       "      <th>GroupId</th>\n",
       "      <th>MemberId</th>\n",
       "      <th>CabinDeck</th>\n",
       "      <th>CabinNum</th>\n",
       "      <th>CabinSide</th>\n",
       "    </tr>\n",
       "  </thead>\n",
       "  <tbody>\n",
       "    <tr>\n",
       "      <th>0</th>\n",
       "      <td>0001_01</td>\n",
       "      <td>Europa</td>\n",
       "      <td>False</td>\n",
       "      <td>B/0/P</td>\n",
       "      <td>TRAPPIST-1e</td>\n",
       "      <td>39.0</td>\n",
       "      <td>False</td>\n",
       "      <td>0.0</td>\n",
       "      <td>0.0</td>\n",
       "      <td>0.0</td>\n",
       "      <td>0.0</td>\n",
       "      <td>0.0</td>\n",
       "      <td>Maham Ofracculy</td>\n",
       "      <td>False</td>\n",
       "      <td>0001</td>\n",
       "      <td>01</td>\n",
       "      <td>B</td>\n",
       "      <td>0</td>\n",
       "      <td>P</td>\n",
       "    </tr>\n",
       "    <tr>\n",
       "      <th>1</th>\n",
       "      <td>0002_01</td>\n",
       "      <td>Earth</td>\n",
       "      <td>False</td>\n",
       "      <td>F/0/S</td>\n",
       "      <td>TRAPPIST-1e</td>\n",
       "      <td>24.0</td>\n",
       "      <td>False</td>\n",
       "      <td>109.0</td>\n",
       "      <td>9.0</td>\n",
       "      <td>25.0</td>\n",
       "      <td>549.0</td>\n",
       "      <td>44.0</td>\n",
       "      <td>Juanna Vines</td>\n",
       "      <td>True</td>\n",
       "      <td>0002</td>\n",
       "      <td>01</td>\n",
       "      <td>F</td>\n",
       "      <td>0</td>\n",
       "      <td>S</td>\n",
       "    </tr>\n",
       "    <tr>\n",
       "      <th>2</th>\n",
       "      <td>0003_01</td>\n",
       "      <td>Europa</td>\n",
       "      <td>False</td>\n",
       "      <td>A/0/S</td>\n",
       "      <td>TRAPPIST-1e</td>\n",
       "      <td>58.0</td>\n",
       "      <td>True</td>\n",
       "      <td>43.0</td>\n",
       "      <td>3576.0</td>\n",
       "      <td>0.0</td>\n",
       "      <td>6715.0</td>\n",
       "      <td>49.0</td>\n",
       "      <td>Altark Susent</td>\n",
       "      <td>False</td>\n",
       "      <td>0003</td>\n",
       "      <td>01</td>\n",
       "      <td>A</td>\n",
       "      <td>0</td>\n",
       "      <td>S</td>\n",
       "    </tr>\n",
       "    <tr>\n",
       "      <th>3</th>\n",
       "      <td>0003_02</td>\n",
       "      <td>Europa</td>\n",
       "      <td>False</td>\n",
       "      <td>A/0/S</td>\n",
       "      <td>TRAPPIST-1e</td>\n",
       "      <td>33.0</td>\n",
       "      <td>False</td>\n",
       "      <td>0.0</td>\n",
       "      <td>1283.0</td>\n",
       "      <td>371.0</td>\n",
       "      <td>3329.0</td>\n",
       "      <td>193.0</td>\n",
       "      <td>Solam Susent</td>\n",
       "      <td>False</td>\n",
       "      <td>0003</td>\n",
       "      <td>02</td>\n",
       "      <td>A</td>\n",
       "      <td>0</td>\n",
       "      <td>S</td>\n",
       "    </tr>\n",
       "    <tr>\n",
       "      <th>4</th>\n",
       "      <td>0004_01</td>\n",
       "      <td>Earth</td>\n",
       "      <td>False</td>\n",
       "      <td>F/1/S</td>\n",
       "      <td>TRAPPIST-1e</td>\n",
       "      <td>16.0</td>\n",
       "      <td>False</td>\n",
       "      <td>303.0</td>\n",
       "      <td>70.0</td>\n",
       "      <td>151.0</td>\n",
       "      <td>565.0</td>\n",
       "      <td>2.0</td>\n",
       "      <td>Willy Santantines</td>\n",
       "      <td>True</td>\n",
       "      <td>0004</td>\n",
       "      <td>01</td>\n",
       "      <td>F</td>\n",
       "      <td>1</td>\n",
       "      <td>S</td>\n",
       "    </tr>\n",
       "  </tbody>\n",
       "</table>\n",
       "</div>"
      ],
      "text/plain": [
       "  PassengerId HomePlanet CryoSleep  Cabin  Destination   Age    VIP  \\\n",
       "0     0001_01     Europa     False  B/0/P  TRAPPIST-1e  39.0  False   \n",
       "1     0002_01      Earth     False  F/0/S  TRAPPIST-1e  24.0  False   \n",
       "2     0003_01     Europa     False  A/0/S  TRAPPIST-1e  58.0   True   \n",
       "3     0003_02     Europa     False  A/0/S  TRAPPIST-1e  33.0  False   \n",
       "4     0004_01      Earth     False  F/1/S  TRAPPIST-1e  16.0  False   \n",
       "\n",
       "   RoomService  FoodCourt  ShoppingMall     Spa  VRDeck               Name  \\\n",
       "0          0.0        0.0           0.0     0.0     0.0    Maham Ofracculy   \n",
       "1        109.0        9.0          25.0   549.0    44.0       Juanna Vines   \n",
       "2         43.0     3576.0           0.0  6715.0    49.0      Altark Susent   \n",
       "3          0.0     1283.0         371.0  3329.0   193.0       Solam Susent   \n",
       "4        303.0       70.0         151.0   565.0     2.0  Willy Santantines   \n",
       "\n",
       "   Transported GroupId MemberId CabinDeck CabinNum CabinSide  \n",
       "0        False    0001       01         B        0         P  \n",
       "1         True    0002       01         F        0         S  \n",
       "2        False    0003       01         A        0         S  \n",
       "3        False    0003       02         A        0         S  \n",
       "4         True    0004       01         F        1         S  "
      ]
     },
     "execution_count": 10,
     "metadata": {},
     "output_type": "execute_result"
    }
   ],
   "source": [
    "# separate information in PassengerID and Cabin\n",
    "train_data[['GroupId', 'MemberId']] = train_data['PassengerId'].str.split(\"_\", expand=True)\n",
    "train_data[['CabinDeck', 'CabinNum', 'CabinSide']] = train_data['Cabin'].str.split(\"/\", expand=True)\n",
    "train_data.head()"
   ]
  },
  {
   "cell_type": "code",
   "execution_count": 11,
   "id": "9630fc23",
   "metadata": {
    "execution": {
     "iopub.execute_input": "2022-11-08T05:07:18.900018Z",
     "iopub.status.busy": "2022-11-08T05:07:18.899594Z",
     "iopub.status.idle": "2022-11-08T05:07:18.913926Z",
     "shell.execute_reply": "2022-11-08T05:07:18.912404Z"
    },
    "papermill": {
     "duration": 0.025763,
     "end_time": "2022-11-08T05:07:18.916872",
     "exception": false,
     "start_time": "2022-11-08T05:07:18.891109",
     "status": "completed"
    },
    "tags": []
   },
   "outputs": [
    {
     "name": "stdout",
     "output_type": "stream",
     "text": [
      "F    2794\n",
      "G    2559\n",
      "E     876\n",
      "B     779\n",
      "C     747\n",
      "D     478\n",
      "A     256\n",
      "T       5\n",
      "Name: CabinDeck, dtype: int64 \n",
      "\n",
      "82      28\n",
      "86      22\n",
      "19      22\n",
      "56      21\n",
      "176     21\n",
      "        ..\n",
      "1644     1\n",
      "1515     1\n",
      "1639     1\n",
      "1277     1\n",
      "1894     1\n",
      "Name: CabinNum, Length: 1817, dtype: int64 \n",
      "\n",
      "S    4288\n",
      "P    4206\n",
      "Name: CabinSide, dtype: int64 \n",
      "\n"
     ]
    }
   ],
   "source": [
    "for c in ['CabinDeck', 'CabinNum', 'CabinSide']:\n",
    "    print(train_data[c].value_counts(), \"\\n\")"
   ]
  },
  {
   "cell_type": "code",
   "execution_count": 12,
   "id": "ca9ed43f",
   "metadata": {
    "execution": {
     "iopub.execute_input": "2022-11-08T05:07:18.934242Z",
     "iopub.status.busy": "2022-11-08T05:07:18.933244Z",
     "iopub.status.idle": "2022-11-08T05:07:18.944510Z",
     "shell.execute_reply": "2022-11-08T05:07:18.943363Z"
    },
    "papermill": {
     "duration": 0.022922,
     "end_time": "2022-11-08T05:07:18.947550",
     "exception": false,
     "start_time": "2022-11-08T05:07:18.924628",
     "status": "completed"
    },
    "tags": []
   },
   "outputs": [],
   "source": [
    "# create a total spending feature\n",
    "train_data['TotalSpend'] = train_data[['RoomService', 'FoodCourt', 'ShoppingMall', 'Spa', 'VRDeck']].sum(axis=1)"
   ]
  },
  {
   "cell_type": "code",
   "execution_count": 13,
   "id": "04e33a18",
   "metadata": {
    "execution": {
     "iopub.execute_input": "2022-11-08T05:07:18.967598Z",
     "iopub.status.busy": "2022-11-08T05:07:18.966281Z",
     "iopub.status.idle": "2022-11-08T05:07:19.682080Z",
     "shell.execute_reply": "2022-11-08T05:07:19.680748Z"
    },
    "papermill": {
     "duration": 0.729356,
     "end_time": "2022-11-08T05:07:19.684399",
     "exception": false,
     "start_time": "2022-11-08T05:07:18.955043",
     "status": "completed"
    },
    "tags": []
   },
   "outputs": [
    {
     "data": {
      "text/plain": [
       "Cabin           0.542320\n",
       "GroupId         0.512914\n",
       "CabinNum        0.143284\n",
       "TotalSpend      0.134451\n",
       "CryoSleep       0.112254\n",
       "Spa             0.076155\n",
       "RoomService     0.069628\n",
       "VRDeck          0.069015\n",
       "ShoppingMall    0.053327\n",
       "FoodCourt       0.047766\n",
       "CabinDeck       0.022989\n",
       "HomePlanet      0.018581\n",
       "Age             0.015319\n",
       "Destination     0.006113\n",
       "CabinSide       0.005149\n",
       "MemberId        0.004350\n",
       "VIP             0.000700\n",
       "Name: MI Scores, dtype: float64"
      ]
     },
     "execution_count": 13,
     "metadata": {},
     "output_type": "execute_result"
    }
   ],
   "source": [
    "# find mutual information scores\n",
    "\n",
    "from sklearn.feature_selection import mutual_info_classif\n",
    "from sklearn.impute import SimpleImputer\n",
    "\n",
    "mi_df = train_data.copy()\n",
    "mi_df = mi_df.drop(['PassengerId', 'Name'], axis=1)  # drop the columns with unique identifiers\n",
    "\n",
    "# impute missing values\n",
    "categ_imputer = SimpleImputer(strategy = 'most_frequent')\n",
    "num_imputer = SimpleImputer(strategy = 'constant')\n",
    "\n",
    "categ_cols = [cname for cname in mi_df.columns if mi_df[cname].dtype == \"object\"]\n",
    "num_cols = [cname for cname in mi_df.columns if mi_df[cname].dtype in ['int64', 'float64']]\n",
    "\n",
    "mi_df[categ_cols] = pd.DataFrame(categ_imputer.fit_transform(mi_df[categ_cols]))\n",
    "mi_df[num_cols] = pd.DataFrame(num_imputer.fit_transform(mi_df[num_cols]))\n",
    "\n",
    "# Label encoding for categoricals\n",
    "for colname in mi_df.select_dtypes([\"object\", \"bool\"]):\n",
    "    mi_df[colname], _ = mi_df[colname].factorize()\n",
    "    \n",
    "X = mi_df.copy()\n",
    "y = X.pop(\"Transported\")\n",
    "\n",
    "# select discrete/categorical columns\n",
    "discrete_feat = discrete_features = X.dtypes == int\n",
    "\n",
    "mi_scores = mutual_info_classif(X, y, discrete_features=discrete_feat)\n",
    "mi_scores = pd.Series(mi_scores, name=\"MI Scores\", index=X.columns)\n",
    "mi_scores = mi_scores.sort_values(ascending=False)\n",
    "mi_scores"
   ]
  },
  {
   "cell_type": "code",
   "execution_count": 14,
   "id": "98d45709",
   "metadata": {
    "execution": {
     "iopub.execute_input": "2022-11-08T05:07:19.701637Z",
     "iopub.status.busy": "2022-11-08T05:07:19.700772Z",
     "iopub.status.idle": "2022-11-08T05:07:20.028684Z",
     "shell.execute_reply": "2022-11-08T05:07:20.027554Z"
    },
    "papermill": {
     "duration": 0.339614,
     "end_time": "2022-11-08T05:07:20.031522",
     "exception": false,
     "start_time": "2022-11-08T05:07:19.691908",
     "status": "completed"
    },
    "tags": []
   },
   "outputs": [
    {
     "data": {
      "text/plain": [
       "Text(0.5, 1.0, 'Mutual Information Scores')"
      ]
     },
     "execution_count": 14,
     "metadata": {},
     "output_type": "execute_result"
    },
    {
     "data": {
      "image/png": "[encoded data removed]",
      "text/plain": [
       "<Figure size 800x500 with 1 Axes>"
      ]
     },
     "metadata": {
      "needs_background": "light"
     },
     "output_type": "display_data"
    }
   ],
   "source": [
    "# plot mutual information scores\n",
    "\n",
    "plt.figure(dpi=100, figsize=(8, 5))\n",
    "width = np.arange(len(mi_scores))\n",
    "ticks = list(mi_scores.index)\n",
    "plt.barh(width, mi_scores)\n",
    "plt.yticks(width, ticks)\n",
    "plt.title(\"Mutual Information Scores\")"
   ]
  },
  {
   "cell_type": "code",
   "execution_count": 15,
   "id": "1f0f82ff",
   "metadata": {
    "execution": {
     "iopub.execute_input": "2022-11-08T05:07:20.049849Z",
     "iopub.status.busy": "2022-11-08T05:07:20.048988Z",
     "iopub.status.idle": "2022-11-08T05:07:20.056281Z",
     "shell.execute_reply": "2022-11-08T05:07:20.054655Z"
    },
    "papermill": {
     "duration": 0.019156,
     "end_time": "2022-11-08T05:07:20.058890",
     "exception": false,
     "start_time": "2022-11-08T05:07:20.039734",
     "status": "completed"
    },
    "tags": []
   },
   "outputs": [],
   "source": [
    "# select categorical columns\n",
    "categorical_cols = [cname for cname in train_data.columns if train_data[cname].dtype == \"object\"]"
   ]
  },
  {
   "cell_type": "markdown",
   "id": "12c4514f",
   "metadata": {
    "papermill": {
     "duration": 0.007505,
     "end_time": "2022-11-08T05:07:20.074644",
     "exception": false,
     "start_time": "2022-11-08T05:07:20.067139",
     "status": "completed"
    },
    "tags": []
   },
   "source": [
    "check what TotalSpend for people in CryoSleep is (should be 0 or close to it ...)"
   ]
  },
  {
   "cell_type": "markdown",
   "id": "66f48715",
   "metadata": {
    "papermill": {
     "duration": 0.007566,
     "end_time": "2022-11-08T05:07:20.089978",
     "exception": false,
     "start_time": "2022-11-08T05:07:20.082412",
     "status": "completed"
    },
    "tags": []
   },
   "source": [
    "should GroupId and Cabin be excluded? They are close to being unique identifyers"
   ]
  },
  {
   "cell_type": "code",
   "execution_count": null,
   "id": "b1a51d64",
   "metadata": {
    "papermill": {
     "duration": 0.007788,
     "end_time": "2022-11-08T05:07:20.105728",
     "exception": false,
     "start_time": "2022-11-08T05:07:20.097940",
     "status": "completed"
    },
    "tags": []
   },
   "outputs": [],
   "source": []
  }
 ],
 "metadata": {
  "kernelspec": {
   "display_name": "Python 3",
   "language": "python",
   "name": "python3"
  },
  "language_info": {
   "codemirror_mode": {
    "name": "ipython",
    "version": 3
   },
   "file_extension": ".py",
   "mimetype": "text/x-python",
   "name": "python",
   "nbconvert_exporter": "python",
   "pygments_lexer": "ipython3",
   "version": "3.7.12"
  },
  "papermill": {
   "default_parameters": {},
   "duration": 13.160095,
   "end_time": "2022-11-08T05:07:21.037532",
   "environment_variables": {},
   "exception": null,
   "input_path": "__notebook__.ipynb",
   "output_path": "__notebook__.ipynb",
   "parameters": {},
   "start_time": "2022-11-08T05:07:07.877437",
   "version": "2.3.4"
  }
 },
 "nbformat": 4,
 "nbformat_minor": 5
}
