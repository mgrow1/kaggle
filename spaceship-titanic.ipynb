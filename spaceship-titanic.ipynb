{
 "cells": [
  {
   "cell_type": "code",
   "execution_count": 1,
   "id": "16416150",
   "metadata": {
    "_cell_guid": "b1076dfc-b9ad-4769-8c92-a6c4dae69d19",
    "_uuid": "8f2839f25d086af736a60e9eeb907d3b93b6e0e5",
    "execution": {
     "iopub.execute_input": "2022-11-08T18:19:54.106723Z",
     "iopub.status.busy": "2022-11-08T18:19:54.106247Z",
     "iopub.status.idle": "2022-11-08T18:19:55.209121Z",
     "shell.execute_reply": "2022-11-08T18:19:55.207876Z"
    },
    "papermill": {
     "duration": 1.117937,
     "end_time": "2022-11-08T18:19:55.211933",
     "exception": false,
     "start_time": "2022-11-08T18:19:54.093996",
     "status": "completed"
    },
    "tags": []
   },
   "outputs": [
    {
     "name": "stdout",
     "output_type": "stream",
     "text": [
      "/kaggle/input/spaceship-titanic/sample_submission.csv\n",
      "/kaggle/input/spaceship-titanic/train.csv\n",
      "/kaggle/input/spaceship-titanic/test.csv\n"
     ]
    }
   ],
   "source": [
    "# This Python 3 environment is defined by the kaggle/python Docker image: https://github.com/kaggle/docker-python\n",
    "\n",
    "import numpy as np \n",
    "import pandas as pd\n",
    "import matplotlib.pyplot as plt\n",
    "import seaborn as sns\n",
    "\n",
    "\n",
    "# Input data files are available in the read-only \"../input/\" directory\n",
    "\n",
    "import os\n",
    "for dirname, _, filenames in os.walk('/kaggle/input'):\n",
    "    for filename in filenames:\n",
    "        print(os.path.join(dirname, filename))\n"
   ]
  },
  {
   "cell_type": "markdown",
   "id": "ad2329bb",
   "metadata": {
    "papermill": {
     "duration": 0.005737,
     "end_time": "2022-11-08T18:19:55.223925",
     "exception": false,
     "start_time": "2022-11-08T18:19:55.218188",
     "status": "completed"
    },
    "tags": []
   },
   "source": [
    "# EDA"
   ]
  },
  {
   "cell_type": "code",
   "execution_count": 2,
   "id": "665b9276",
   "metadata": {
    "execution": {
     "iopub.execute_input": "2022-11-08T18:19:55.238028Z",
     "iopub.status.busy": "2022-11-08T18:19:55.237349Z",
     "iopub.status.idle": "2022-11-08T18:19:55.343940Z",
     "shell.execute_reply": "2022-11-08T18:19:55.342717Z"
    },
    "papermill": {
     "duration": 0.116706,
     "end_time": "2022-11-08T18:19:55.346546",
     "exception": false,
     "start_time": "2022-11-08T18:19:55.229840",
     "status": "completed"
    },
    "tags": []
   },
   "outputs": [
    {
     "data": {
      "text/html": [
       "<div>\n",
       "<style scoped>\n",
       "    .dataframe tbody tr th:only-of-type {\n",
       "        vertical-align: middle;\n",
       "    }\n",
       "\n",
       "    .dataframe tbody tr th {\n",
       "        vertical-align: top;\n",
       "    }\n",
       "\n",
       "    .dataframe thead th {\n",
       "        text-align: right;\n",
       "    }\n",
       "</style>\n",
       "<table border=\"1\" class=\"dataframe\">\n",
       "  <thead>\n",
       "    <tr style=\"text-align: right;\">\n",
       "      <th></th>\n",
       "      <th>PassengerId</th>\n",
       "      <th>HomePlanet</th>\n",
       "      <th>CryoSleep</th>\n",
       "      <th>Cabin</th>\n",
       "      <th>Destination</th>\n",
       "      <th>Age</th>\n",
       "      <th>VIP</th>\n",
       "      <th>RoomService</th>\n",
       "      <th>FoodCourt</th>\n",
       "      <th>ShoppingMall</th>\n",
       "      <th>Spa</th>\n",
       "      <th>VRDeck</th>\n",
       "      <th>Name</th>\n",
       "      <th>Transported</th>\n",
       "    </tr>\n",
       "  </thead>\n",
       "  <tbody>\n",
       "    <tr>\n",
       "      <th>0</th>\n",
       "      <td>0001_01</td>\n",
       "      <td>Europa</td>\n",
       "      <td>False</td>\n",
       "      <td>B/0/P</td>\n",
       "      <td>TRAPPIST-1e</td>\n",
       "      <td>39.0</td>\n",
       "      <td>False</td>\n",
       "      <td>0.0</td>\n",
       "      <td>0.0</td>\n",
       "      <td>0.0</td>\n",
       "      <td>0.0</td>\n",
       "      <td>0.0</td>\n",
       "      <td>Maham Ofracculy</td>\n",
       "      <td>False</td>\n",
       "    </tr>\n",
       "    <tr>\n",
       "      <th>1</th>\n",
       "      <td>0002_01</td>\n",
       "      <td>Earth</td>\n",
       "      <td>False</td>\n",
       "      <td>F/0/S</td>\n",
       "      <td>TRAPPIST-1e</td>\n",
       "      <td>24.0</td>\n",
       "      <td>False</td>\n",
       "      <td>109.0</td>\n",
       "      <td>9.0</td>\n",
       "      <td>25.0</td>\n",
       "      <td>549.0</td>\n",
       "      <td>44.0</td>\n",
       "      <td>Juanna Vines</td>\n",
       "      <td>True</td>\n",
       "    </tr>\n",
       "    <tr>\n",
       "      <th>2</th>\n",
       "      <td>0003_01</td>\n",
       "      <td>Europa</td>\n",
       "      <td>False</td>\n",
       "      <td>A/0/S</td>\n",
       "      <td>TRAPPIST-1e</td>\n",
       "      <td>58.0</td>\n",
       "      <td>True</td>\n",
       "      <td>43.0</td>\n",
       "      <td>3576.0</td>\n",
       "      <td>0.0</td>\n",
       "      <td>6715.0</td>\n",
       "      <td>49.0</td>\n",
       "      <td>Altark Susent</td>\n",
       "      <td>False</td>\n",
       "    </tr>\n",
       "    <tr>\n",
       "      <th>3</th>\n",
       "      <td>0003_02</td>\n",
       "      <td>Europa</td>\n",
       "      <td>False</td>\n",
       "      <td>A/0/S</td>\n",
       "      <td>TRAPPIST-1e</td>\n",
       "      <td>33.0</td>\n",
       "      <td>False</td>\n",
       "      <td>0.0</td>\n",
       "      <td>1283.0</td>\n",
       "      <td>371.0</td>\n",
       "      <td>3329.0</td>\n",
       "      <td>193.0</td>\n",
       "      <td>Solam Susent</td>\n",
       "      <td>False</td>\n",
       "    </tr>\n",
       "    <tr>\n",
       "      <th>4</th>\n",
       "      <td>0004_01</td>\n",
       "      <td>Earth</td>\n",
       "      <td>False</td>\n",
       "      <td>F/1/S</td>\n",
       "      <td>TRAPPIST-1e</td>\n",
       "      <td>16.0</td>\n",
       "      <td>False</td>\n",
       "      <td>303.0</td>\n",
       "      <td>70.0</td>\n",
       "      <td>151.0</td>\n",
       "      <td>565.0</td>\n",
       "      <td>2.0</td>\n",
       "      <td>Willy Santantines</td>\n",
       "      <td>True</td>\n",
       "    </tr>\n",
       "  </tbody>\n",
       "</table>\n",
       "</div>"
      ],
      "text/plain": [
       "  PassengerId HomePlanet CryoSleep  Cabin  Destination   Age    VIP  \\\n",
       "0     0001_01     Europa     False  B/0/P  TRAPPIST-1e  39.0  False   \n",
       "1     0002_01      Earth     False  F/0/S  TRAPPIST-1e  24.0  False   \n",
       "2     0003_01     Europa     False  A/0/S  TRAPPIST-1e  58.0   True   \n",
       "3     0003_02     Europa     False  A/0/S  TRAPPIST-1e  33.0  False   \n",
       "4     0004_01      Earth     False  F/1/S  TRAPPIST-1e  16.0  False   \n",
       "\n",
       "   RoomService  FoodCourt  ShoppingMall     Spa  VRDeck               Name  \\\n",
       "0          0.0        0.0           0.0     0.0     0.0    Maham Ofracculy   \n",
       "1        109.0        9.0          25.0   549.0    44.0       Juanna Vines   \n",
       "2         43.0     3576.0           0.0  6715.0    49.0      Altark Susent   \n",
       "3          0.0     1283.0         371.0  3329.0   193.0       Solam Susent   \n",
       "4        303.0       70.0         151.0   565.0     2.0  Willy Santantines   \n",
       "\n",
       "   Transported  \n",
       "0        False  \n",
       "1         True  \n",
       "2        False  \n",
       "3        False  \n",
       "4         True  "
      ]
     },
     "execution_count": 2,
     "metadata": {},
     "output_type": "execute_result"
    }
   ],
   "source": [
    "train_data = pd.read_csv(\"/kaggle/input/spaceship-titanic/train.csv\")\n",
    "test_data = pd.read_csv(\"/kaggle/input/spaceship-titanic/test.csv\")\n",
    "\n",
    "train_data.head()"
   ]
  },
  {
   "cell_type": "code",
   "execution_count": 3,
   "id": "147d9497",
   "metadata": {
    "execution": {
     "iopub.execute_input": "2022-11-08T18:19:55.361475Z",
     "iopub.status.busy": "2022-11-08T18:19:55.360666Z",
     "iopub.status.idle": "2022-11-08T18:19:55.365017Z",
     "shell.execute_reply": "2022-11-08T18:19:55.364110Z"
    },
    "papermill": {
     "duration": 0.01411,
     "end_time": "2022-11-08T18:19:55.367148",
     "exception": false,
     "start_time": "2022-11-08T18:19:55.353038",
     "status": "completed"
    },
    "tags": []
   },
   "outputs": [],
   "source": [
    "#test_data.head()"
   ]
  },
  {
   "cell_type": "code",
   "execution_count": 4,
   "id": "c3028c6d",
   "metadata": {
    "execution": {
     "iopub.execute_input": "2022-11-08T18:19:55.381510Z",
     "iopub.status.busy": "2022-11-08T18:19:55.380841Z",
     "iopub.status.idle": "2022-11-08T18:19:55.396312Z",
     "shell.execute_reply": "2022-11-08T18:19:55.394782Z"
    },
    "papermill": {
     "duration": 0.025415,
     "end_time": "2022-11-08T18:19:55.398810",
     "exception": false,
     "start_time": "2022-11-08T18:19:55.373395",
     "status": "completed"
    },
    "tags": []
   },
   "outputs": [
    {
     "name": "stdout",
     "output_type": "stream",
     "text": [
      "Training:\n",
      " (8693, 14) \n",
      "\n",
      "PassengerId       0\n",
      "HomePlanet      201\n",
      "CryoSleep       217\n",
      "Cabin           199\n",
      "Destination     182\n",
      "Age             179\n",
      "VIP             203\n",
      "RoomService     181\n",
      "FoodCourt       183\n",
      "ShoppingMall    208\n",
      "Spa             183\n",
      "VRDeck          188\n",
      "Name            200\n",
      "Transported       0\n",
      "dtype: int64 \n",
      "\n",
      "\n",
      "Test:\n",
      " (4277, 13) \n",
      "\n",
      "PassengerId       0\n",
      "HomePlanet       87\n",
      "CryoSleep        93\n",
      "Cabin           100\n",
      "Destination      92\n",
      "Age              91\n",
      "VIP              93\n",
      "RoomService      82\n",
      "FoodCourt       106\n",
      "ShoppingMall     98\n",
      "Spa             101\n",
      "VRDeck           80\n",
      "Name             94\n",
      "dtype: int64\n"
     ]
    }
   ],
   "source": [
    "# find missing values and print data dimensions\n",
    "print(\"Training:\\n\", train_data.shape, \"\\n\")\n",
    "print(train_data.isnull().sum(),\"\\n\\n\")\n",
    "print(\"Test:\\n\", test_data.shape, \"\\n\")\n",
    "print(test_data.isnull().sum())"
   ]
  },
  {
   "cell_type": "code",
   "execution_count": 5,
   "id": "d7f1b1e9",
   "metadata": {
    "execution": {
     "iopub.execute_input": "2022-11-08T18:19:55.414491Z",
     "iopub.status.busy": "2022-11-08T18:19:55.413943Z",
     "iopub.status.idle": "2022-11-08T18:19:56.075298Z",
     "shell.execute_reply": "2022-11-08T18:19:56.074167Z"
    },
    "papermill": {
     "duration": 0.672642,
     "end_time": "2022-11-08T18:19:56.077998",
     "exception": false,
     "start_time": "2022-11-08T18:19:55.405356",
     "status": "completed"
    },
    "tags": []
   },
   "outputs": [
    {
     "data": {
      "text/plain": [
       "<AxesSubplot:>"
      ]
     },
     "execution_count": 5,
     "metadata": {},
     "output_type": "execute_result"
    },
    {
     "data": {
      "image/png": "[encoded data removed]",
      "text/plain": [
       "<Figure size 800x500 with 2 Axes>"
      ]
     },
     "metadata": {
      "needs_background": "light"
     },
     "output_type": "display_data"
    }
   ],
   "source": [
    "# visualize missing values\n",
    "plt.figure(dpi=100, figsize=(8, 5))\n",
    "sns.heatmap(train_data.isnull())"
   ]
  },
  {
   "cell_type": "code",
   "execution_count": 6,
   "id": "4b7e1ee1",
   "metadata": {
    "execution": {
     "iopub.execute_input": "2022-11-08T18:19:56.094487Z",
     "iopub.status.busy": "2022-11-08T18:19:56.093866Z",
     "iopub.status.idle": "2022-11-08T18:19:56.102210Z",
     "shell.execute_reply": "2022-11-08T18:19:56.100988Z"
    },
    "papermill": {
     "duration": 0.019169,
     "end_time": "2022-11-08T18:19:56.104472",
     "exception": false,
     "start_time": "2022-11-08T18:19:56.085303",
     "status": "completed"
    },
    "tags": []
   },
   "outputs": [
    {
     "data": {
      "text/plain": [
       "PassengerId      object\n",
       "HomePlanet       object\n",
       "CryoSleep        object\n",
       "Cabin            object\n",
       "Destination      object\n",
       "Age             float64\n",
       "VIP              object\n",
       "RoomService     float64\n",
       "FoodCourt       float64\n",
       "ShoppingMall    float64\n",
       "Spa             float64\n",
       "VRDeck          float64\n",
       "Name             object\n",
       "Transported        bool\n",
       "dtype: object"
      ]
     },
     "execution_count": 6,
     "metadata": {},
     "output_type": "execute_result"
    }
   ],
   "source": [
    "train_data.dtypes"
   ]
  },
  {
   "cell_type": "code",
   "execution_count": 7,
   "id": "2fa53733",
   "metadata": {
    "execution": {
     "iopub.execute_input": "2022-11-08T18:19:56.122468Z",
     "iopub.status.busy": "2022-11-08T18:19:56.121833Z",
     "iopub.status.idle": "2022-11-08T18:19:56.145177Z",
     "shell.execute_reply": "2022-11-08T18:19:56.143870Z"
    },
    "papermill": {
     "duration": 0.036142,
     "end_time": "2022-11-08T18:19:56.147761",
     "exception": false,
     "start_time": "2022-11-08T18:19:56.111619",
     "status": "completed"
    },
    "tags": []
   },
   "outputs": [
    {
     "data": {
      "text/plain": [
       "PassengerId     8693\n",
       "HomePlanet         3\n",
       "CryoSleep          2\n",
       "Cabin           6560\n",
       "Destination        3\n",
       "Age               80\n",
       "VIP                2\n",
       "RoomService     1273\n",
       "FoodCourt       1507\n",
       "ShoppingMall    1115\n",
       "Spa             1327\n",
       "VRDeck          1306\n",
       "Name            8473\n",
       "Transported        2\n",
       "dtype: int64"
      ]
     },
     "execution_count": 7,
     "metadata": {},
     "output_type": "execute_result"
    }
   ],
   "source": [
    "train_data.nunique()"
   ]
  },
  {
   "cell_type": "code",
   "execution_count": 8,
   "id": "46c1135a",
   "metadata": {
    "execution": {
     "iopub.execute_input": "2022-11-08T18:19:56.164450Z",
     "iopub.status.busy": "2022-11-08T18:19:56.163795Z",
     "iopub.status.idle": "2022-11-08T18:19:56.202732Z",
     "shell.execute_reply": "2022-11-08T18:19:56.201224Z"
    },
    "papermill": {
     "duration": 0.050609,
     "end_time": "2022-11-08T18:19:56.205763",
     "exception": false,
     "start_time": "2022-11-08T18:19:56.155154",
     "status": "completed"
    },
    "tags": []
   },
   "outputs": [
    {
     "data": {
      "text/html": [
       "<div>\n",
       "<style scoped>\n",
       "    .dataframe tbody tr th:only-of-type {\n",
       "        vertical-align: middle;\n",
       "    }\n",
       "\n",
       "    .dataframe tbody tr th {\n",
       "        vertical-align: top;\n",
       "    }\n",
       "\n",
       "    .dataframe thead th {\n",
       "        text-align: right;\n",
       "    }\n",
       "</style>\n",
       "<table border=\"1\" class=\"dataframe\">\n",
       "  <thead>\n",
       "    <tr style=\"text-align: right;\">\n",
       "      <th></th>\n",
       "      <th>Age</th>\n",
       "      <th>RoomService</th>\n",
       "      <th>FoodCourt</th>\n",
       "      <th>ShoppingMall</th>\n",
       "      <th>Spa</th>\n",
       "      <th>VRDeck</th>\n",
       "    </tr>\n",
       "  </thead>\n",
       "  <tbody>\n",
       "    <tr>\n",
       "      <th>count</th>\n",
       "      <td>8514.000000</td>\n",
       "      <td>8512.000000</td>\n",
       "      <td>8510.000000</td>\n",
       "      <td>8485.000000</td>\n",
       "      <td>8510.000000</td>\n",
       "      <td>8505.000000</td>\n",
       "    </tr>\n",
       "    <tr>\n",
       "      <th>mean</th>\n",
       "      <td>28.827930</td>\n",
       "      <td>224.687617</td>\n",
       "      <td>458.077203</td>\n",
       "      <td>173.729169</td>\n",
       "      <td>311.138778</td>\n",
       "      <td>304.854791</td>\n",
       "    </tr>\n",
       "    <tr>\n",
       "      <th>std</th>\n",
       "      <td>14.489021</td>\n",
       "      <td>666.717663</td>\n",
       "      <td>1611.489240</td>\n",
       "      <td>604.696458</td>\n",
       "      <td>1136.705535</td>\n",
       "      <td>1145.717189</td>\n",
       "    </tr>\n",
       "    <tr>\n",
       "      <th>min</th>\n",
       "      <td>0.000000</td>\n",
       "      <td>0.000000</td>\n",
       "      <td>0.000000</td>\n",
       "      <td>0.000000</td>\n",
       "      <td>0.000000</td>\n",
       "      <td>0.000000</td>\n",
       "    </tr>\n",
       "    <tr>\n",
       "      <th>25%</th>\n",
       "      <td>19.000000</td>\n",
       "      <td>0.000000</td>\n",
       "      <td>0.000000</td>\n",
       "      <td>0.000000</td>\n",
       "      <td>0.000000</td>\n",
       "      <td>0.000000</td>\n",
       "    </tr>\n",
       "    <tr>\n",
       "      <th>50%</th>\n",
       "      <td>27.000000</td>\n",
       "      <td>0.000000</td>\n",
       "      <td>0.000000</td>\n",
       "      <td>0.000000</td>\n",
       "      <td>0.000000</td>\n",
       "      <td>0.000000</td>\n",
       "    </tr>\n",
       "    <tr>\n",
       "      <th>75%</th>\n",
       "      <td>38.000000</td>\n",
       "      <td>47.000000</td>\n",
       "      <td>76.000000</td>\n",
       "      <td>27.000000</td>\n",
       "      <td>59.000000</td>\n",
       "      <td>46.000000</td>\n",
       "    </tr>\n",
       "    <tr>\n",
       "      <th>max</th>\n",
       "      <td>79.000000</td>\n",
       "      <td>14327.000000</td>\n",
       "      <td>29813.000000</td>\n",
       "      <td>23492.000000</td>\n",
       "      <td>22408.000000</td>\n",
       "      <td>24133.000000</td>\n",
       "    </tr>\n",
       "  </tbody>\n",
       "</table>\n",
       "</div>"
      ],
      "text/plain": [
       "               Age   RoomService     FoodCourt  ShoppingMall           Spa  \\\n",
       "count  8514.000000   8512.000000   8510.000000   8485.000000   8510.000000   \n",
       "mean     28.827930    224.687617    458.077203    173.729169    311.138778   \n",
       "std      14.489021    666.717663   1611.489240    604.696458   1136.705535   \n",
       "min       0.000000      0.000000      0.000000      0.000000      0.000000   \n",
       "25%      19.000000      0.000000      0.000000      0.000000      0.000000   \n",
       "50%      27.000000      0.000000      0.000000      0.000000      0.000000   \n",
       "75%      38.000000     47.000000     76.000000     27.000000     59.000000   \n",
       "max      79.000000  14327.000000  29813.000000  23492.000000  22408.000000   \n",
       "\n",
       "             VRDeck  \n",
       "count   8505.000000  \n",
       "mean     304.854791  \n",
       "std     1145.717189  \n",
       "min        0.000000  \n",
       "25%        0.000000  \n",
       "50%        0.000000  \n",
       "75%       46.000000  \n",
       "max    24133.000000  "
      ]
     },
     "execution_count": 8,
     "metadata": {},
     "output_type": "execute_result"
    }
   ],
   "source": [
    "train_data.describe()"
   ]
  },
  {
   "cell_type": "code",
   "execution_count": 9,
   "id": "05d3700b",
   "metadata": {
    "execution": {
     "iopub.execute_input": "2022-11-08T18:19:56.223659Z",
     "iopub.status.busy": "2022-11-08T18:19:56.222878Z",
     "iopub.status.idle": "2022-11-08T18:19:56.235253Z",
     "shell.execute_reply": "2022-11-08T18:19:56.233704Z"
    },
    "papermill": {
     "duration": 0.024577,
     "end_time": "2022-11-08T18:19:56.238126",
     "exception": false,
     "start_time": "2022-11-08T18:19:56.213549",
     "status": "completed"
    },
    "tags": []
   },
   "outputs": [
    {
     "name": "stdout",
     "output_type": "stream",
     "text": [
      "Earth     4602\n",
      "Europa    2131\n",
      "Mars      1759\n",
      "Name: HomePlanet, dtype: int64 \n",
      "\n",
      "False    5439\n",
      "True     3037\n",
      "Name: CryoSleep, dtype: int64 \n",
      "\n",
      "TRAPPIST-1e      5915\n",
      "55 Cancri e      1800\n",
      "PSO J318.5-22     796\n",
      "Name: Destination, dtype: int64 \n",
      "\n",
      "False    8291\n",
      "True      199\n",
      "Name: VIP, dtype: int64 \n",
      "\n"
     ]
    }
   ],
   "source": [
    "for c in ['HomePlanet', 'CryoSleep', 'Destination', 'VIP']:\n",
    "    print(train_data[c].value_counts(), \"\\n\")"
   ]
  },
  {
   "cell_type": "markdown",
   "id": "4da13528",
   "metadata": {
    "papermill": {
     "duration": 0.007545,
     "end_time": "2022-11-08T18:19:56.253316",
     "exception": false,
     "start_time": "2022-11-08T18:19:56.245771",
     "status": "completed"
    },
    "tags": []
   },
   "source": [
    "# New Features"
   ]
  },
  {
   "cell_type": "code",
   "execution_count": 10,
   "id": "3ac4db56",
   "metadata": {
    "execution": {
     "iopub.execute_input": "2022-11-08T18:19:56.270795Z",
     "iopub.status.busy": "2022-11-08T18:19:56.269701Z",
     "iopub.status.idle": "2022-11-08T18:19:56.326060Z",
     "shell.execute_reply": "2022-11-08T18:19:56.324639Z"
    },
    "papermill": {
     "duration": 0.067571,
     "end_time": "2022-11-08T18:19:56.328482",
     "exception": false,
     "start_time": "2022-11-08T18:19:56.260911",
     "status": "completed"
    },
    "tags": []
   },
   "outputs": [
    {
     "data": {
      "text/html": [
       "<div>\n",
       "<style scoped>\n",
       "    .dataframe tbody tr th:only-of-type {\n",
       "        vertical-align: middle;\n",
       "    }\n",
       "\n",
       "    .dataframe tbody tr th {\n",
       "        vertical-align: top;\n",
       "    }\n",
       "\n",
       "    .dataframe thead th {\n",
       "        text-align: right;\n",
       "    }\n",
       "</style>\n",
       "<table border=\"1\" class=\"dataframe\">\n",
       "  <thead>\n",
       "    <tr style=\"text-align: right;\">\n",
       "      <th></th>\n",
       "      <th>PassengerId</th>\n",
       "      <th>HomePlanet</th>\n",
       "      <th>CryoSleep</th>\n",
       "      <th>Cabin</th>\n",
       "      <th>Destination</th>\n",
       "      <th>Age</th>\n",
       "      <th>VIP</th>\n",
       "      <th>RoomService</th>\n",
       "      <th>FoodCourt</th>\n",
       "      <th>ShoppingMall</th>\n",
       "      <th>Spa</th>\n",
       "      <th>VRDeck</th>\n",
       "      <th>Name</th>\n",
       "      <th>Transported</th>\n",
       "      <th>GroupId</th>\n",
       "      <th>MemberId</th>\n",
       "      <th>CabinDeck</th>\n",
       "      <th>CabinNum</th>\n",
       "      <th>CabinSide</th>\n",
       "    </tr>\n",
       "  </thead>\n",
       "  <tbody>\n",
       "    <tr>\n",
       "      <th>0</th>\n",
       "      <td>0001_01</td>\n",
       "      <td>Europa</td>\n",
       "      <td>False</td>\n",
       "      <td>B/0/P</td>\n",
       "      <td>TRAPPIST-1e</td>\n",
       "      <td>39.0</td>\n",
       "      <td>False</td>\n",
       "      <td>0.0</td>\n",
       "      <td>0.0</td>\n",
       "      <td>0.0</td>\n",
       "      <td>0.0</td>\n",
       "      <td>0.0</td>\n",
       "      <td>Maham Ofracculy</td>\n",
       "      <td>False</td>\n",
       "      <td>0001</td>\n",
       "      <td>01</td>\n",
       "      <td>B</td>\n",
       "      <td>0</td>\n",
       "      <td>P</td>\n",
       "    </tr>\n",
       "    <tr>\n",
       "      <th>1</th>\n",
       "      <td>0002_01</td>\n",
       "      <td>Earth</td>\n",
       "      <td>False</td>\n",
       "      <td>F/0/S</td>\n",
       "      <td>TRAPPIST-1e</td>\n",
       "      <td>24.0</td>\n",
       "      <td>False</td>\n",
       "      <td>109.0</td>\n",
       "      <td>9.0</td>\n",
       "      <td>25.0</td>\n",
       "      <td>549.0</td>\n",
       "      <td>44.0</td>\n",
       "      <td>Juanna Vines</td>\n",
       "      <td>True</td>\n",
       "      <td>0002</td>\n",
       "      <td>01</td>\n",
       "      <td>F</td>\n",
       "      <td>0</td>\n",
       "      <td>S</td>\n",
       "    </tr>\n",
       "    <tr>\n",
       "      <th>2</th>\n",
       "      <td>0003_01</td>\n",
       "      <td>Europa</td>\n",
       "      <td>False</td>\n",
       "      <td>A/0/S</td>\n",
       "      <td>TRAPPIST-1e</td>\n",
       "      <td>58.0</td>\n",
       "      <td>True</td>\n",
       "      <td>43.0</td>\n",
       "      <td>3576.0</td>\n",
       "      <td>0.0</td>\n",
       "      <td>6715.0</td>\n",
       "      <td>49.0</td>\n",
       "      <td>Altark Susent</td>\n",
       "      <td>False</td>\n",
       "      <td>0003</td>\n",
       "      <td>01</td>\n",
       "      <td>A</td>\n",
       "      <td>0</td>\n",
       "      <td>S</td>\n",
       "    </tr>\n",
       "    <tr>\n",
       "      <th>3</th>\n",
       "      <td>0003_02</td>\n",
       "      <td>Europa</td>\n",
       "      <td>False</td>\n",
       "      <td>A/0/S</td>\n",
       "      <td>TRAPPIST-1e</td>\n",
       "      <td>33.0</td>\n",
       "      <td>False</td>\n",
       "      <td>0.0</td>\n",
       "      <td>1283.0</td>\n",
       "      <td>371.0</td>\n",
       "      <td>3329.0</td>\n",
       "      <td>193.0</td>\n",
       "      <td>Solam Susent</td>\n",
       "      <td>False</td>\n",
       "      <td>0003</td>\n",
       "      <td>02</td>\n",
       "      <td>A</td>\n",
       "      <td>0</td>\n",
       "      <td>S</td>\n",
       "    </tr>\n",
       "    <tr>\n",
       "      <th>4</th>\n",
       "      <td>0004_01</td>\n",
       "      <td>Earth</td>\n",
       "      <td>False</td>\n",
       "      <td>F/1/S</td>\n",
       "      <td>TRAPPIST-1e</td>\n",
       "      <td>16.0</td>\n",
       "      <td>False</td>\n",
       "      <td>303.0</td>\n",
       "      <td>70.0</td>\n",
       "      <td>151.0</td>\n",
       "      <td>565.0</td>\n",
       "      <td>2.0</td>\n",
       "      <td>Willy Santantines</td>\n",
       "      <td>True</td>\n",
       "      <td>0004</td>\n",
       "      <td>01</td>\n",
       "      <td>F</td>\n",
       "      <td>1</td>\n",
       "      <td>S</td>\n",
       "    </tr>\n",
       "  </tbody>\n",
       "</table>\n",
       "</div>"
      ],
      "text/plain": [
       "  PassengerId HomePlanet CryoSleep  Cabin  Destination   Age    VIP  \\\n",
       "0     0001_01     Europa     False  B/0/P  TRAPPIST-1e  39.0  False   \n",
       "1     0002_01      Earth     False  F/0/S  TRAPPIST-1e  24.0  False   \n",
       "2     0003_01     Europa     False  A/0/S  TRAPPIST-1e  58.0   True   \n",
       "3     0003_02     Europa     False  A/0/S  TRAPPIST-1e  33.0  False   \n",
       "4     0004_01      Earth     False  F/1/S  TRAPPIST-1e  16.0  False   \n",
       "\n",
       "   RoomService  FoodCourt  ShoppingMall     Spa  VRDeck               Name  \\\n",
       "0          0.0        0.0           0.0     0.0     0.0    Maham Ofracculy   \n",
       "1        109.0        9.0          25.0   549.0    44.0       Juanna Vines   \n",
       "2         43.0     3576.0           0.0  6715.0    49.0      Altark Susent   \n",
       "3          0.0     1283.0         371.0  3329.0   193.0       Solam Susent   \n",
       "4        303.0       70.0         151.0   565.0     2.0  Willy Santantines   \n",
       "\n",
       "   Transported GroupId MemberId CabinDeck CabinNum CabinSide  \n",
       "0        False    0001       01         B        0         P  \n",
       "1         True    0002       01         F        0         S  \n",
       "2        False    0003       01         A        0         S  \n",
       "3        False    0003       02         A        0         S  \n",
       "4         True    0004       01         F        1         S  "
      ]
     },
     "execution_count": 10,
     "metadata": {},
     "output_type": "execute_result"
    }
   ],
   "source": [
    "# separate information in PassengerID and Cabin\n",
    "train_data[['GroupId', 'MemberId']] = train_data['PassengerId'].str.split(\"_\", expand=True)\n",
    "train_data[['CabinDeck', 'CabinNum', 'CabinSide']] = train_data['Cabin'].str.split(\"/\", expand=True)\n",
    "train_data.head()"
   ]
  },
  {
   "cell_type": "code",
   "execution_count": 11,
   "id": "e8e1ad24",
   "metadata": {
    "execution": {
     "iopub.execute_input": "2022-11-08T18:19:56.347279Z",
     "iopub.status.busy": "2022-11-08T18:19:56.346055Z",
     "iopub.status.idle": "2022-11-08T18:19:56.358093Z",
     "shell.execute_reply": "2022-11-08T18:19:56.357191Z"
    },
    "papermill": {
     "duration": 0.024413,
     "end_time": "2022-11-08T18:19:56.361033",
     "exception": false,
     "start_time": "2022-11-08T18:19:56.336620",
     "status": "completed"
    },
    "tags": []
   },
   "outputs": [
    {
     "name": "stdout",
     "output_type": "stream",
     "text": [
      "F    2794\n",
      "G    2559\n",
      "E     876\n",
      "B     779\n",
      "C     747\n",
      "D     478\n",
      "A     256\n",
      "T       5\n",
      "Name: CabinDeck, dtype: int64 \n",
      "\n",
      "82      28\n",
      "86      22\n",
      "19      22\n",
      "56      21\n",
      "176     21\n",
      "        ..\n",
      "1644     1\n",
      "1515     1\n",
      "1639     1\n",
      "1277     1\n",
      "1894     1\n",
      "Name: CabinNum, Length: 1817, dtype: int64 \n",
      "\n",
      "S    4288\n",
      "P    4206\n",
      "Name: CabinSide, dtype: int64 \n",
      "\n"
     ]
    }
   ],
   "source": [
    "for c in ['CabinDeck', 'CabinNum', 'CabinSide']:\n",
    "    print(train_data[c].value_counts(), \"\\n\")"
   ]
  },
  {
   "cell_type": "code",
   "execution_count": 12,
   "id": "31ecd8b5",
   "metadata": {
    "execution": {
     "iopub.execute_input": "2022-11-08T18:19:56.380466Z",
     "iopub.status.busy": "2022-11-08T18:19:56.379780Z",
     "iopub.status.idle": "2022-11-08T18:19:56.389595Z",
     "shell.execute_reply": "2022-11-08T18:19:56.388171Z"
    },
    "papermill": {
     "duration": 0.021876,
     "end_time": "2022-11-08T18:19:56.392145",
     "exception": false,
     "start_time": "2022-11-08T18:19:56.370269",
     "status": "completed"
    },
    "tags": []
   },
   "outputs": [],
   "source": [
    "# create a total spending feature\n",
    "train_data['TotalSpend'] = train_data[['RoomService', 'FoodCourt', 'ShoppingMall', 'Spa', 'VRDeck']].sum(axis=1)"
   ]
  },
  {
   "cell_type": "code",
   "execution_count": 13,
   "id": "6ba11e75",
   "metadata": {
    "execution": {
     "iopub.execute_input": "2022-11-08T18:19:56.410426Z",
     "iopub.status.busy": "2022-11-08T18:19:56.410018Z",
     "iopub.status.idle": "2022-11-08T18:19:57.128817Z",
     "shell.execute_reply": "2022-11-08T18:19:57.127711Z"
    },
    "papermill": {
     "duration": 0.730665,
     "end_time": "2022-11-08T18:19:57.131212",
     "exception": false,
     "start_time": "2022-11-08T18:19:56.400547",
     "status": "completed"
    },
    "tags": []
   },
   "outputs": [
    {
     "data": {
      "text/plain": [
       "Cabin           0.542320\n",
       "GroupId         0.512914\n",
       "CabinNum        0.143284\n",
       "TotalSpend      0.131560\n",
       "CryoSleep       0.112254\n",
       "RoomService     0.074401\n",
       "Spa             0.067174\n",
       "VRDeck          0.065130\n",
       "ShoppingMall    0.054414\n",
       "FoodCourt       0.044424\n",
       "CabinDeck       0.022989\n",
       "HomePlanet      0.018581\n",
       "Age             0.011577\n",
       "Destination     0.006113\n",
       "CabinSide       0.005149\n",
       "MemberId        0.004350\n",
       "VIP             0.000700\n",
       "Name: MI Scores, dtype: float64"
      ]
     },
     "execution_count": 13,
     "metadata": {},
     "output_type": "execute_result"
    }
   ],
   "source": [
    "# find mutual information scores\n",
    "\n",
    "from sklearn.feature_selection import mutual_info_classif\n",
    "from sklearn.impute import SimpleImputer\n",
    "\n",
    "mi_df = train_data.copy()\n",
    "mi_df = mi_df.drop(['PassengerId', 'Name'], axis=1)  # drop the columns with unique identifiers\n",
    "\n",
    "# impute missing values\n",
    "categ_imputer = SimpleImputer(strategy = 'most_frequent')\n",
    "num_imputer = SimpleImputer(strategy = 'constant')\n",
    "\n",
    "categ_cols = [cname for cname in mi_df.columns if mi_df[cname].dtype == \"object\"]\n",
    "num_cols = [cname for cname in mi_df.columns if mi_df[cname].dtype in ['int64', 'float64']]\n",
    "\n",
    "mi_df[categ_cols] = pd.DataFrame(categ_imputer.fit_transform(mi_df[categ_cols]))\n",
    "mi_df[num_cols] = pd.DataFrame(num_imputer.fit_transform(mi_df[num_cols]))\n",
    "\n",
    "# Label encoding for categoricals\n",
    "for colname in mi_df.select_dtypes([\"object\", \"bool\"]):\n",
    "    mi_df[colname], _ = mi_df[colname].factorize()\n",
    "    \n",
    "X = mi_df.copy()\n",
    "y = X.pop(\"Transported\")\n",
    "\n",
    "# select discrete/categorical columns\n",
    "discrete_feat = discrete_features = X.dtypes == int\n",
    "\n",
    "mi_scores = mutual_info_classif(X, y, discrete_features=discrete_feat)\n",
    "mi_scores = pd.Series(mi_scores, name=\"MI Scores\", index=X.columns)\n",
    "mi_scores = mi_scores.sort_values(ascending=False)\n",
    "mi_scores"
   ]
  },
  {
   "cell_type": "code",
   "execution_count": 14,
   "id": "42ee751f",
   "metadata": {
    "execution": {
     "iopub.execute_input": "2022-11-08T18:19:57.149494Z",
     "iopub.status.busy": "2022-11-08T18:19:57.149104Z",
     "iopub.status.idle": "2022-11-08T18:19:57.408358Z",
     "shell.execute_reply": "2022-11-08T18:19:57.407213Z"
    },
    "papermill": {
     "duration": 0.271544,
     "end_time": "2022-11-08T18:19:57.411051",
     "exception": false,
     "start_time": "2022-11-08T18:19:57.139507",
     "status": "completed"
    },
    "tags": []
   },
   "outputs": [
    {
     "data": {
      "text/plain": [
       "Text(0.5, 1.0, 'Mutual Information Scores')"
      ]
     },
     "execution_count": 14,
     "metadata": {},
     "output_type": "execute_result"
    },
    {
     "data": {
      "image/png": "[encoded data removed]",
      "text/plain": [
       "<Figure size 800x500 with 1 Axes>"
      ]
     },
     "metadata": {
      "needs_background": "light"
     },
     "output_type": "display_data"
    }
   ],
   "source": [
    "# plot mutual information scores\n",
    "\n",
    "plt.figure(dpi=100, figsize=(8, 5))\n",
    "width = np.arange(len(mi_scores))\n",
    "ticks = list(mi_scores.index)\n",
    "plt.barh(width, mi_scores)\n",
    "plt.yticks(width, ticks)\n",
    "plt.title(\"Mutual Information Scores\")"
   ]
  },
  {
   "cell_type": "code",
   "execution_count": 15,
   "id": "04d707e0",
   "metadata": {
    "execution": {
     "iopub.execute_input": "2022-11-08T18:19:57.430520Z",
     "iopub.status.busy": "2022-11-08T18:19:57.430118Z",
     "iopub.status.idle": "2022-11-08T18:19:57.456131Z",
     "shell.execute_reply": "2022-11-08T18:19:57.455006Z"
    },
    "papermill": {
     "duration": 0.038604,
     "end_time": "2022-11-08T18:19:57.458675",
     "exception": false,
     "start_time": "2022-11-08T18:19:57.420071",
     "status": "completed"
    },
    "tags": []
   },
   "outputs": [
    {
     "data": {
      "text/html": [
       "<div>\n",
       "<style scoped>\n",
       "    .dataframe tbody tr th:only-of-type {\n",
       "        vertical-align: middle;\n",
       "    }\n",
       "\n",
       "    .dataframe tbody tr th {\n",
       "        vertical-align: top;\n",
       "    }\n",
       "\n",
       "    .dataframe thead th {\n",
       "        text-align: right;\n",
       "    }\n",
       "</style>\n",
       "<table border=\"1\" class=\"dataframe\">\n",
       "  <thead>\n",
       "    <tr style=\"text-align: right;\">\n",
       "      <th></th>\n",
       "      <th>count</th>\n",
       "      <th>mean</th>\n",
       "      <th>std</th>\n",
       "      <th>min</th>\n",
       "      <th>25%</th>\n",
       "      <th>50%</th>\n",
       "      <th>75%</th>\n",
       "      <th>max</th>\n",
       "    </tr>\n",
       "    <tr>\n",
       "      <th>CryoSleep</th>\n",
       "      <th></th>\n",
       "      <th></th>\n",
       "      <th></th>\n",
       "      <th></th>\n",
       "      <th></th>\n",
       "      <th></th>\n",
       "      <th></th>\n",
       "      <th></th>\n",
       "    </tr>\n",
       "  </thead>\n",
       "  <tbody>\n",
       "    <tr>\n",
       "      <th>False</th>\n",
       "      <td>5439.0</td>\n",
       "      <td>2248.299687</td>\n",
       "      <td>3245.061489</td>\n",
       "      <td>0.0</td>\n",
       "      <td>746.0</td>\n",
       "      <td>1019.0</td>\n",
       "      <td>2416.0</td>\n",
       "      <td>35987.0</td>\n",
       "    </tr>\n",
       "    <tr>\n",
       "      <th>True</th>\n",
       "      <td>3037.0</td>\n",
       "      <td>0.000000</td>\n",
       "      <td>0.000000</td>\n",
       "      <td>0.0</td>\n",
       "      <td>0.0</td>\n",
       "      <td>0.0</td>\n",
       "      <td>0.0</td>\n",
       "      <td>0.0</td>\n",
       "    </tr>\n",
       "  </tbody>\n",
       "</table>\n",
       "</div>"
      ],
      "text/plain": [
       "            count         mean          std  min    25%     50%     75%  \\\n",
       "CryoSleep                                                                 \n",
       "False      5439.0  2248.299687  3245.061489  0.0  746.0  1019.0  2416.0   \n",
       "True       3037.0     0.000000     0.000000  0.0    0.0     0.0     0.0   \n",
       "\n",
       "               max  \n",
       "CryoSleep           \n",
       "False      35987.0  \n",
       "True           0.0  "
      ]
     },
     "execution_count": 15,
     "metadata": {},
     "output_type": "execute_result"
    }
   ],
   "source": [
    "#check that people in CryoSleep are not spending money\n",
    "train_data.groupby('CryoSleep')['TotalSpend'].describe()"
   ]
  },
  {
   "cell_type": "code",
   "execution_count": 16,
   "id": "545106e4",
   "metadata": {
    "execution": {
     "iopub.execute_input": "2022-11-08T18:19:57.478442Z",
     "iopub.status.busy": "2022-11-08T18:19:57.478059Z",
     "iopub.status.idle": "2022-11-08T18:19:57.484020Z",
     "shell.execute_reply": "2022-11-08T18:19:57.482790Z"
    },
    "papermill": {
     "duration": 0.018641,
     "end_time": "2022-11-08T18:19:57.486391",
     "exception": false,
     "start_time": "2022-11-08T18:19:57.467750",
     "status": "completed"
    },
    "tags": []
   },
   "outputs": [],
   "source": [
    "# select categorical columns\n",
    "categorical_cols = [cname for cname in train_data.columns if train_data[cname].dtype == \"object\"]"
   ]
  },
  {
   "cell_type": "markdown",
   "id": "5fe863e2",
   "metadata": {
    "papermill": {
     "duration": 0.008529,
     "end_time": "2022-11-08T18:19:57.503875",
     "exception": false,
     "start_time": "2022-11-08T18:19:57.495346",
     "status": "completed"
    },
    "tags": []
   },
   "source": [
    "should GroupId and Cabin be excluded? They are close to being unique identifyers"
   ]
  },
  {
   "cell_type": "markdown",
   "id": "dba2dead",
   "metadata": {
    "papermill": {
     "duration": 0.0086,
     "end_time": "2022-11-08T18:19:57.521441",
     "exception": false,
     "start_time": "2022-11-08T18:19:57.512841",
     "status": "completed"
    },
    "tags": []
   },
   "source": [
    "# Models"
   ]
  },
  {
   "cell_type": "code",
   "execution_count": 17,
   "id": "95a7f36d",
   "metadata": {
    "execution": {
     "iopub.execute_input": "2022-11-08T18:19:57.541244Z",
     "iopub.status.busy": "2022-11-08T18:19:57.540862Z",
     "iopub.status.idle": "2022-11-08T18:19:57.753946Z",
     "shell.execute_reply": "2022-11-08T18:19:57.752689Z"
    },
    "papermill": {
     "duration": 0.226564,
     "end_time": "2022-11-08T18:19:57.756900",
     "exception": false,
     "start_time": "2022-11-08T18:19:57.530336",
     "status": "completed"
    },
    "tags": []
   },
   "outputs": [],
   "source": [
    "from sklearn.compose import ColumnTransformer\n",
    "from sklearn.pipeline import Pipeline\n",
    "from sklearn.impute import SimpleImputer\n",
    "from sklearn.preprocessing import OneHotEncoder\n",
    "from xgboost import XGBClassifier\n",
    "from sklearn.ensemble import RandomForestClassifier\n",
    "from sklearn.metrics import accuracy_score\n",
    "from sklearn.model_selection import GridSearchCV\n",
    "\n",
    "# Identify predictors to be used\n",
    "features = ['HomePlanet', 'CryoSleep', 'Destination', 'Age',\n",
    "            'GroupId', 'MemberId', 'CabinDeck', 'CabinNum',\n",
    "            'CabinSide', 'TotalSpend'] \n",
    "\n",
    "# Separate target from predictors (target has no missing values)\n",
    "y = train_data.Transported\n",
    "X = train_data[features]\n",
    "\n",
    "# select categorical columns\n",
    "categorical_cols = [cname for cname in X.columns if X[cname].dtype == \"object\"]\n",
    "\n",
    "# Select numerical columns\n",
    "numerical_cols = [cname for cname in X.columns if X[cname].dtype in ['int64', 'float64']]\n",
    "\n",
    "\n",
    "# Preprocessing for numerical data\n",
    "numerical_transformer = SimpleImputer(strategy='constant')\n",
    "\n",
    "# Preprocessing for categorical data\n",
    "categorical_transformer = Pipeline(steps=[\n",
    "    ('imputer', SimpleImputer(strategy='most_frequent')),\n",
    "    ('onehot', OneHotEncoder(handle_unknown='ignore'))\n",
    "])\n",
    "\n",
    "# Bundle preprocessing for numerical and categorical data\n",
    "preprocessor = ColumnTransformer(\n",
    "    transformers=[\n",
    "        ('num', numerical_transformer, numerical_cols),\n",
    "        ('cat', categorical_transformer, categorical_cols)\n",
    "    ])\n",
    "\n",
    "# define the xgb model\n",
    "xgb_model = XGBClassifier()\n",
    "\n",
    "n_est = np.arange(100, 1050, step = 50).tolist()\n",
    "learn_rate = np.arange(0.05, 0.2, step = 0.05).tolist()\n",
    "parameters = {'n_estimators': n_est,\n",
    "             'learning_rate': learn_rate}\n",
    "\n",
    "my_xgb_model = GridSearchCV(xgb_model, \n",
    "                            param_grid=parameters,\n",
    "                            scoring='accuracy')\n",
    "\n",
    "\n",
    "# Define the random forest model\n",
    "rf_model = RandomForestClassifier()\n",
    "\n",
    "max_depths = np.arange(1, 10).tolist()\n",
    "n_est = np.arange(20, 200, step = 20).tolist()\n",
    "parameters = {'n_estimators': n_est, \n",
    "              'max_depth': max_depths}\n",
    "\n",
    "my_rf_model = GridSearchCV(rf_model, param_grid=parameters, \n",
    "                           scoring='accuracy')\n",
    "\n",
    "\n",
    "# Bundle preprocessing and modeling code in a pipeline for xbg model\n",
    "my_xgb_pipeline = Pipeline(steps=[('preprocessor', preprocessor),\n",
    "                                  ('model', xgb_model)\n",
    "                                 ])\n",
    "\n",
    "# Bundle preprocessing and modeling code in a pipeline for xbg model\n",
    "my_rf_pipeline = Pipeline(steps=[('preprocessor', preprocessor),\n",
    "                                 ('model', my_rf_model)\n",
    "                                ])"
   ]
  },
  {
   "cell_type": "code",
   "execution_count": 18,
   "id": "076e6b28",
   "metadata": {
    "execution": {
     "iopub.execute_input": "2022-11-08T18:19:57.777494Z",
     "iopub.status.busy": "2022-11-08T18:19:57.776801Z",
     "iopub.status.idle": "2022-11-08T18:19:58.956459Z",
     "shell.execute_reply": "2022-11-08T18:19:58.955544Z"
    },
    "papermill": {
     "duration": 1.193082,
     "end_time": "2022-11-08T18:19:58.959401",
     "exception": false,
     "start_time": "2022-11-08T18:19:57.766319",
     "status": "completed"
    },
    "tags": []
   },
   "outputs": [
    {
     "name": "stdout",
     "output_type": "stream",
     "text": [
      "Train Set Accuracy: 0.796\n"
     ]
    }
   ],
   "source": [
    "# Preprocess training data, fit model \n",
    "my_xgb_pipeline.fit(X, y)\n",
    "\n",
    "# get predictions\n",
    "preds = my_xgb_pipeline.predict(X)\n",
    "\n",
    "# Evaluate the model\n",
    "print('Train Set Accuracy: {:.3f}'.format(accuracy_score(y, preds)))"
   ]
  },
  {
   "cell_type": "code",
   "execution_count": 19,
   "id": "59b10a0e",
   "metadata": {
    "execution": {
     "iopub.execute_input": "2022-11-08T18:19:58.982436Z",
     "iopub.status.busy": "2022-11-08T18:19:58.982049Z",
     "iopub.status.idle": "2022-11-08T18:19:58.986234Z",
     "shell.execute_reply": "2022-11-08T18:19:58.985400Z"
    },
    "papermill": {
     "duration": 0.017022,
     "end_time": "2022-11-08T18:19:58.988280",
     "exception": false,
     "start_time": "2022-11-08T18:19:58.971258",
     "status": "completed"
    },
    "tags": []
   },
   "outputs": [],
   "source": [
    "# Preprocess training data, fit model \n",
    "#my_rf_pipeline.fit(X, y)\n",
    "\n",
    "# get predictions\n",
    "#preds = my_rf_pipeline.predict(X)\n",
    "\n",
    "# Evaluate the model\n",
    "#print('Train Set Accuracy: {:.3f}'.format(accuracy_score(y, preds)))"
   ]
  },
  {
   "cell_type": "code",
   "execution_count": 20,
   "id": "add3a0c5",
   "metadata": {
    "execution": {
     "iopub.execute_input": "2022-11-08T18:19:59.008556Z",
     "iopub.status.busy": "2022-11-08T18:19:59.008158Z",
     "iopub.status.idle": "2022-11-08T18:19:59.013039Z",
     "shell.execute_reply": "2022-11-08T18:19:59.011852Z"
    },
    "papermill": {
     "duration": 0.017718,
     "end_time": "2022-11-08T18:19:59.015422",
     "exception": false,
     "start_time": "2022-11-08T18:19:58.997704",
     "status": "completed"
    },
    "tags": []
   },
   "outputs": [],
   "source": [
    "# make predictions on the test data for submission\n",
    "\n",
    "#X_test = test_data[features]\n",
    "#predictions = my_??_pipeline.predict(X_test)\n",
    "\n",
    "#output = pd.DataFrame({'PassengerId': test_data.PassengerId, 'Transported': predictions})\n",
    "#output.to_csv('submission.csv', index=False)"
   ]
  }
 ],
 "metadata": {
  "kernelspec": {
   "display_name": "Python 3",
   "language": "python",
   "name": "python3"
  },
  "language_info": {
   "codemirror_mode": {
    "name": "ipython",
    "version": 3
   },
   "file_extension": ".py",
   "mimetype": "text/x-python",
   "name": "python",
   "nbconvert_exporter": "python",
   "pygments_lexer": "ipython3",
   "version": "3.7.12"
  },
  "papermill": {
   "default_parameters": {},
   "duration": 14.19208,
   "end_time": "2022-11-08T18:19:59.747611",
   "environment_variables": {},
   "exception": null,
   "input_path": "__notebook__.ipynb",
   "output_path": "__notebook__.ipynb",
   "parameters": {},
   "start_time": "2022-11-08T18:19:45.555531",
   "version": "2.3.4"
  }
 },
 "nbformat": 4,
 "nbformat_minor": 5
}
