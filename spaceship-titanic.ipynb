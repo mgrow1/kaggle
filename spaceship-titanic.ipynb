{
 "cells": [
  {
   "cell_type": "code",
   "execution_count": 1,
   "id": "38132745",
   "metadata": {
    "_cell_guid": "b1076dfc-b9ad-4769-8c92-a6c4dae69d19",
    "_uuid": "8f2839f25d086af736a60e9eeb907d3b93b6e0e5",
    "execution": {
     "iopub.execute_input": "2022-11-08T19:37:12.747278Z",
     "iopub.status.busy": "2022-11-08T19:37:12.746733Z",
     "iopub.status.idle": "2022-11-08T19:37:13.880570Z",
     "shell.execute_reply": "2022-11-08T19:37:13.879257Z"
    },
    "papermill": {
     "duration": 1.145994,
     "end_time": "2022-11-08T19:37:13.883290",
     "exception": false,
     "start_time": "2022-11-08T19:37:12.737296",
     "status": "completed"
    },
    "tags": []
   },
   "outputs": [
    {
     "name": "stdout",
     "output_type": "stream",
     "text": [
      "/kaggle/input/spaceship-titanic/sample_submission.csv\n",
      "/kaggle/input/spaceship-titanic/train.csv\n",
      "/kaggle/input/spaceship-titanic/test.csv\n"
     ]
    }
   ],
   "source": [
    "# This Python 3 environment is defined by the kaggle/python Docker image: https://github.com/kaggle/docker-python\n",
    "\n",
    "import numpy as np \n",
    "import pandas as pd\n",
    "import matplotlib.pyplot as plt\n",
    "import seaborn as sns\n",
    "\n",
    "\n",
    "# Input data files are available in the read-only \"../input/\" directory\n",
    "\n",
    "import os\n",
    "for dirname, _, filenames in os.walk('/kaggle/input'):\n",
    "    for filename in filenames:\n",
    "        print(os.path.join(dirname, filename))\n"
   ]
  },
  {
   "cell_type": "markdown",
   "id": "7ac51df5",
   "metadata": {
    "papermill": {
     "duration": 0.006103,
     "end_time": "2022-11-08T19:37:13.896019",
     "exception": false,
     "start_time": "2022-11-08T19:37:13.889916",
     "status": "completed"
    },
    "tags": []
   },
   "source": [
    "# EDA"
   ]
  },
  {
   "cell_type": "code",
   "execution_count": 2,
   "id": "698eeef5",
   "metadata": {
    "execution": {
     "iopub.execute_input": "2022-11-08T19:37:13.910864Z",
     "iopub.status.busy": "2022-11-08T19:37:13.910186Z",
     "iopub.status.idle": "2022-11-08T19:37:14.022309Z",
     "shell.execute_reply": "2022-11-08T19:37:14.021087Z"
    },
    "papermill": {
     "duration": 0.122638,
     "end_time": "2022-11-08T19:37:14.024841",
     "exception": false,
     "start_time": "2022-11-08T19:37:13.902203",
     "status": "completed"
    },
    "tags": []
   },
   "outputs": [
    {
     "data": {
      "text/html": [
       "<div>\n",
       "<style scoped>\n",
       "    .dataframe tbody tr th:only-of-type {\n",
       "        vertical-align: middle;\n",
       "    }\n",
       "\n",
       "    .dataframe tbody tr th {\n",
       "        vertical-align: top;\n",
       "    }\n",
       "\n",
       "    .dataframe thead th {\n",
       "        text-align: right;\n",
       "    }\n",
       "</style>\n",
       "<table border=\"1\" class=\"dataframe\">\n",
       "  <thead>\n",
       "    <tr style=\"text-align: right;\">\n",
       "      <th></th>\n",
       "      <th>PassengerId</th>\n",
       "      <th>HomePlanet</th>\n",
       "      <th>CryoSleep</th>\n",
       "      <th>Cabin</th>\n",
       "      <th>Destination</th>\n",
       "      <th>Age</th>\n",
       "      <th>VIP</th>\n",
       "      <th>RoomService</th>\n",
       "      <th>FoodCourt</th>\n",
       "      <th>ShoppingMall</th>\n",
       "      <th>Spa</th>\n",
       "      <th>VRDeck</th>\n",
       "      <th>Name</th>\n",
       "      <th>Transported</th>\n",
       "    </tr>\n",
       "  </thead>\n",
       "  <tbody>\n",
       "    <tr>\n",
       "      <th>0</th>\n",
       "      <td>0001_01</td>\n",
       "      <td>Europa</td>\n",
       "      <td>False</td>\n",
       "      <td>B/0/P</td>\n",
       "      <td>TRAPPIST-1e</td>\n",
       "      <td>39.0</td>\n",
       "      <td>False</td>\n",
       "      <td>0.0</td>\n",
       "      <td>0.0</td>\n",
       "      <td>0.0</td>\n",
       "      <td>0.0</td>\n",
       "      <td>0.0</td>\n",
       "      <td>Maham Ofracculy</td>\n",
       "      <td>False</td>\n",
       "    </tr>\n",
       "    <tr>\n",
       "      <th>1</th>\n",
       "      <td>0002_01</td>\n",
       "      <td>Earth</td>\n",
       "      <td>False</td>\n",
       "      <td>F/0/S</td>\n",
       "      <td>TRAPPIST-1e</td>\n",
       "      <td>24.0</td>\n",
       "      <td>False</td>\n",
       "      <td>109.0</td>\n",
       "      <td>9.0</td>\n",
       "      <td>25.0</td>\n",
       "      <td>549.0</td>\n",
       "      <td>44.0</td>\n",
       "      <td>Juanna Vines</td>\n",
       "      <td>True</td>\n",
       "    </tr>\n",
       "    <tr>\n",
       "      <th>2</th>\n",
       "      <td>0003_01</td>\n",
       "      <td>Europa</td>\n",
       "      <td>False</td>\n",
       "      <td>A/0/S</td>\n",
       "      <td>TRAPPIST-1e</td>\n",
       "      <td>58.0</td>\n",
       "      <td>True</td>\n",
       "      <td>43.0</td>\n",
       "      <td>3576.0</td>\n",
       "      <td>0.0</td>\n",
       "      <td>6715.0</td>\n",
       "      <td>49.0</td>\n",
       "      <td>Altark Susent</td>\n",
       "      <td>False</td>\n",
       "    </tr>\n",
       "    <tr>\n",
       "      <th>3</th>\n",
       "      <td>0003_02</td>\n",
       "      <td>Europa</td>\n",
       "      <td>False</td>\n",
       "      <td>A/0/S</td>\n",
       "      <td>TRAPPIST-1e</td>\n",
       "      <td>33.0</td>\n",
       "      <td>False</td>\n",
       "      <td>0.0</td>\n",
       "      <td>1283.0</td>\n",
       "      <td>371.0</td>\n",
       "      <td>3329.0</td>\n",
       "      <td>193.0</td>\n",
       "      <td>Solam Susent</td>\n",
       "      <td>False</td>\n",
       "    </tr>\n",
       "    <tr>\n",
       "      <th>4</th>\n",
       "      <td>0004_01</td>\n",
       "      <td>Earth</td>\n",
       "      <td>False</td>\n",
       "      <td>F/1/S</td>\n",
       "      <td>TRAPPIST-1e</td>\n",
       "      <td>16.0</td>\n",
       "      <td>False</td>\n",
       "      <td>303.0</td>\n",
       "      <td>70.0</td>\n",
       "      <td>151.0</td>\n",
       "      <td>565.0</td>\n",
       "      <td>2.0</td>\n",
       "      <td>Willy Santantines</td>\n",
       "      <td>True</td>\n",
       "    </tr>\n",
       "  </tbody>\n",
       "</table>\n",
       "</div>"
      ],
      "text/plain": [
       "  PassengerId HomePlanet CryoSleep  Cabin  Destination   Age    VIP  \\\n",
       "0     0001_01     Europa     False  B/0/P  TRAPPIST-1e  39.0  False   \n",
       "1     0002_01      Earth     False  F/0/S  TRAPPIST-1e  24.0  False   \n",
       "2     0003_01     Europa     False  A/0/S  TRAPPIST-1e  58.0   True   \n",
       "3     0003_02     Europa     False  A/0/S  TRAPPIST-1e  33.0  False   \n",
       "4     0004_01      Earth     False  F/1/S  TRAPPIST-1e  16.0  False   \n",
       "\n",
       "   RoomService  FoodCourt  ShoppingMall     Spa  VRDeck               Name  \\\n",
       "0          0.0        0.0           0.0     0.0     0.0    Maham Ofracculy   \n",
       "1        109.0        9.0          25.0   549.0    44.0       Juanna Vines   \n",
       "2         43.0     3576.0           0.0  6715.0    49.0      Altark Susent   \n",
       "3          0.0     1283.0         371.0  3329.0   193.0       Solam Susent   \n",
       "4        303.0       70.0         151.0   565.0     2.0  Willy Santantines   \n",
       "\n",
       "   Transported  \n",
       "0        False  \n",
       "1         True  \n",
       "2        False  \n",
       "3        False  \n",
       "4         True  "
      ]
     },
     "execution_count": 2,
     "metadata": {},
     "output_type": "execute_result"
    }
   ],
   "source": [
    "train_data = pd.read_csv(\"/kaggle/input/spaceship-titanic/train.csv\")\n",
    "test_data = pd.read_csv(\"/kaggle/input/spaceship-titanic/test.csv\")\n",
    "\n",
    "train_data.head()"
   ]
  },
  {
   "cell_type": "code",
   "execution_count": 3,
   "id": "f461f15a",
   "metadata": {
    "execution": {
     "iopub.execute_input": "2022-11-08T19:37:14.039932Z",
     "iopub.status.busy": "2022-11-08T19:37:14.039207Z",
     "iopub.status.idle": "2022-11-08T19:37:14.044196Z",
     "shell.execute_reply": "2022-11-08T19:37:14.043295Z"
    },
    "papermill": {
     "duration": 0.015066,
     "end_time": "2022-11-08T19:37:14.046427",
     "exception": false,
     "start_time": "2022-11-08T19:37:14.031361",
     "status": "completed"
    },
    "tags": []
   },
   "outputs": [],
   "source": [
    "#test_data.head()"
   ]
  },
  {
   "cell_type": "code",
   "execution_count": 4,
   "id": "1d5c08df",
   "metadata": {
    "execution": {
     "iopub.execute_input": "2022-11-08T19:37:14.061729Z",
     "iopub.status.busy": "2022-11-08T19:37:14.060950Z",
     "iopub.status.idle": "2022-11-08T19:37:14.077979Z",
     "shell.execute_reply": "2022-11-08T19:37:14.076137Z"
    },
    "papermill": {
     "duration": 0.028663,
     "end_time": "2022-11-08T19:37:14.081438",
     "exception": false,
     "start_time": "2022-11-08T19:37:14.052775",
     "status": "completed"
    },
    "tags": []
   },
   "outputs": [
    {
     "name": "stdout",
     "output_type": "stream",
     "text": [
      "Training:\n",
      " (8693, 14) \n",
      "\n",
      "PassengerId       0\n",
      "HomePlanet      201\n",
      "CryoSleep       217\n",
      "Cabin           199\n",
      "Destination     182\n",
      "Age             179\n",
      "VIP             203\n",
      "RoomService     181\n",
      "FoodCourt       183\n",
      "ShoppingMall    208\n",
      "Spa             183\n",
      "VRDeck          188\n",
      "Name            200\n",
      "Transported       0\n",
      "dtype: int64 \n",
      "\n",
      "\n",
      "Test:\n",
      " (4277, 13) \n",
      "\n",
      "PassengerId       0\n",
      "HomePlanet       87\n",
      "CryoSleep        93\n",
      "Cabin           100\n",
      "Destination      92\n",
      "Age              91\n",
      "VIP              93\n",
      "RoomService      82\n",
      "FoodCourt       106\n",
      "ShoppingMall     98\n",
      "Spa             101\n",
      "VRDeck           80\n",
      "Name             94\n",
      "dtype: int64\n"
     ]
    }
   ],
   "source": [
    "# find missing values and print data dimensions\n",
    "print(\"Training:\\n\", train_data.shape, \"\\n\")\n",
    "print(train_data.isnull().sum(),\"\\n\\n\")\n",
    "print(\"Test:\\n\", test_data.shape, \"\\n\")\n",
    "print(test_data.isnull().sum())"
   ]
  },
  {
   "cell_type": "code",
   "execution_count": 5,
   "id": "cb83af60",
   "metadata": {
    "execution": {
     "iopub.execute_input": "2022-11-08T19:37:14.097497Z",
     "iopub.status.busy": "2022-11-08T19:37:14.096710Z",
     "iopub.status.idle": "2022-11-08T19:37:14.759806Z",
     "shell.execute_reply": "2022-11-08T19:37:14.758543Z"
    },
    "papermill": {
     "duration": 0.673592,
     "end_time": "2022-11-08T19:37:14.762309",
     "exception": false,
     "start_time": "2022-11-08T19:37:14.088717",
     "status": "completed"
    },
    "tags": []
   },
   "outputs": [
    {
     "data": {
      "text/plain": [
       "<AxesSubplot:>"
      ]
     },
     "execution_count": 5,
     "metadata": {},
     "output_type": "execute_result"
    },
    {
     "data": {
      "image/png": "[encoded data removed]",
      "text/plain": [
       "<Figure size 800x500 with 2 Axes>"
      ]
     },
     "metadata": {
      "needs_background": "light"
     },
     "output_type": "display_data"
    }
   ],
   "source": [
    "# visualize missing values\n",
    "plt.figure(dpi=100, figsize=(8, 5))\n",
    "sns.heatmap(train_data.isnull())"
   ]
  },
  {
   "cell_type": "code",
   "execution_count": 6,
   "id": "2e98b74c",
   "metadata": {
    "execution": {
     "iopub.execute_input": "2022-11-08T19:37:14.778880Z",
     "iopub.status.busy": "2022-11-08T19:37:14.778471Z",
     "iopub.status.idle": "2022-11-08T19:37:14.786198Z",
     "shell.execute_reply": "2022-11-08T19:37:14.785337Z"
    },
    "papermill": {
     "duration": 0.0187,
     "end_time": "2022-11-08T19:37:14.788463",
     "exception": false,
     "start_time": "2022-11-08T19:37:14.769763",
     "status": "completed"
    },
    "tags": []
   },
   "outputs": [
    {
     "data": {
      "text/plain": [
       "PassengerId      object\n",
       "HomePlanet       object\n",
       "CryoSleep        object\n",
       "Cabin            object\n",
       "Destination      object\n",
       "Age             float64\n",
       "VIP              object\n",
       "RoomService     float64\n",
       "FoodCourt       float64\n",
       "ShoppingMall    float64\n",
       "Spa             float64\n",
       "VRDeck          float64\n",
       "Name             object\n",
       "Transported        bool\n",
       "dtype: object"
      ]
     },
     "execution_count": 6,
     "metadata": {},
     "output_type": "execute_result"
    }
   ],
   "source": [
    "train_data.dtypes"
   ]
  },
  {
   "cell_type": "code",
   "execution_count": 7,
   "id": "a57cf6c3",
   "metadata": {
    "execution": {
     "iopub.execute_input": "2022-11-08T19:37:14.806542Z",
     "iopub.status.busy": "2022-11-08T19:37:14.806105Z",
     "iopub.status.idle": "2022-11-08T19:37:14.832554Z",
     "shell.execute_reply": "2022-11-08T19:37:14.831445Z"
    },
    "papermill": {
     "duration": 0.039001,
     "end_time": "2022-11-08T19:37:14.834889",
     "exception": false,
     "start_time": "2022-11-08T19:37:14.795888",
     "status": "completed"
    },
    "tags": []
   },
   "outputs": [
    {
     "data": {
      "text/plain": [
       "PassengerId     8693\n",
       "HomePlanet         3\n",
       "CryoSleep          2\n",
       "Cabin           6560\n",
       "Destination        3\n",
       "Age               80\n",
       "VIP                2\n",
       "RoomService     1273\n",
       "FoodCourt       1507\n",
       "ShoppingMall    1115\n",
       "Spa             1327\n",
       "VRDeck          1306\n",
       "Name            8473\n",
       "Transported        2\n",
       "dtype: int64"
      ]
     },
     "execution_count": 7,
     "metadata": {},
     "output_type": "execute_result"
    }
   ],
   "source": [
    "train_data.nunique()"
   ]
  },
  {
   "cell_type": "code",
   "execution_count": 8,
   "id": "f8a7a160",
   "metadata": {
    "execution": {
     "iopub.execute_input": "2022-11-08T19:37:14.851900Z",
     "iopub.status.busy": "2022-11-08T19:37:14.851470Z",
     "iopub.status.idle": "2022-11-08T19:37:14.889639Z",
     "shell.execute_reply": "2022-11-08T19:37:14.888847Z"
    },
    "papermill": {
     "duration": 0.049337,
     "end_time": "2022-11-08T19:37:14.891867",
     "exception": false,
     "start_time": "2022-11-08T19:37:14.842530",
     "status": "completed"
    },
    "tags": []
   },
   "outputs": [
    {
     "data": {
      "text/html": [
       "<div>\n",
       "<style scoped>\n",
       "    .dataframe tbody tr th:only-of-type {\n",
       "        vertical-align: middle;\n",
       "    }\n",
       "\n",
       "    .dataframe tbody tr th {\n",
       "        vertical-align: top;\n",
       "    }\n",
       "\n",
       "    .dataframe thead th {\n",
       "        text-align: right;\n",
       "    }\n",
       "</style>\n",
       "<table border=\"1\" class=\"dataframe\">\n",
       "  <thead>\n",
       "    <tr style=\"text-align: right;\">\n",
       "      <th></th>\n",
       "      <th>Age</th>\n",
       "      <th>RoomService</th>\n",
       "      <th>FoodCourt</th>\n",
       "      <th>ShoppingMall</th>\n",
       "      <th>Spa</th>\n",
       "      <th>VRDeck</th>\n",
       "    </tr>\n",
       "  </thead>\n",
       "  <tbody>\n",
       "    <tr>\n",
       "      <th>count</th>\n",
       "      <td>8514.000000</td>\n",
       "      <td>8512.000000</td>\n",
       "      <td>8510.000000</td>\n",
       "      <td>8485.000000</td>\n",
       "      <td>8510.000000</td>\n",
       "      <td>8505.000000</td>\n",
       "    </tr>\n",
       "    <tr>\n",
       "      <th>mean</th>\n",
       "      <td>28.827930</td>\n",
       "      <td>224.687617</td>\n",
       "      <td>458.077203</td>\n",
       "      <td>173.729169</td>\n",
       "      <td>311.138778</td>\n",
       "      <td>304.854791</td>\n",
       "    </tr>\n",
       "    <tr>\n",
       "      <th>std</th>\n",
       "      <td>14.489021</td>\n",
       "      <td>666.717663</td>\n",
       "      <td>1611.489240</td>\n",
       "      <td>604.696458</td>\n",
       "      <td>1136.705535</td>\n",
       "      <td>1145.717189</td>\n",
       "    </tr>\n",
       "    <tr>\n",
       "      <th>min</th>\n",
       "      <td>0.000000</td>\n",
       "      <td>0.000000</td>\n",
       "      <td>0.000000</td>\n",
       "      <td>0.000000</td>\n",
       "      <td>0.000000</td>\n",
       "      <td>0.000000</td>\n",
       "    </tr>\n",
       "    <tr>\n",
       "      <th>25%</th>\n",
       "      <td>19.000000</td>\n",
       "      <td>0.000000</td>\n",
       "      <td>0.000000</td>\n",
       "      <td>0.000000</td>\n",
       "      <td>0.000000</td>\n",
       "      <td>0.000000</td>\n",
       "    </tr>\n",
       "    <tr>\n",
       "      <th>50%</th>\n",
       "      <td>27.000000</td>\n",
       "      <td>0.000000</td>\n",
       "      <td>0.000000</td>\n",
       "      <td>0.000000</td>\n",
       "      <td>0.000000</td>\n",
       "      <td>0.000000</td>\n",
       "    </tr>\n",
       "    <tr>\n",
       "      <th>75%</th>\n",
       "      <td>38.000000</td>\n",
       "      <td>47.000000</td>\n",
       "      <td>76.000000</td>\n",
       "      <td>27.000000</td>\n",
       "      <td>59.000000</td>\n",
       "      <td>46.000000</td>\n",
       "    </tr>\n",
       "    <tr>\n",
       "      <th>max</th>\n",
       "      <td>79.000000</td>\n",
       "      <td>14327.000000</td>\n",
       "      <td>29813.000000</td>\n",
       "      <td>23492.000000</td>\n",
       "      <td>22408.000000</td>\n",
       "      <td>24133.000000</td>\n",
       "    </tr>\n",
       "  </tbody>\n",
       "</table>\n",
       "</div>"
      ],
      "text/plain": [
       "               Age   RoomService     FoodCourt  ShoppingMall           Spa  \\\n",
       "count  8514.000000   8512.000000   8510.000000   8485.000000   8510.000000   \n",
       "mean     28.827930    224.687617    458.077203    173.729169    311.138778   \n",
       "std      14.489021    666.717663   1611.489240    604.696458   1136.705535   \n",
       "min       0.000000      0.000000      0.000000      0.000000      0.000000   \n",
       "25%      19.000000      0.000000      0.000000      0.000000      0.000000   \n",
       "50%      27.000000      0.000000      0.000000      0.000000      0.000000   \n",
       "75%      38.000000     47.000000     76.000000     27.000000     59.000000   \n",
       "max      79.000000  14327.000000  29813.000000  23492.000000  22408.000000   \n",
       "\n",
       "             VRDeck  \n",
       "count   8505.000000  \n",
       "mean     304.854791  \n",
       "std     1145.717189  \n",
       "min        0.000000  \n",
       "25%        0.000000  \n",
       "50%        0.000000  \n",
       "75%       46.000000  \n",
       "max    24133.000000  "
      ]
     },
     "execution_count": 8,
     "metadata": {},
     "output_type": "execute_result"
    }
   ],
   "source": [
    "train_data.describe()"
   ]
  },
  {
   "cell_type": "code",
   "execution_count": 9,
   "id": "b4cbe6c2",
   "metadata": {
    "execution": {
     "iopub.execute_input": "2022-11-08T19:37:14.909593Z",
     "iopub.status.busy": "2022-11-08T19:37:14.909223Z",
     "iopub.status.idle": "2022-11-08T19:37:14.920370Z",
     "shell.execute_reply": "2022-11-08T19:37:14.919454Z"
    },
    "papermill": {
     "duration": 0.023821,
     "end_time": "2022-11-08T19:37:14.923701",
     "exception": false,
     "start_time": "2022-11-08T19:37:14.899880",
     "status": "completed"
    },
    "tags": []
   },
   "outputs": [
    {
     "name": "stdout",
     "output_type": "stream",
     "text": [
      "Earth     4602\n",
      "Europa    2131\n",
      "Mars      1759\n",
      "Name: HomePlanet, dtype: int64 \n",
      "\n",
      "False    5439\n",
      "True     3037\n",
      "Name: CryoSleep, dtype: int64 \n",
      "\n",
      "TRAPPIST-1e      5915\n",
      "55 Cancri e      1800\n",
      "PSO J318.5-22     796\n",
      "Name: Destination, dtype: int64 \n",
      "\n",
      "False    8291\n",
      "True      199\n",
      "Name: VIP, dtype: int64 \n",
      "\n"
     ]
    }
   ],
   "source": [
    "for c in ['HomePlanet', 'CryoSleep', 'Destination', 'VIP']:\n",
    "    print(train_data[c].value_counts(), \"\\n\")"
   ]
  },
  {
   "cell_type": "markdown",
   "id": "da67cff1",
   "metadata": {
    "papermill": {
     "duration": 0.007546,
     "end_time": "2022-11-08T19:37:14.939936",
     "exception": false,
     "start_time": "2022-11-08T19:37:14.932390",
     "status": "completed"
    },
    "tags": []
   },
   "source": [
    "# New Features"
   ]
  },
  {
   "cell_type": "code",
   "execution_count": 10,
   "id": "d469529e",
   "metadata": {
    "execution": {
     "iopub.execute_input": "2022-11-08T19:37:14.957599Z",
     "iopub.status.busy": "2022-11-08T19:37:14.957207Z",
     "iopub.status.idle": "2022-11-08T19:37:15.015264Z",
     "shell.execute_reply": "2022-11-08T19:37:15.014088Z"
    },
    "papermill": {
     "duration": 0.070168,
     "end_time": "2022-11-08T19:37:15.018031",
     "exception": false,
     "start_time": "2022-11-08T19:37:14.947863",
     "status": "completed"
    },
    "tags": []
   },
   "outputs": [
    {
     "data": {
      "text/html": [
       "<div>\n",
       "<style scoped>\n",
       "    .dataframe tbody tr th:only-of-type {\n",
       "        vertical-align: middle;\n",
       "    }\n",
       "\n",
       "    .dataframe tbody tr th {\n",
       "        vertical-align: top;\n",
       "    }\n",
       "\n",
       "    .dataframe thead th {\n",
       "        text-align: right;\n",
       "    }\n",
       "</style>\n",
       "<table border=\"1\" class=\"dataframe\">\n",
       "  <thead>\n",
       "    <tr style=\"text-align: right;\">\n",
       "      <th></th>\n",
       "      <th>PassengerId</th>\n",
       "      <th>HomePlanet</th>\n",
       "      <th>CryoSleep</th>\n",
       "      <th>Cabin</th>\n",
       "      <th>Destination</th>\n",
       "      <th>Age</th>\n",
       "      <th>VIP</th>\n",
       "      <th>RoomService</th>\n",
       "      <th>FoodCourt</th>\n",
       "      <th>ShoppingMall</th>\n",
       "      <th>Spa</th>\n",
       "      <th>VRDeck</th>\n",
       "      <th>Name</th>\n",
       "      <th>Transported</th>\n",
       "      <th>GroupId</th>\n",
       "      <th>MemberId</th>\n",
       "      <th>CabinDeck</th>\n",
       "      <th>CabinNum</th>\n",
       "      <th>CabinSide</th>\n",
       "    </tr>\n",
       "  </thead>\n",
       "  <tbody>\n",
       "    <tr>\n",
       "      <th>0</th>\n",
       "      <td>0001_01</td>\n",
       "      <td>Europa</td>\n",
       "      <td>False</td>\n",
       "      <td>B/0/P</td>\n",
       "      <td>TRAPPIST-1e</td>\n",
       "      <td>39.0</td>\n",
       "      <td>False</td>\n",
       "      <td>0.0</td>\n",
       "      <td>0.0</td>\n",
       "      <td>0.0</td>\n",
       "      <td>0.0</td>\n",
       "      <td>0.0</td>\n",
       "      <td>Maham Ofracculy</td>\n",
       "      <td>False</td>\n",
       "      <td>0001</td>\n",
       "      <td>01</td>\n",
       "      <td>B</td>\n",
       "      <td>0</td>\n",
       "      <td>P</td>\n",
       "    </tr>\n",
       "    <tr>\n",
       "      <th>1</th>\n",
       "      <td>0002_01</td>\n",
       "      <td>Earth</td>\n",
       "      <td>False</td>\n",
       "      <td>F/0/S</td>\n",
       "      <td>TRAPPIST-1e</td>\n",
       "      <td>24.0</td>\n",
       "      <td>False</td>\n",
       "      <td>109.0</td>\n",
       "      <td>9.0</td>\n",
       "      <td>25.0</td>\n",
       "      <td>549.0</td>\n",
       "      <td>44.0</td>\n",
       "      <td>Juanna Vines</td>\n",
       "      <td>True</td>\n",
       "      <td>0002</td>\n",
       "      <td>01</td>\n",
       "      <td>F</td>\n",
       "      <td>0</td>\n",
       "      <td>S</td>\n",
       "    </tr>\n",
       "    <tr>\n",
       "      <th>2</th>\n",
       "      <td>0003_01</td>\n",
       "      <td>Europa</td>\n",
       "      <td>False</td>\n",
       "      <td>A/0/S</td>\n",
       "      <td>TRAPPIST-1e</td>\n",
       "      <td>58.0</td>\n",
       "      <td>True</td>\n",
       "      <td>43.0</td>\n",
       "      <td>3576.0</td>\n",
       "      <td>0.0</td>\n",
       "      <td>6715.0</td>\n",
       "      <td>49.0</td>\n",
       "      <td>Altark Susent</td>\n",
       "      <td>False</td>\n",
       "      <td>0003</td>\n",
       "      <td>01</td>\n",
       "      <td>A</td>\n",
       "      <td>0</td>\n",
       "      <td>S</td>\n",
       "    </tr>\n",
       "    <tr>\n",
       "      <th>3</th>\n",
       "      <td>0003_02</td>\n",
       "      <td>Europa</td>\n",
       "      <td>False</td>\n",
       "      <td>A/0/S</td>\n",
       "      <td>TRAPPIST-1e</td>\n",
       "      <td>33.0</td>\n",
       "      <td>False</td>\n",
       "      <td>0.0</td>\n",
       "      <td>1283.0</td>\n",
       "      <td>371.0</td>\n",
       "      <td>3329.0</td>\n",
       "      <td>193.0</td>\n",
       "      <td>Solam Susent</td>\n",
       "      <td>False</td>\n",
       "      <td>0003</td>\n",
       "      <td>02</td>\n",
       "      <td>A</td>\n",
       "      <td>0</td>\n",
       "      <td>S</td>\n",
       "    </tr>\n",
       "    <tr>\n",
       "      <th>4</th>\n",
       "      <td>0004_01</td>\n",
       "      <td>Earth</td>\n",
       "      <td>False</td>\n",
       "      <td>F/1/S</td>\n",
       "      <td>TRAPPIST-1e</td>\n",
       "      <td>16.0</td>\n",
       "      <td>False</td>\n",
       "      <td>303.0</td>\n",
       "      <td>70.0</td>\n",
       "      <td>151.0</td>\n",
       "      <td>565.0</td>\n",
       "      <td>2.0</td>\n",
       "      <td>Willy Santantines</td>\n",
       "      <td>True</td>\n",
       "      <td>0004</td>\n",
       "      <td>01</td>\n",
       "      <td>F</td>\n",
       "      <td>1</td>\n",
       "      <td>S</td>\n",
       "    </tr>\n",
       "  </tbody>\n",
       "</table>\n",
       "</div>"
      ],
      "text/plain": [
       "  PassengerId HomePlanet CryoSleep  Cabin  Destination   Age    VIP  \\\n",
       "0     0001_01     Europa     False  B/0/P  TRAPPIST-1e  39.0  False   \n",
       "1     0002_01      Earth     False  F/0/S  TRAPPIST-1e  24.0  False   \n",
       "2     0003_01     Europa     False  A/0/S  TRAPPIST-1e  58.0   True   \n",
       "3     0003_02     Europa     False  A/0/S  TRAPPIST-1e  33.0  False   \n",
       "4     0004_01      Earth     False  F/1/S  TRAPPIST-1e  16.0  False   \n",
       "\n",
       "   RoomService  FoodCourt  ShoppingMall     Spa  VRDeck               Name  \\\n",
       "0          0.0        0.0           0.0     0.0     0.0    Maham Ofracculy   \n",
       "1        109.0        9.0          25.0   549.0    44.0       Juanna Vines   \n",
       "2         43.0     3576.0           0.0  6715.0    49.0      Altark Susent   \n",
       "3          0.0     1283.0         371.0  3329.0   193.0       Solam Susent   \n",
       "4        303.0       70.0         151.0   565.0     2.0  Willy Santantines   \n",
       "\n",
       "   Transported GroupId MemberId CabinDeck CabinNum CabinSide  \n",
       "0        False    0001       01         B        0         P  \n",
       "1         True    0002       01         F        0         S  \n",
       "2        False    0003       01         A        0         S  \n",
       "3        False    0003       02         A        0         S  \n",
       "4         True    0004       01         F        1         S  "
      ]
     },
     "execution_count": 10,
     "metadata": {},
     "output_type": "execute_result"
    }
   ],
   "source": [
    "# separate information in PassengerID and Cabin\n",
    "train_data[['GroupId', 'MemberId']] = train_data['PassengerId'].str.split(\"_\", expand=True)\n",
    "train_data[['CabinDeck', 'CabinNum', 'CabinSide']] = train_data['Cabin'].str.split(\"/\", expand=True)\n",
    "train_data.head()"
   ]
  },
  {
   "cell_type": "code",
   "execution_count": 11,
   "id": "a71ec7d8",
   "metadata": {
    "execution": {
     "iopub.execute_input": "2022-11-08T19:37:15.037091Z",
     "iopub.status.busy": "2022-11-08T19:37:15.036348Z",
     "iopub.status.idle": "2022-11-08T19:37:15.049095Z",
     "shell.execute_reply": "2022-11-08T19:37:15.047112Z"
    },
    "papermill": {
     "duration": 0.026523,
     "end_time": "2022-11-08T19:37:15.053020",
     "exception": false,
     "start_time": "2022-11-08T19:37:15.026497",
     "status": "completed"
    },
    "tags": []
   },
   "outputs": [
    {
     "name": "stdout",
     "output_type": "stream",
     "text": [
      "F    2794\n",
      "G    2559\n",
      "E     876\n",
      "B     779\n",
      "C     747\n",
      "D     478\n",
      "A     256\n",
      "T       5\n",
      "Name: CabinDeck, dtype: int64 \n",
      "\n",
      "82      28\n",
      "86      22\n",
      "19      22\n",
      "56      21\n",
      "176     21\n",
      "        ..\n",
      "1644     1\n",
      "1515     1\n",
      "1639     1\n",
      "1277     1\n",
      "1894     1\n",
      "Name: CabinNum, Length: 1817, dtype: int64 \n",
      "\n",
      "S    4288\n",
      "P    4206\n",
      "Name: CabinSide, dtype: int64 \n",
      "\n"
     ]
    }
   ],
   "source": [
    "for c in ['CabinDeck', 'CabinNum', 'CabinSide']:\n",
    "    print(train_data[c].value_counts(), \"\\n\")"
   ]
  },
  {
   "cell_type": "code",
   "execution_count": 12,
   "id": "96f4c65a",
   "metadata": {
    "execution": {
     "iopub.execute_input": "2022-11-08T19:37:15.073270Z",
     "iopub.status.busy": "2022-11-08T19:37:15.071988Z",
     "iopub.status.idle": "2022-11-08T19:37:15.083191Z",
     "shell.execute_reply": "2022-11-08T19:37:15.081993Z"
    },
    "papermill": {
     "duration": 0.024,
     "end_time": "2022-11-08T19:37:15.085917",
     "exception": false,
     "start_time": "2022-11-08T19:37:15.061917",
     "status": "completed"
    },
    "tags": []
   },
   "outputs": [],
   "source": [
    "# create a total spending feature\n",
    "train_data['TotalSpend'] = train_data[['RoomService', 'FoodCourt', 'ShoppingMall', 'Spa', 'VRDeck']].sum(axis=1)"
   ]
  },
  {
   "cell_type": "code",
   "execution_count": 13,
   "id": "2a5313dc",
   "metadata": {
    "execution": {
     "iopub.execute_input": "2022-11-08T19:37:15.104731Z",
     "iopub.status.busy": "2022-11-08T19:37:15.104315Z",
     "iopub.status.idle": "2022-11-08T19:37:15.814126Z",
     "shell.execute_reply": "2022-11-08T19:37:15.812920Z"
    },
    "papermill": {
     "duration": 0.722129,
     "end_time": "2022-11-08T19:37:15.816602",
     "exception": false,
     "start_time": "2022-11-08T19:37:15.094473",
     "status": "completed"
    },
    "tags": []
   },
   "outputs": [
    {
     "data": {
      "text/plain": [
       "Cabin           0.542320\n",
       "GroupId         0.512914\n",
       "CabinNum        0.143284\n",
       "TotalSpend      0.132661\n",
       "CryoSleep       0.112254\n",
       "Spa             0.080973\n",
       "RoomService     0.070017\n",
       "VRDeck          0.056859\n",
       "ShoppingMall    0.049252\n",
       "FoodCourt       0.042713\n",
       "CabinDeck       0.022989\n",
       "HomePlanet      0.018581\n",
       "Destination     0.006113\n",
       "Age             0.005672\n",
       "CabinSide       0.005149\n",
       "MemberId        0.004350\n",
       "VIP             0.000700\n",
       "Name: MI Scores, dtype: float64"
      ]
     },
     "execution_count": 13,
     "metadata": {},
     "output_type": "execute_result"
    }
   ],
   "source": [
    "# find mutual information scores\n",
    "\n",
    "from sklearn.feature_selection import mutual_info_classif\n",
    "from sklearn.impute import SimpleImputer\n",
    "\n",
    "mi_df = train_data.copy()\n",
    "mi_df = mi_df.drop(['PassengerId', 'Name'], axis=1)  # drop the columns with unique identifiers\n",
    "\n",
    "# impute missing values\n",
    "categ_imputer = SimpleImputer(strategy = 'most_frequent')\n",
    "num_imputer = SimpleImputer(strategy = 'constant')\n",
    "\n",
    "categ_cols = [cname for cname in mi_df.columns if mi_df[cname].dtype == \"object\"]\n",
    "num_cols = [cname for cname in mi_df.columns if mi_df[cname].dtype in ['int64', 'float64']]\n",
    "\n",
    "mi_df[categ_cols] = pd.DataFrame(categ_imputer.fit_transform(mi_df[categ_cols]))\n",
    "mi_df[num_cols] = pd.DataFrame(num_imputer.fit_transform(mi_df[num_cols]))\n",
    "\n",
    "# Label encoding for categoricals\n",
    "for colname in mi_df.select_dtypes([\"object\", \"bool\"]):\n",
    "    mi_df[colname], _ = mi_df[colname].factorize()\n",
    "    \n",
    "X = mi_df.copy()\n",
    "y = X.pop(\"Transported\")\n",
    "\n",
    "# select discrete/categorical columns\n",
    "discrete_feat = discrete_features = X.dtypes == int\n",
    "\n",
    "mi_scores = mutual_info_classif(X, y, discrete_features=discrete_feat)\n",
    "mi_scores = pd.Series(mi_scores, name=\"MI Scores\", index=X.columns)\n",
    "mi_scores = mi_scores.sort_values(ascending=False)\n",
    "mi_scores"
   ]
  },
  {
   "cell_type": "code",
   "execution_count": 14,
   "id": "38e6b8ef",
   "metadata": {
    "execution": {
     "iopub.execute_input": "2022-11-08T19:37:15.836054Z",
     "iopub.status.busy": "2022-11-08T19:37:15.834882Z",
     "iopub.status.idle": "2022-11-08T19:37:16.093547Z",
     "shell.execute_reply": "2022-11-08T19:37:16.092237Z"
    },
    "papermill": {
     "duration": 0.270851,
     "end_time": "2022-11-08T19:37:16.096017",
     "exception": false,
     "start_time": "2022-11-08T19:37:15.825166",
     "status": "completed"
    },
    "tags": []
   },
   "outputs": [
    {
     "data": {
      "text/plain": [
       "Text(0.5, 1.0, 'Mutual Information Scores')"
      ]
     },
     "execution_count": 14,
     "metadata": {},
     "output_type": "execute_result"
    },
    {
     "data": {
      "image/png": "[encoded data removed]",
      "text/plain": [
       "<Figure size 800x500 with 1 Axes>"
      ]
     },
     "metadata": {
      "needs_background": "light"
     },
     "output_type": "display_data"
    }
   ],
   "source": [
    "# plot mutual information scores\n",
    "\n",
    "plt.figure(dpi=100, figsize=(8, 5))\n",
    "width = np.arange(len(mi_scores))\n",
    "ticks = list(mi_scores.index)\n",
    "plt.barh(width, mi_scores)\n",
    "plt.yticks(width, ticks)\n",
    "plt.title(\"Mutual Information Scores\")"
   ]
  },
  {
   "cell_type": "code",
   "execution_count": 15,
   "id": "8f96d05c",
   "metadata": {
    "execution": {
     "iopub.execute_input": "2022-11-08T19:37:16.116769Z",
     "iopub.status.busy": "2022-11-08T19:37:16.115824Z",
     "iopub.status.idle": "2022-11-08T19:37:16.142648Z",
     "shell.execute_reply": "2022-11-08T19:37:16.141753Z"
    },
    "papermill": {
     "duration": 0.039757,
     "end_time": "2022-11-08T19:37:16.145245",
     "exception": false,
     "start_time": "2022-11-08T19:37:16.105488",
     "status": "completed"
    },
    "tags": []
   },
   "outputs": [
    {
     "data": {
      "text/html": [
       "<div>\n",
       "<style scoped>\n",
       "    .dataframe tbody tr th:only-of-type {\n",
       "        vertical-align: middle;\n",
       "    }\n",
       "\n",
       "    .dataframe tbody tr th {\n",
       "        vertical-align: top;\n",
       "    }\n",
       "\n",
       "    .dataframe thead th {\n",
       "        text-align: right;\n",
       "    }\n",
       "</style>\n",
       "<table border=\"1\" class=\"dataframe\">\n",
       "  <thead>\n",
       "    <tr style=\"text-align: right;\">\n",
       "      <th></th>\n",
       "      <th>count</th>\n",
       "      <th>mean</th>\n",
       "      <th>std</th>\n",
       "      <th>min</th>\n",
       "      <th>25%</th>\n",
       "      <th>50%</th>\n",
       "      <th>75%</th>\n",
       "      <th>max</th>\n",
       "    </tr>\n",
       "    <tr>\n",
       "      <th>CryoSleep</th>\n",
       "      <th></th>\n",
       "      <th></th>\n",
       "      <th></th>\n",
       "      <th></th>\n",
       "      <th></th>\n",
       "      <th></th>\n",
       "      <th></th>\n",
       "      <th></th>\n",
       "    </tr>\n",
       "  </thead>\n",
       "  <tbody>\n",
       "    <tr>\n",
       "      <th>False</th>\n",
       "      <td>5439.0</td>\n",
       "      <td>2248.299687</td>\n",
       "      <td>3245.061489</td>\n",
       "      <td>0.0</td>\n",
       "      <td>746.0</td>\n",
       "      <td>1019.0</td>\n",
       "      <td>2416.0</td>\n",
       "      <td>35987.0</td>\n",
       "    </tr>\n",
       "    <tr>\n",
       "      <th>True</th>\n",
       "      <td>3037.0</td>\n",
       "      <td>0.000000</td>\n",
       "      <td>0.000000</td>\n",
       "      <td>0.0</td>\n",
       "      <td>0.0</td>\n",
       "      <td>0.0</td>\n",
       "      <td>0.0</td>\n",
       "      <td>0.0</td>\n",
       "    </tr>\n",
       "  </tbody>\n",
       "</table>\n",
       "</div>"
      ],
      "text/plain": [
       "            count         mean          std  min    25%     50%     75%  \\\n",
       "CryoSleep                                                                 \n",
       "False      5439.0  2248.299687  3245.061489  0.0  746.0  1019.0  2416.0   \n",
       "True       3037.0     0.000000     0.000000  0.0    0.0     0.0     0.0   \n",
       "\n",
       "               max  \n",
       "CryoSleep           \n",
       "False      35987.0  \n",
       "True           0.0  "
      ]
     },
     "execution_count": 15,
     "metadata": {},
     "output_type": "execute_result"
    }
   ],
   "source": [
    "#check that people in CryoSleep are not spending money\n",
    "train_data.groupby('CryoSleep')['TotalSpend'].describe()"
   ]
  },
  {
   "cell_type": "code",
   "execution_count": 16,
   "id": "0e458a97",
   "metadata": {
    "execution": {
     "iopub.execute_input": "2022-11-08T19:37:16.166256Z",
     "iopub.status.busy": "2022-11-08T19:37:16.165506Z",
     "iopub.status.idle": "2022-11-08T19:37:16.171695Z",
     "shell.execute_reply": "2022-11-08T19:37:16.170929Z"
    },
    "papermill": {
     "duration": 0.019354,
     "end_time": "2022-11-08T19:37:16.173958",
     "exception": false,
     "start_time": "2022-11-08T19:37:16.154604",
     "status": "completed"
    },
    "tags": []
   },
   "outputs": [],
   "source": [
    "# select categorical columns\n",
    "categorical_cols = [cname for cname in train_data.columns if train_data[cname].dtype == \"object\"]"
   ]
  },
  {
   "cell_type": "markdown",
   "id": "aa246a3e",
   "metadata": {
    "papermill": {
     "duration": 0.01075,
     "end_time": "2022-11-08T19:37:16.193855",
     "exception": false,
     "start_time": "2022-11-08T19:37:16.183105",
     "status": "completed"
    },
    "tags": []
   },
   "source": [
    "should GroupId and Cabin be excluded? They are close to being unique identifyers"
   ]
  },
  {
   "cell_type": "markdown",
   "id": "f071378e",
   "metadata": {
    "papermill": {
     "duration": 0.010706,
     "end_time": "2022-11-08T19:37:16.215662",
     "exception": false,
     "start_time": "2022-11-08T19:37:16.204956",
     "status": "completed"
    },
    "tags": []
   },
   "source": [
    "# Models"
   ]
  },
  {
   "cell_type": "code",
   "execution_count": 17,
   "id": "033160b6",
   "metadata": {
    "execution": {
     "iopub.execute_input": "2022-11-08T19:37:16.243659Z",
     "iopub.status.busy": "2022-11-08T19:37:16.242749Z",
     "iopub.status.idle": "2022-11-08T19:37:16.485723Z",
     "shell.execute_reply": "2022-11-08T19:37:16.484448Z"
    },
    "papermill": {
     "duration": 0.26127,
     "end_time": "2022-11-08T19:37:16.488682",
     "exception": false,
     "start_time": "2022-11-08T19:37:16.227412",
     "status": "completed"
    },
    "tags": []
   },
   "outputs": [],
   "source": [
    "from sklearn.compose import ColumnTransformer\n",
    "from sklearn.pipeline import Pipeline\n",
    "from sklearn.impute import SimpleImputer\n",
    "from sklearn.preprocessing import OneHotEncoder\n",
    "from xgboost import XGBClassifier\n",
    "from sklearn.ensemble import RandomForestClassifier\n",
    "from sklearn.metrics import accuracy_score\n",
    "from sklearn.model_selection import GridSearchCV\n",
    "\n",
    "# Identify predictors to be used\n",
    "features = ['HomePlanet', 'CryoSleep', 'Destination', 'Age',\n",
    "            'GroupId', 'MemberId', 'CabinDeck', 'CabinNum',\n",
    "            'CabinSide', 'TotalSpend'] \n",
    "\n",
    "# Separate target from predictors (target has no missing values)\n",
    "y = train_data.Transported\n",
    "X = train_data[features]\n",
    "\n",
    "# select categorical columns\n",
    "categorical_cols = [cname for cname in X.columns if X[cname].dtype == \"object\"]\n",
    "\n",
    "# Select numerical columns\n",
    "numerical_cols = [cname for cname in X.columns if X[cname].dtype in ['int64', 'float64']]\n",
    "\n",
    "\n",
    "# Preprocessing for numerical data\n",
    "numerical_transformer = SimpleImputer(strategy='constant')\n",
    "\n",
    "# Preprocessing for categorical data\n",
    "categorical_transformer = Pipeline(steps=[\n",
    "    ('imputer', SimpleImputer(strategy='most_frequent')),\n",
    "    ('onehot', OneHotEncoder(handle_unknown='ignore'))\n",
    "])\n",
    "\n",
    "# Bundle preprocessing for numerical and categorical data\n",
    "preprocessor = ColumnTransformer(\n",
    "    transformers=[\n",
    "        ('num', numerical_transformer, numerical_cols),\n",
    "        ('cat', categorical_transformer, categorical_cols)\n",
    "    ])\n",
    "\n",
    "# define the xgb model\n",
    "xgb_model = XGBClassifier()\n",
    "\n",
    "n_est = np.arange(10, 150, step = 20).tolist()\n",
    "learn_rate = np.arange(0.05, 0.55, step = 0.05).tolist()\n",
    "parameters = {'n_estimators': n_est,\n",
    "             'learning_rate': learn_rate}\n",
    "\n",
    "my_xgb_model = GridSearchCV(xgb_model, \n",
    "                            param_grid=parameters,\n",
    "                            scoring='accuracy')\n",
    "\n",
    "\n",
    "# Bundle preprocessing and modeling code in a pipeline for xbg model\n",
    "my_xgb_pipeline = Pipeline(steps=[('preprocessor', preprocessor),\n",
    "                                  ('model', my_xgb_model)\n",
    "                                 ])"
   ]
  },
  {
   "cell_type": "code",
   "execution_count": 18,
   "id": "5af46b50",
   "metadata": {
    "execution": {
     "iopub.execute_input": "2022-11-08T19:37:16.513627Z",
     "iopub.status.busy": "2022-11-08T19:37:16.512853Z",
     "iopub.status.idle": "2022-11-08T19:41:18.134846Z",
     "shell.execute_reply": "2022-11-08T19:41:18.133571Z"
    },
    "papermill": {
     "duration": 241.647289,
     "end_time": "2022-11-08T19:41:18.149320",
     "exception": false,
     "start_time": "2022-11-08T19:37:16.502031",
     "status": "completed"
    },
    "tags": []
   },
   "outputs": [
    {
     "data": {
      "text/plain": [
       "Pipeline(steps=[('preprocessor',\n",
       "                 ColumnTransformer(transformers=[('num',\n",
       "                                                  SimpleImputer(strategy='constant'),\n",
       "                                                  ['Age', 'TotalSpend']),\n",
       "                                                 ('cat',\n",
       "                                                  Pipeline(steps=[('imputer',\n",
       "                                                                   SimpleImputer(strategy='most_frequent')),\n",
       "                                                                  ('onehot',\n",
       "                                                                   OneHotEncoder(handle_unknown='ignore'))]),\n",
       "                                                  ['HomePlanet', 'CryoSleep',\n",
       "                                                   'Destination', 'GroupId',\n",
       "                                                   'MemberId', 'CabinDeck',\n",
       "                                                   'CabinNum',\n",
       "                                                   'CabinSide'...\n",
       "                                                      max_leaves=None,\n",
       "                                                      min_child_weight=None,\n",
       "                                                      missing=nan,\n",
       "                                                      monotone_constraints=None,\n",
       "                                                      n_estimators=100,\n",
       "                                                      n_jobs=None,\n",
       "                                                      num_parallel_tree=None,\n",
       "                                                      predictor=None,\n",
       "                                                      random_state=None,\n",
       "                                                      reg_alpha=None,\n",
       "                                                      reg_lambda=None, ...),\n",
       "                              param_grid={'learning_rate': [0.05, 0.1,\n",
       "                                                            0.15000000000000002,\n",
       "                                                            0.2, 0.25, 0.3,\n",
       "                                                            0.35000000000000003,\n",
       "                                                            0.4, 0.45, 0.5],\n",
       "                                          'n_estimators': [10, 30, 50, 70, 90,\n",
       "                                                           110, 130]},\n",
       "                              scoring='accuracy'))])"
      ]
     },
     "execution_count": 18,
     "metadata": {},
     "output_type": "execute_result"
    }
   ],
   "source": [
    "# Preprocess training data, fit model \n",
    "my_xgb_pipeline.fit(X, y)"
   ]
  },
  {
   "cell_type": "code",
   "execution_count": 19,
   "id": "355ede4f",
   "metadata": {
    "execution": {
     "iopub.execute_input": "2022-11-08T19:41:18.172586Z",
     "iopub.status.busy": "2022-11-08T19:41:18.172159Z",
     "iopub.status.idle": "2022-11-08T19:41:18.179341Z",
     "shell.execute_reply": "2022-11-08T19:41:18.177960Z"
    },
    "papermill": {
     "duration": 0.023996,
     "end_time": "2022-11-08T19:41:18.183257",
     "exception": false,
     "start_time": "2022-11-08T19:41:18.159261",
     "status": "completed"
    },
    "tags": []
   },
   "outputs": [
    {
     "name": "stdout",
     "output_type": "stream",
     "text": [
      "Best Parameters:\n",
      " {'learning_rate': 0.25, 'n_estimators': 10} \n",
      "\n",
      "Best Score:\n",
      " 0.7479603835650159\n"
     ]
    }
   ],
   "source": [
    "print(\"Best Parameters:\\n\", my_xgb_pipeline['model'].best_params_, \"\\n\")\n",
    "#print(\"CV Results:\\n\", my_xgb_pipeline['model'].cv_results_, \"\\n\")\n",
    "#print(\"Best Estimator:\\n\", my_xgb_pipeline['model'].best_estimator_, \"\\n\")\n",
    "print(\"Best Score:\\n\", my_xgb_pipeline['model'].best_score_)"
   ]
  },
  {
   "cell_type": "markdown",
   "id": "d927ef28",
   "metadata": {
    "papermill": {
     "duration": 0.009597,
     "end_time": "2022-11-08T19:41:18.204787",
     "exception": false,
     "start_time": "2022-11-08T19:41:18.195190",
     "status": "completed"
    },
    "tags": []
   },
   "source": [
    "# Make Predictions on Test Set"
   ]
  },
  {
   "cell_type": "code",
   "execution_count": 20,
   "id": "cf995162",
   "metadata": {
    "execution": {
     "iopub.execute_input": "2022-11-08T19:41:18.229489Z",
     "iopub.status.busy": "2022-11-08T19:41:18.228258Z",
     "iopub.status.idle": "2022-11-08T19:41:18.322773Z",
     "shell.execute_reply": "2022-11-08T19:41:18.321513Z"
    },
    "papermill": {
     "duration": 0.110332,
     "end_time": "2022-11-08T19:41:18.325847",
     "exception": false,
     "start_time": "2022-11-08T19:41:18.215515",
     "status": "completed"
    },
    "tags": []
   },
   "outputs": [],
   "source": [
    "# make predictions on the test data for submission\n",
    "\n",
    "test_data[['GroupId', 'MemberId']] = test_data['PassengerId'].str.split(\"_\", expand=True)\n",
    "test_data[['CabinDeck', 'CabinNum', 'CabinSide']] = test_data['Cabin'].str.split(\"/\", expand=True)\n",
    "test_data['TotalSpend'] = test_data[['RoomService', 'FoodCourt', 'ShoppingMall', 'Spa', 'VRDeck']].sum(axis=1)\n",
    "\n",
    "X_test = test_data[features]\n",
    "predictions = my_xgb_pipeline.predict(X_test)\n",
    "\n",
    "output = pd.DataFrame({'PassengerId': test_data.PassengerId, 'Transported': predictions.astype('bool')})\n",
    "output.to_csv('submission.csv', index=False)"
   ]
  }
 ],
 "metadata": {
  "kernelspec": {
   "display_name": "Python 3",
   "language": "python",
   "name": "python3"
  },
  "language_info": {
   "codemirror_mode": {
    "name": "ipython",
    "version": 3
   },
   "file_extension": ".py",
   "mimetype": "text/x-python",
   "name": "python",
   "nbconvert_exporter": "python",
   "pygments_lexer": "ipython3",
   "version": "3.7.12"
  },
  "papermill": {
   "default_parameters": {},
   "duration": 256.900553,
   "end_time": "2022-11-08T19:41:19.265085",
   "environment_variables": {},
   "exception": null,
   "input_path": "__notebook__.ipynb",
   "output_path": "__notebook__.ipynb",
   "parameters": {},
   "start_time": "2022-11-08T19:37:02.364532",
   "version": "2.3.4"
  }
 },
 "nbformat": 4,
 "nbformat_minor": 5
}
