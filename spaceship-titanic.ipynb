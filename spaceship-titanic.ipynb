{
 "cells": [
  {
   "cell_type": "code",
   "execution_count": 1,
   "id": "e072219d",
   "metadata": {
    "_cell_guid": "b1076dfc-b9ad-4769-8c92-a6c4dae69d19",
    "_uuid": "8f2839f25d086af736a60e9eeb907d3b93b6e0e5",
    "execution": {
     "iopub.execute_input": "2022-11-15T22:13:10.119756Z",
     "iopub.status.busy": "2022-11-15T22:13:10.119293Z",
     "iopub.status.idle": "2022-11-15T22:13:11.189174Z",
     "shell.execute_reply": "2022-11-15T22:13:11.188019Z"
    },
    "papermill": {
     "duration": 1.082465,
     "end_time": "2022-11-15T22:13:11.191707",
     "exception": false,
     "start_time": "2022-11-15T22:13:10.109242",
     "status": "completed"
    },
    "tags": []
   },
   "outputs": [
    {
     "name": "stdout",
     "output_type": "stream",
     "text": [
      "/kaggle/input/spaceship-titanic/sample_submission.csv\n",
      "/kaggle/input/spaceship-titanic/train.csv\n",
      "/kaggle/input/spaceship-titanic/test.csv\n"
     ]
    }
   ],
   "source": [
    "# This Python 3 environment is defined by the kaggle/python Docker image: https://github.com/kaggle/docker-python\n",
    "\n",
    "import numpy as np\n",
    "from scipy import stats\n",
    "import pandas as pd\n",
    "import matplotlib.pyplot as plt\n",
    "import seaborn as sns\n",
    "\n",
    "\n",
    "# Input data files are available in the read-only \"../input/\" directory\n",
    "\n",
    "import os\n",
    "for dirname, _, filenames in os.walk('/kaggle/input'):\n",
    "    for filename in filenames:\n",
    "        print(os.path.join(dirname, filename))\n"
   ]
  },
  {
   "cell_type": "markdown",
   "id": "86952ba8",
   "metadata": {
    "papermill": {
     "duration": 0.007143,
     "end_time": "2022-11-15T22:13:11.205854",
     "exception": false,
     "start_time": "2022-11-15T22:13:11.198711",
     "status": "completed"
    },
    "tags": []
   },
   "source": [
    "# Initial EDA"
   ]
  },
  {
   "cell_type": "code",
   "execution_count": 2,
   "id": "c3cce9df",
   "metadata": {
    "execution": {
     "iopub.execute_input": "2022-11-15T22:13:11.221085Z",
     "iopub.status.busy": "2022-11-15T22:13:11.220714Z",
     "iopub.status.idle": "2022-11-15T22:13:11.310450Z",
     "shell.execute_reply": "2022-11-15T22:13:11.309310Z"
    },
    "papermill": {
     "duration": 0.100325,
     "end_time": "2022-11-15T22:13:11.312934",
     "exception": false,
     "start_time": "2022-11-15T22:13:11.212609",
     "status": "completed"
    },
    "tags": []
   },
   "outputs": [
    {
     "data": {
      "text/html": [
       "<div>\n",
       "<style scoped>\n",
       "    .dataframe tbody tr th:only-of-type {\n",
       "        vertical-align: middle;\n",
       "    }\n",
       "\n",
       "    .dataframe tbody tr th {\n",
       "        vertical-align: top;\n",
       "    }\n",
       "\n",
       "    .dataframe thead th {\n",
       "        text-align: right;\n",
       "    }\n",
       "</style>\n",
       "<table border=\"1\" class=\"dataframe\">\n",
       "  <thead>\n",
       "    <tr style=\"text-align: right;\">\n",
       "      <th></th>\n",
       "      <th>PassengerId</th>\n",
       "      <th>HomePlanet</th>\n",
       "      <th>CryoSleep</th>\n",
       "      <th>Cabin</th>\n",
       "      <th>Destination</th>\n",
       "      <th>Age</th>\n",
       "      <th>VIP</th>\n",
       "      <th>RoomService</th>\n",
       "      <th>FoodCourt</th>\n",
       "      <th>ShoppingMall</th>\n",
       "      <th>Spa</th>\n",
       "      <th>VRDeck</th>\n",
       "      <th>Name</th>\n",
       "      <th>Transported</th>\n",
       "    </tr>\n",
       "  </thead>\n",
       "  <tbody>\n",
       "    <tr>\n",
       "      <th>0</th>\n",
       "      <td>0001_01</td>\n",
       "      <td>Europa</td>\n",
       "      <td>False</td>\n",
       "      <td>B/0/P</td>\n",
       "      <td>TRAPPIST-1e</td>\n",
       "      <td>39.0</td>\n",
       "      <td>False</td>\n",
       "      <td>0.0</td>\n",
       "      <td>0.0</td>\n",
       "      <td>0.0</td>\n",
       "      <td>0.0</td>\n",
       "      <td>0.0</td>\n",
       "      <td>Maham Ofracculy</td>\n",
       "      <td>False</td>\n",
       "    </tr>\n",
       "    <tr>\n",
       "      <th>1</th>\n",
       "      <td>0002_01</td>\n",
       "      <td>Earth</td>\n",
       "      <td>False</td>\n",
       "      <td>F/0/S</td>\n",
       "      <td>TRAPPIST-1e</td>\n",
       "      <td>24.0</td>\n",
       "      <td>False</td>\n",
       "      <td>109.0</td>\n",
       "      <td>9.0</td>\n",
       "      <td>25.0</td>\n",
       "      <td>549.0</td>\n",
       "      <td>44.0</td>\n",
       "      <td>Juanna Vines</td>\n",
       "      <td>True</td>\n",
       "    </tr>\n",
       "    <tr>\n",
       "      <th>2</th>\n",
       "      <td>0003_01</td>\n",
       "      <td>Europa</td>\n",
       "      <td>False</td>\n",
       "      <td>A/0/S</td>\n",
       "      <td>TRAPPIST-1e</td>\n",
       "      <td>58.0</td>\n",
       "      <td>True</td>\n",
       "      <td>43.0</td>\n",
       "      <td>3576.0</td>\n",
       "      <td>0.0</td>\n",
       "      <td>6715.0</td>\n",
       "      <td>49.0</td>\n",
       "      <td>Altark Susent</td>\n",
       "      <td>False</td>\n",
       "    </tr>\n",
       "    <tr>\n",
       "      <th>3</th>\n",
       "      <td>0003_02</td>\n",
       "      <td>Europa</td>\n",
       "      <td>False</td>\n",
       "      <td>A/0/S</td>\n",
       "      <td>TRAPPIST-1e</td>\n",
       "      <td>33.0</td>\n",
       "      <td>False</td>\n",
       "      <td>0.0</td>\n",
       "      <td>1283.0</td>\n",
       "      <td>371.0</td>\n",
       "      <td>3329.0</td>\n",
       "      <td>193.0</td>\n",
       "      <td>Solam Susent</td>\n",
       "      <td>False</td>\n",
       "    </tr>\n",
       "    <tr>\n",
       "      <th>4</th>\n",
       "      <td>0004_01</td>\n",
       "      <td>Earth</td>\n",
       "      <td>False</td>\n",
       "      <td>F/1/S</td>\n",
       "      <td>TRAPPIST-1e</td>\n",
       "      <td>16.0</td>\n",
       "      <td>False</td>\n",
       "      <td>303.0</td>\n",
       "      <td>70.0</td>\n",
       "      <td>151.0</td>\n",
       "      <td>565.0</td>\n",
       "      <td>2.0</td>\n",
       "      <td>Willy Santantines</td>\n",
       "      <td>True</td>\n",
       "    </tr>\n",
       "  </tbody>\n",
       "</table>\n",
       "</div>"
      ],
      "text/plain": [
       "  PassengerId HomePlanet CryoSleep  Cabin  Destination   Age    VIP  \\\n",
       "0     0001_01     Europa     False  B/0/P  TRAPPIST-1e  39.0  False   \n",
       "1     0002_01      Earth     False  F/0/S  TRAPPIST-1e  24.0  False   \n",
       "2     0003_01     Europa     False  A/0/S  TRAPPIST-1e  58.0   True   \n",
       "3     0003_02     Europa     False  A/0/S  TRAPPIST-1e  33.0  False   \n",
       "4     0004_01      Earth     False  F/1/S  TRAPPIST-1e  16.0  False   \n",
       "\n",
       "   RoomService  FoodCourt  ShoppingMall     Spa  VRDeck               Name  \\\n",
       "0          0.0        0.0           0.0     0.0     0.0    Maham Ofracculy   \n",
       "1        109.0        9.0          25.0   549.0    44.0       Juanna Vines   \n",
       "2         43.0     3576.0           0.0  6715.0    49.0      Altark Susent   \n",
       "3          0.0     1283.0         371.0  3329.0   193.0       Solam Susent   \n",
       "4        303.0       70.0         151.0   565.0     2.0  Willy Santantines   \n",
       "\n",
       "   Transported  \n",
       "0        False  \n",
       "1         True  \n",
       "2        False  \n",
       "3        False  \n",
       "4         True  "
      ]
     },
     "execution_count": 2,
     "metadata": {},
     "output_type": "execute_result"
    }
   ],
   "source": [
    "train_data = pd.read_csv(\"/kaggle/input/spaceship-titanic/train.csv\")\n",
    "test_data = pd.read_csv(\"/kaggle/input/spaceship-titanic/test.csv\")\n",
    "\n",
    "train_data.head()"
   ]
  },
  {
   "cell_type": "code",
   "execution_count": 3,
   "id": "f11a9851",
   "metadata": {
    "execution": {
     "iopub.execute_input": "2022-11-15T22:13:11.329278Z",
     "iopub.status.busy": "2022-11-15T22:13:11.328913Z",
     "iopub.status.idle": "2022-11-15T22:13:11.334197Z",
     "shell.execute_reply": "2022-11-15T22:13:11.332898Z"
    },
    "papermill": {
     "duration": 0.016329,
     "end_time": "2022-11-15T22:13:11.336611",
     "exception": false,
     "start_time": "2022-11-15T22:13:11.320282",
     "status": "completed"
    },
    "tags": []
   },
   "outputs": [],
   "source": [
    "#test_data.head()"
   ]
  },
  {
   "cell_type": "code",
   "execution_count": 4,
   "id": "570e17ed",
   "metadata": {
    "execution": {
     "iopub.execute_input": "2022-11-15T22:13:11.352213Z",
     "iopub.status.busy": "2022-11-15T22:13:11.351838Z",
     "iopub.status.idle": "2022-11-15T22:13:11.365866Z",
     "shell.execute_reply": "2022-11-15T22:13:11.364728Z"
    },
    "papermill": {
     "duration": 0.024661,
     "end_time": "2022-11-15T22:13:11.368264",
     "exception": false,
     "start_time": "2022-11-15T22:13:11.343603",
     "status": "completed"
    },
    "tags": []
   },
   "outputs": [
    {
     "name": "stdout",
     "output_type": "stream",
     "text": [
      "Training:\n",
      " (8693, 14) \n",
      "\n",
      "PassengerId       0\n",
      "HomePlanet      201\n",
      "CryoSleep       217\n",
      "Cabin           199\n",
      "Destination     182\n",
      "Age             179\n",
      "VIP             203\n",
      "RoomService     181\n",
      "FoodCourt       183\n",
      "ShoppingMall    208\n",
      "Spa             183\n",
      "VRDeck          188\n",
      "Name            200\n",
      "Transported       0\n",
      "dtype: int64 \n",
      "\n",
      "\n",
      "Test:\n",
      " (4277, 13) \n",
      "\n",
      "PassengerId       0\n",
      "HomePlanet       87\n",
      "CryoSleep        93\n",
      "Cabin           100\n",
      "Destination      92\n",
      "Age              91\n",
      "VIP              93\n",
      "RoomService      82\n",
      "FoodCourt       106\n",
      "ShoppingMall     98\n",
      "Spa             101\n",
      "VRDeck           80\n",
      "Name             94\n",
      "dtype: int64\n"
     ]
    }
   ],
   "source": [
    "# find missing values and print data dimensions\n",
    "print(\"Training:\\n\", train_data.shape, \"\\n\")\n",
    "print(train_data.isnull().sum(),\"\\n\\n\")\n",
    "print(\"Test:\\n\", test_data.shape, \"\\n\")\n",
    "print(test_data.isnull().sum())"
   ]
  },
  {
   "cell_type": "code",
   "execution_count": 5,
   "id": "fc67163e",
   "metadata": {
    "execution": {
     "iopub.execute_input": "2022-11-15T22:13:11.386657Z",
     "iopub.status.busy": "2022-11-15T22:13:11.386282Z",
     "iopub.status.idle": "2022-11-15T22:13:11.950816Z",
     "shell.execute_reply": "2022-11-15T22:13:11.949247Z"
    },
    "papermill": {
     "duration": 0.57591,
     "end_time": "2022-11-15T22:13:11.953194",
     "exception": false,
     "start_time": "2022-11-15T22:13:11.377284",
     "status": "completed"
    },
    "tags": []
   },
   "outputs": [
    {
     "data": {
      "text/plain": [
       "<AxesSubplot:>"
      ]
     },
     "execution_count": 5,
     "metadata": {},
     "output_type": "execute_result"
    },
    {
     "data": {
      "image/png": "[encoded data removed]",
      "text/plain": [
       "<Figure size 800x500 with 2 Axes>"
      ]
     },
     "metadata": {
      "needs_background": "light"
     },
     "output_type": "display_data"
    }
   ],
   "source": [
    "# visualize missing values\n",
    "plt.figure(dpi=100, figsize=(8, 5))\n",
    "sns.heatmap(train_data.isnull())"
   ]
  },
  {
   "cell_type": "code",
   "execution_count": 6,
   "id": "1181079b",
   "metadata": {
    "execution": {
     "iopub.execute_input": "2022-11-15T22:13:11.971159Z",
     "iopub.status.busy": "2022-11-15T22:13:11.970323Z",
     "iopub.status.idle": "2022-11-15T22:13:11.978618Z",
     "shell.execute_reply": "2022-11-15T22:13:11.977220Z"
    },
    "papermill": {
     "duration": 0.019936,
     "end_time": "2022-11-15T22:13:11.981145",
     "exception": false,
     "start_time": "2022-11-15T22:13:11.961209",
     "status": "completed"
    },
    "tags": []
   },
   "outputs": [
    {
     "data": {
      "text/plain": [
       "PassengerId      object\n",
       "HomePlanet       object\n",
       "CryoSleep        object\n",
       "Cabin            object\n",
       "Destination      object\n",
       "Age             float64\n",
       "VIP              object\n",
       "RoomService     float64\n",
       "FoodCourt       float64\n",
       "ShoppingMall    float64\n",
       "Spa             float64\n",
       "VRDeck          float64\n",
       "Name             object\n",
       "Transported        bool\n",
       "dtype: object"
      ]
     },
     "execution_count": 6,
     "metadata": {},
     "output_type": "execute_result"
    }
   ],
   "source": [
    "train_data.dtypes"
   ]
  },
  {
   "cell_type": "code",
   "execution_count": 7,
   "id": "c1f3d638",
   "metadata": {
    "execution": {
     "iopub.execute_input": "2022-11-15T22:13:11.998904Z",
     "iopub.status.busy": "2022-11-15T22:13:11.998448Z",
     "iopub.status.idle": "2022-11-15T22:13:12.023004Z",
     "shell.execute_reply": "2022-11-15T22:13:12.021121Z"
    },
    "papermill": {
     "duration": 0.036006,
     "end_time": "2022-11-15T22:13:12.025579",
     "exception": false,
     "start_time": "2022-11-15T22:13:11.989573",
     "status": "completed"
    },
    "tags": []
   },
   "outputs": [
    {
     "data": {
      "text/plain": [
       "PassengerId     8693\n",
       "HomePlanet         3\n",
       "CryoSleep          2\n",
       "Cabin           6560\n",
       "Destination        3\n",
       "Age               80\n",
       "VIP                2\n",
       "RoomService     1273\n",
       "FoodCourt       1507\n",
       "ShoppingMall    1115\n",
       "Spa             1327\n",
       "VRDeck          1306\n",
       "Name            8473\n",
       "Transported        2\n",
       "dtype: int64"
      ]
     },
     "execution_count": 7,
     "metadata": {},
     "output_type": "execute_result"
    }
   ],
   "source": [
    "train_data.nunique()"
   ]
  },
  {
   "cell_type": "code",
   "execution_count": 8,
   "id": "774dec05",
   "metadata": {
    "execution": {
     "iopub.execute_input": "2022-11-15T22:13:12.043364Z",
     "iopub.status.busy": "2022-11-15T22:13:12.042821Z",
     "iopub.status.idle": "2022-11-15T22:13:12.084684Z",
     "shell.execute_reply": "2022-11-15T22:13:12.083786Z"
    },
    "papermill": {
     "duration": 0.052837,
     "end_time": "2022-11-15T22:13:12.086535",
     "exception": false,
     "start_time": "2022-11-15T22:13:12.033698",
     "status": "completed"
    },
    "tags": []
   },
   "outputs": [
    {
     "data": {
      "text/html": [
       "<div>\n",
       "<style scoped>\n",
       "    .dataframe tbody tr th:only-of-type {\n",
       "        vertical-align: middle;\n",
       "    }\n",
       "\n",
       "    .dataframe tbody tr th {\n",
       "        vertical-align: top;\n",
       "    }\n",
       "\n",
       "    .dataframe thead th {\n",
       "        text-align: right;\n",
       "    }\n",
       "</style>\n",
       "<table border=\"1\" class=\"dataframe\">\n",
       "  <thead>\n",
       "    <tr style=\"text-align: right;\">\n",
       "      <th></th>\n",
       "      <th>Age</th>\n",
       "      <th>RoomService</th>\n",
       "      <th>FoodCourt</th>\n",
       "      <th>ShoppingMall</th>\n",
       "      <th>Spa</th>\n",
       "      <th>VRDeck</th>\n",
       "    </tr>\n",
       "  </thead>\n",
       "  <tbody>\n",
       "    <tr>\n",
       "      <th>count</th>\n",
       "      <td>8514.000000</td>\n",
       "      <td>8512.000000</td>\n",
       "      <td>8510.000000</td>\n",
       "      <td>8485.000000</td>\n",
       "      <td>8510.000000</td>\n",
       "      <td>8505.000000</td>\n",
       "    </tr>\n",
       "    <tr>\n",
       "      <th>mean</th>\n",
       "      <td>28.827930</td>\n",
       "      <td>224.687617</td>\n",
       "      <td>458.077203</td>\n",
       "      <td>173.729169</td>\n",
       "      <td>311.138778</td>\n",
       "      <td>304.854791</td>\n",
       "    </tr>\n",
       "    <tr>\n",
       "      <th>std</th>\n",
       "      <td>14.489021</td>\n",
       "      <td>666.717663</td>\n",
       "      <td>1611.489240</td>\n",
       "      <td>604.696458</td>\n",
       "      <td>1136.705535</td>\n",
       "      <td>1145.717189</td>\n",
       "    </tr>\n",
       "    <tr>\n",
       "      <th>min</th>\n",
       "      <td>0.000000</td>\n",
       "      <td>0.000000</td>\n",
       "      <td>0.000000</td>\n",
       "      <td>0.000000</td>\n",
       "      <td>0.000000</td>\n",
       "      <td>0.000000</td>\n",
       "    </tr>\n",
       "    <tr>\n",
       "      <th>25%</th>\n",
       "      <td>19.000000</td>\n",
       "      <td>0.000000</td>\n",
       "      <td>0.000000</td>\n",
       "      <td>0.000000</td>\n",
       "      <td>0.000000</td>\n",
       "      <td>0.000000</td>\n",
       "    </tr>\n",
       "    <tr>\n",
       "      <th>50%</th>\n",
       "      <td>27.000000</td>\n",
       "      <td>0.000000</td>\n",
       "      <td>0.000000</td>\n",
       "      <td>0.000000</td>\n",
       "      <td>0.000000</td>\n",
       "      <td>0.000000</td>\n",
       "    </tr>\n",
       "    <tr>\n",
       "      <th>75%</th>\n",
       "      <td>38.000000</td>\n",
       "      <td>47.000000</td>\n",
       "      <td>76.000000</td>\n",
       "      <td>27.000000</td>\n",
       "      <td>59.000000</td>\n",
       "      <td>46.000000</td>\n",
       "    </tr>\n",
       "    <tr>\n",
       "      <th>max</th>\n",
       "      <td>79.000000</td>\n",
       "      <td>14327.000000</td>\n",
       "      <td>29813.000000</td>\n",
       "      <td>23492.000000</td>\n",
       "      <td>22408.000000</td>\n",
       "      <td>24133.000000</td>\n",
       "    </tr>\n",
       "  </tbody>\n",
       "</table>\n",
       "</div>"
      ],
      "text/plain": [
       "               Age   RoomService     FoodCourt  ShoppingMall           Spa  \\\n",
       "count  8514.000000   8512.000000   8510.000000   8485.000000   8510.000000   \n",
       "mean     28.827930    224.687617    458.077203    173.729169    311.138778   \n",
       "std      14.489021    666.717663   1611.489240    604.696458   1136.705535   \n",
       "min       0.000000      0.000000      0.000000      0.000000      0.000000   \n",
       "25%      19.000000      0.000000      0.000000      0.000000      0.000000   \n",
       "50%      27.000000      0.000000      0.000000      0.000000      0.000000   \n",
       "75%      38.000000     47.000000     76.000000     27.000000     59.000000   \n",
       "max      79.000000  14327.000000  29813.000000  23492.000000  22408.000000   \n",
       "\n",
       "             VRDeck  \n",
       "count   8505.000000  \n",
       "mean     304.854791  \n",
       "std     1145.717189  \n",
       "min        0.000000  \n",
       "25%        0.000000  \n",
       "50%        0.000000  \n",
       "75%       46.000000  \n",
       "max    24133.000000  "
      ]
     },
     "execution_count": 8,
     "metadata": {},
     "output_type": "execute_result"
    }
   ],
   "source": [
    "train_data.describe()"
   ]
  },
  {
   "cell_type": "code",
   "execution_count": 9,
   "id": "a8407496",
   "metadata": {
    "execution": {
     "iopub.execute_input": "2022-11-15T22:13:12.106320Z",
     "iopub.status.busy": "2022-11-15T22:13:12.105379Z",
     "iopub.status.idle": "2022-11-15T22:13:12.116849Z",
     "shell.execute_reply": "2022-11-15T22:13:12.114762Z"
    },
    "papermill": {
     "duration": 0.024231,
     "end_time": "2022-11-15T22:13:12.119449",
     "exception": false,
     "start_time": "2022-11-15T22:13:12.095218",
     "status": "completed"
    },
    "tags": []
   },
   "outputs": [
    {
     "name": "stdout",
     "output_type": "stream",
     "text": [
      "Earth     4602\n",
      "Europa    2131\n",
      "Mars      1759\n",
      "Name: HomePlanet, dtype: int64 \n",
      "\n",
      "False    5439\n",
      "True     3037\n",
      "Name: CryoSleep, dtype: int64 \n",
      "\n",
      "TRAPPIST-1e      5915\n",
      "55 Cancri e      1800\n",
      "PSO J318.5-22     796\n",
      "Name: Destination, dtype: int64 \n",
      "\n",
      "False    8291\n",
      "True      199\n",
      "Name: VIP, dtype: int64 \n",
      "\n"
     ]
    }
   ],
   "source": [
    "for c in ['HomePlanet', 'CryoSleep', 'Destination', 'VIP']:\n",
    "    print(train_data[c].value_counts(), \"\\n\")"
   ]
  },
  {
   "cell_type": "markdown",
   "id": "27b2798f",
   "metadata": {
    "papermill": {
     "duration": 0.00823,
     "end_time": "2022-11-15T22:13:12.136210",
     "exception": false,
     "start_time": "2022-11-15T22:13:12.127980",
     "status": "completed"
    },
    "tags": []
   },
   "source": [
    "# New Features"
   ]
  },
  {
   "cell_type": "code",
   "execution_count": 10,
   "id": "585c2652",
   "metadata": {
    "execution": {
     "iopub.execute_input": "2022-11-15T22:13:12.155990Z",
     "iopub.status.busy": "2022-11-15T22:13:12.155372Z",
     "iopub.status.idle": "2022-11-15T22:13:12.203676Z",
     "shell.execute_reply": "2022-11-15T22:13:12.202738Z"
    },
    "papermill": {
     "duration": 0.060538,
     "end_time": "2022-11-15T22:13:12.205636",
     "exception": false,
     "start_time": "2022-11-15T22:13:12.145098",
     "status": "completed"
    },
    "tags": []
   },
   "outputs": [
    {
     "data": {
      "text/html": [
       "<div>\n",
       "<style scoped>\n",
       "    .dataframe tbody tr th:only-of-type {\n",
       "        vertical-align: middle;\n",
       "    }\n",
       "\n",
       "    .dataframe tbody tr th {\n",
       "        vertical-align: top;\n",
       "    }\n",
       "\n",
       "    .dataframe thead th {\n",
       "        text-align: right;\n",
       "    }\n",
       "</style>\n",
       "<table border=\"1\" class=\"dataframe\">\n",
       "  <thead>\n",
       "    <tr style=\"text-align: right;\">\n",
       "      <th></th>\n",
       "      <th>PassengerId</th>\n",
       "      <th>HomePlanet</th>\n",
       "      <th>CryoSleep</th>\n",
       "      <th>Cabin</th>\n",
       "      <th>Destination</th>\n",
       "      <th>Age</th>\n",
       "      <th>VIP</th>\n",
       "      <th>RoomService</th>\n",
       "      <th>FoodCourt</th>\n",
       "      <th>ShoppingMall</th>\n",
       "      <th>Spa</th>\n",
       "      <th>VRDeck</th>\n",
       "      <th>Name</th>\n",
       "      <th>Transported</th>\n",
       "      <th>GroupId</th>\n",
       "      <th>MemberId</th>\n",
       "      <th>CabinDeck</th>\n",
       "      <th>CabinNum</th>\n",
       "      <th>CabinSide</th>\n",
       "    </tr>\n",
       "  </thead>\n",
       "  <tbody>\n",
       "    <tr>\n",
       "      <th>0</th>\n",
       "      <td>0001_01</td>\n",
       "      <td>Europa</td>\n",
       "      <td>False</td>\n",
       "      <td>B/0/P</td>\n",
       "      <td>TRAPPIST-1e</td>\n",
       "      <td>39.0</td>\n",
       "      <td>False</td>\n",
       "      <td>0.0</td>\n",
       "      <td>0.0</td>\n",
       "      <td>0.0</td>\n",
       "      <td>0.0</td>\n",
       "      <td>0.0</td>\n",
       "      <td>Maham Ofracculy</td>\n",
       "      <td>False</td>\n",
       "      <td>0001</td>\n",
       "      <td>01</td>\n",
       "      <td>B</td>\n",
       "      <td>0</td>\n",
       "      <td>P</td>\n",
       "    </tr>\n",
       "    <tr>\n",
       "      <th>1</th>\n",
       "      <td>0002_01</td>\n",
       "      <td>Earth</td>\n",
       "      <td>False</td>\n",
       "      <td>F/0/S</td>\n",
       "      <td>TRAPPIST-1e</td>\n",
       "      <td>24.0</td>\n",
       "      <td>False</td>\n",
       "      <td>109.0</td>\n",
       "      <td>9.0</td>\n",
       "      <td>25.0</td>\n",
       "      <td>549.0</td>\n",
       "      <td>44.0</td>\n",
       "      <td>Juanna Vines</td>\n",
       "      <td>True</td>\n",
       "      <td>0002</td>\n",
       "      <td>01</td>\n",
       "      <td>F</td>\n",
       "      <td>0</td>\n",
       "      <td>S</td>\n",
       "    </tr>\n",
       "    <tr>\n",
       "      <th>2</th>\n",
       "      <td>0003_01</td>\n",
       "      <td>Europa</td>\n",
       "      <td>False</td>\n",
       "      <td>A/0/S</td>\n",
       "      <td>TRAPPIST-1e</td>\n",
       "      <td>58.0</td>\n",
       "      <td>True</td>\n",
       "      <td>43.0</td>\n",
       "      <td>3576.0</td>\n",
       "      <td>0.0</td>\n",
       "      <td>6715.0</td>\n",
       "      <td>49.0</td>\n",
       "      <td>Altark Susent</td>\n",
       "      <td>False</td>\n",
       "      <td>0003</td>\n",
       "      <td>01</td>\n",
       "      <td>A</td>\n",
       "      <td>0</td>\n",
       "      <td>S</td>\n",
       "    </tr>\n",
       "    <tr>\n",
       "      <th>3</th>\n",
       "      <td>0003_02</td>\n",
       "      <td>Europa</td>\n",
       "      <td>False</td>\n",
       "      <td>A/0/S</td>\n",
       "      <td>TRAPPIST-1e</td>\n",
       "      <td>33.0</td>\n",
       "      <td>False</td>\n",
       "      <td>0.0</td>\n",
       "      <td>1283.0</td>\n",
       "      <td>371.0</td>\n",
       "      <td>3329.0</td>\n",
       "      <td>193.0</td>\n",
       "      <td>Solam Susent</td>\n",
       "      <td>False</td>\n",
       "      <td>0003</td>\n",
       "      <td>02</td>\n",
       "      <td>A</td>\n",
       "      <td>0</td>\n",
       "      <td>S</td>\n",
       "    </tr>\n",
       "    <tr>\n",
       "      <th>4</th>\n",
       "      <td>0004_01</td>\n",
       "      <td>Earth</td>\n",
       "      <td>False</td>\n",
       "      <td>F/1/S</td>\n",
       "      <td>TRAPPIST-1e</td>\n",
       "      <td>16.0</td>\n",
       "      <td>False</td>\n",
       "      <td>303.0</td>\n",
       "      <td>70.0</td>\n",
       "      <td>151.0</td>\n",
       "      <td>565.0</td>\n",
       "      <td>2.0</td>\n",
       "      <td>Willy Santantines</td>\n",
       "      <td>True</td>\n",
       "      <td>0004</td>\n",
       "      <td>01</td>\n",
       "      <td>F</td>\n",
       "      <td>1</td>\n",
       "      <td>S</td>\n",
       "    </tr>\n",
       "  </tbody>\n",
       "</table>\n",
       "</div>"
      ],
      "text/plain": [
       "  PassengerId HomePlanet CryoSleep  Cabin  Destination   Age    VIP  \\\n",
       "0     0001_01     Europa     False  B/0/P  TRAPPIST-1e  39.0  False   \n",
       "1     0002_01      Earth     False  F/0/S  TRAPPIST-1e  24.0  False   \n",
       "2     0003_01     Europa     False  A/0/S  TRAPPIST-1e  58.0   True   \n",
       "3     0003_02     Europa     False  A/0/S  TRAPPIST-1e  33.0  False   \n",
       "4     0004_01      Earth     False  F/1/S  TRAPPIST-1e  16.0  False   \n",
       "\n",
       "   RoomService  FoodCourt  ShoppingMall     Spa  VRDeck               Name  \\\n",
       "0          0.0        0.0           0.0     0.0     0.0    Maham Ofracculy   \n",
       "1        109.0        9.0          25.0   549.0    44.0       Juanna Vines   \n",
       "2         43.0     3576.0           0.0  6715.0    49.0      Altark Susent   \n",
       "3          0.0     1283.0         371.0  3329.0   193.0       Solam Susent   \n",
       "4        303.0       70.0         151.0   565.0     2.0  Willy Santantines   \n",
       "\n",
       "   Transported GroupId MemberId CabinDeck CabinNum CabinSide  \n",
       "0        False    0001       01         B        0         P  \n",
       "1         True    0002       01         F        0         S  \n",
       "2        False    0003       01         A        0         S  \n",
       "3        False    0003       02         A        0         S  \n",
       "4         True    0004       01         F        1         S  "
      ]
     },
     "execution_count": 10,
     "metadata": {},
     "output_type": "execute_result"
    }
   ],
   "source": [
    "# separate information in PassengerID and Cabin\n",
    "train_data[['GroupId', 'MemberId']] = train_data['PassengerId'].str.split(\"_\", expand=True)\n",
    "train_data[['CabinDeck', 'CabinNum', 'CabinSide']] = train_data['Cabin'].str.split(\"/\", expand=True)\n",
    "train_data.head()"
   ]
  },
  {
   "cell_type": "code",
   "execution_count": 11,
   "id": "1c53c863",
   "metadata": {
    "execution": {
     "iopub.execute_input": "2022-11-15T22:13:12.225333Z",
     "iopub.status.busy": "2022-11-15T22:13:12.224797Z",
     "iopub.status.idle": "2022-11-15T22:13:12.236299Z",
     "shell.execute_reply": "2022-11-15T22:13:12.234770Z"
    },
    "papermill": {
     "duration": 0.024113,
     "end_time": "2022-11-15T22:13:12.238404",
     "exception": false,
     "start_time": "2022-11-15T22:13:12.214291",
     "status": "completed"
    },
    "tags": []
   },
   "outputs": [
    {
     "name": "stdout",
     "output_type": "stream",
     "text": [
      "F    2794\n",
      "G    2559\n",
      "E     876\n",
      "B     779\n",
      "C     747\n",
      "D     478\n",
      "A     256\n",
      "T       5\n",
      "Name: CabinDeck, dtype: int64 \n",
      "\n",
      "82      28\n",
      "86      22\n",
      "19      22\n",
      "56      21\n",
      "176     21\n",
      "        ..\n",
      "1644     1\n",
      "1515     1\n",
      "1639     1\n",
      "1277     1\n",
      "1894     1\n",
      "Name: CabinNum, Length: 1817, dtype: int64 \n",
      "\n",
      "S    4288\n",
      "P    4206\n",
      "Name: CabinSide, dtype: int64 \n",
      "\n"
     ]
    }
   ],
   "source": [
    "for c in ['CabinDeck', 'CabinNum', 'CabinSide']:\n",
    "    print(train_data[c].value_counts(), \"\\n\")"
   ]
  },
  {
   "cell_type": "code",
   "execution_count": 12,
   "id": "ea580b75",
   "metadata": {
    "execution": {
     "iopub.execute_input": "2022-11-15T22:13:12.258193Z",
     "iopub.status.busy": "2022-11-15T22:13:12.257293Z",
     "iopub.status.idle": "2022-11-15T22:13:12.266225Z",
     "shell.execute_reply": "2022-11-15T22:13:12.265270Z"
    },
    "papermill": {
     "duration": 0.021094,
     "end_time": "2022-11-15T22:13:12.268441",
     "exception": false,
     "start_time": "2022-11-15T22:13:12.247347",
     "status": "completed"
    },
    "tags": []
   },
   "outputs": [],
   "source": [
    "# create a total spending feature\n",
    "train_data['TotalSpend'] = train_data[['RoomService', 'FoodCourt', 'ShoppingMall', 'Spa', 'VRDeck']].sum(axis=1)"
   ]
  },
  {
   "cell_type": "code",
   "execution_count": 13,
   "id": "caf42720",
   "metadata": {
    "execution": {
     "iopub.execute_input": "2022-11-15T22:13:12.287112Z",
     "iopub.status.busy": "2022-11-15T22:13:12.286726Z",
     "iopub.status.idle": "2022-11-15T22:13:12.319293Z",
     "shell.execute_reply": "2022-11-15T22:13:12.317784Z"
    },
    "papermill": {
     "duration": 0.044292,
     "end_time": "2022-11-15T22:13:12.321253",
     "exception": false,
     "start_time": "2022-11-15T22:13:12.276961",
     "status": "completed"
    },
    "tags": []
   },
   "outputs": [
    {
     "data": {
      "text/html": [
       "<div>\n",
       "<style scoped>\n",
       "    .dataframe tbody tr th:only-of-type {\n",
       "        vertical-align: middle;\n",
       "    }\n",
       "\n",
       "    .dataframe tbody tr th {\n",
       "        vertical-align: top;\n",
       "    }\n",
       "\n",
       "    .dataframe thead th {\n",
       "        text-align: right;\n",
       "    }\n",
       "</style>\n",
       "<table border=\"1\" class=\"dataframe\">\n",
       "  <thead>\n",
       "    <tr style=\"text-align: right;\">\n",
       "      <th></th>\n",
       "      <th>PassengerId</th>\n",
       "      <th>HomePlanet</th>\n",
       "      <th>CryoSleep</th>\n",
       "      <th>Cabin</th>\n",
       "      <th>Destination</th>\n",
       "      <th>Age</th>\n",
       "      <th>VIP</th>\n",
       "      <th>RoomService</th>\n",
       "      <th>FoodCourt</th>\n",
       "      <th>ShoppingMall</th>\n",
       "      <th>...</th>\n",
       "      <th>VRDeck</th>\n",
       "      <th>Name</th>\n",
       "      <th>Transported</th>\n",
       "      <th>GroupId</th>\n",
       "      <th>MemberId</th>\n",
       "      <th>CabinDeck</th>\n",
       "      <th>CabinNum</th>\n",
       "      <th>CabinSide</th>\n",
       "      <th>TotalSpend</th>\n",
       "      <th>GroupSize</th>\n",
       "    </tr>\n",
       "  </thead>\n",
       "  <tbody>\n",
       "    <tr>\n",
       "      <th>0</th>\n",
       "      <td>0001_01</td>\n",
       "      <td>Europa</td>\n",
       "      <td>False</td>\n",
       "      <td>B/0/P</td>\n",
       "      <td>TRAPPIST-1e</td>\n",
       "      <td>39.0</td>\n",
       "      <td>False</td>\n",
       "      <td>0.0</td>\n",
       "      <td>0.0</td>\n",
       "      <td>0.0</td>\n",
       "      <td>...</td>\n",
       "      <td>0.0</td>\n",
       "      <td>Maham Ofracculy</td>\n",
       "      <td>False</td>\n",
       "      <td>0001</td>\n",
       "      <td>01</td>\n",
       "      <td>B</td>\n",
       "      <td>0</td>\n",
       "      <td>P</td>\n",
       "      <td>0.0</td>\n",
       "      <td>1</td>\n",
       "    </tr>\n",
       "    <tr>\n",
       "      <th>1</th>\n",
       "      <td>0002_01</td>\n",
       "      <td>Earth</td>\n",
       "      <td>False</td>\n",
       "      <td>F/0/S</td>\n",
       "      <td>TRAPPIST-1e</td>\n",
       "      <td>24.0</td>\n",
       "      <td>False</td>\n",
       "      <td>109.0</td>\n",
       "      <td>9.0</td>\n",
       "      <td>25.0</td>\n",
       "      <td>...</td>\n",
       "      <td>44.0</td>\n",
       "      <td>Juanna Vines</td>\n",
       "      <td>True</td>\n",
       "      <td>0002</td>\n",
       "      <td>01</td>\n",
       "      <td>F</td>\n",
       "      <td>0</td>\n",
       "      <td>S</td>\n",
       "      <td>736.0</td>\n",
       "      <td>1</td>\n",
       "    </tr>\n",
       "    <tr>\n",
       "      <th>2</th>\n",
       "      <td>0003_01</td>\n",
       "      <td>Europa</td>\n",
       "      <td>False</td>\n",
       "      <td>A/0/S</td>\n",
       "      <td>TRAPPIST-1e</td>\n",
       "      <td>58.0</td>\n",
       "      <td>True</td>\n",
       "      <td>43.0</td>\n",
       "      <td>3576.0</td>\n",
       "      <td>0.0</td>\n",
       "      <td>...</td>\n",
       "      <td>49.0</td>\n",
       "      <td>Altark Susent</td>\n",
       "      <td>False</td>\n",
       "      <td>0003</td>\n",
       "      <td>01</td>\n",
       "      <td>A</td>\n",
       "      <td>0</td>\n",
       "      <td>S</td>\n",
       "      <td>10383.0</td>\n",
       "      <td>2</td>\n",
       "    </tr>\n",
       "    <tr>\n",
       "      <th>3</th>\n",
       "      <td>0003_02</td>\n",
       "      <td>Europa</td>\n",
       "      <td>False</td>\n",
       "      <td>A/0/S</td>\n",
       "      <td>TRAPPIST-1e</td>\n",
       "      <td>33.0</td>\n",
       "      <td>False</td>\n",
       "      <td>0.0</td>\n",
       "      <td>1283.0</td>\n",
       "      <td>371.0</td>\n",
       "      <td>...</td>\n",
       "      <td>193.0</td>\n",
       "      <td>Solam Susent</td>\n",
       "      <td>False</td>\n",
       "      <td>0003</td>\n",
       "      <td>02</td>\n",
       "      <td>A</td>\n",
       "      <td>0</td>\n",
       "      <td>S</td>\n",
       "      <td>5176.0</td>\n",
       "      <td>2</td>\n",
       "    </tr>\n",
       "    <tr>\n",
       "      <th>4</th>\n",
       "      <td>0004_01</td>\n",
       "      <td>Earth</td>\n",
       "      <td>False</td>\n",
       "      <td>F/1/S</td>\n",
       "      <td>TRAPPIST-1e</td>\n",
       "      <td>16.0</td>\n",
       "      <td>False</td>\n",
       "      <td>303.0</td>\n",
       "      <td>70.0</td>\n",
       "      <td>151.0</td>\n",
       "      <td>...</td>\n",
       "      <td>2.0</td>\n",
       "      <td>Willy Santantines</td>\n",
       "      <td>True</td>\n",
       "      <td>0004</td>\n",
       "      <td>01</td>\n",
       "      <td>F</td>\n",
       "      <td>1</td>\n",
       "      <td>S</td>\n",
       "      <td>1091.0</td>\n",
       "      <td>1</td>\n",
       "    </tr>\n",
       "  </tbody>\n",
       "</table>\n",
       "<p>5 rows × 21 columns</p>\n",
       "</div>"
      ],
      "text/plain": [
       "  PassengerId HomePlanet CryoSleep  Cabin  Destination   Age    VIP  \\\n",
       "0     0001_01     Europa     False  B/0/P  TRAPPIST-1e  39.0  False   \n",
       "1     0002_01      Earth     False  F/0/S  TRAPPIST-1e  24.0  False   \n",
       "2     0003_01     Europa     False  A/0/S  TRAPPIST-1e  58.0   True   \n",
       "3     0003_02     Europa     False  A/0/S  TRAPPIST-1e  33.0  False   \n",
       "4     0004_01      Earth     False  F/1/S  TRAPPIST-1e  16.0  False   \n",
       "\n",
       "   RoomService  FoodCourt  ShoppingMall  ...  VRDeck               Name  \\\n",
       "0          0.0        0.0           0.0  ...     0.0    Maham Ofracculy   \n",
       "1        109.0        9.0          25.0  ...    44.0       Juanna Vines   \n",
       "2         43.0     3576.0           0.0  ...    49.0      Altark Susent   \n",
       "3          0.0     1283.0         371.0  ...   193.0       Solam Susent   \n",
       "4        303.0       70.0         151.0  ...     2.0  Willy Santantines   \n",
       "\n",
       "  Transported  GroupId MemberId CabinDeck CabinNum CabinSide TotalSpend  \\\n",
       "0       False     0001       01         B        0         P        0.0   \n",
       "1        True     0002       01         F        0         S      736.0   \n",
       "2       False     0003       01         A        0         S    10383.0   \n",
       "3       False     0003       02         A        0         S     5176.0   \n",
       "4        True     0004       01         F        1         S     1091.0   \n",
       "\n",
       "   GroupSize  \n",
       "0          1  \n",
       "1          1  \n",
       "2          2  \n",
       "3          2  \n",
       "4          1  \n",
       "\n",
       "[5 rows x 21 columns]"
      ]
     },
     "execution_count": 13,
     "metadata": {},
     "output_type": "execute_result"
    }
   ],
   "source": [
    "# create a feature for group size\n",
    "train_data['GroupSize'] = train_data.groupby('GroupId')['GroupId'].transform('count')\n",
    "train_data.head()"
   ]
  },
  {
   "cell_type": "code",
   "execution_count": 14,
   "id": "aa16b830",
   "metadata": {
    "execution": {
     "iopub.execute_input": "2022-11-15T22:13:12.340547Z",
     "iopub.status.busy": "2022-11-15T22:13:12.339995Z",
     "iopub.status.idle": "2022-11-15T22:13:12.364633Z",
     "shell.execute_reply": "2022-11-15T22:13:12.363522Z"
    },
    "papermill": {
     "duration": 0.036181,
     "end_time": "2022-11-15T22:13:12.366314",
     "exception": false,
     "start_time": "2022-11-15T22:13:12.330133",
     "status": "completed"
    },
    "tags": []
   },
   "outputs": [
    {
     "data": {
      "text/html": [
       "<div>\n",
       "<style scoped>\n",
       "    .dataframe tbody tr th:only-of-type {\n",
       "        vertical-align: middle;\n",
       "    }\n",
       "\n",
       "    .dataframe tbody tr th {\n",
       "        vertical-align: top;\n",
       "    }\n",
       "\n",
       "    .dataframe thead th {\n",
       "        text-align: right;\n",
       "    }\n",
       "</style>\n",
       "<table border=\"1\" class=\"dataframe\">\n",
       "  <thead>\n",
       "    <tr style=\"text-align: right;\">\n",
       "      <th></th>\n",
       "      <th>count</th>\n",
       "      <th>mean</th>\n",
       "      <th>std</th>\n",
       "      <th>min</th>\n",
       "      <th>25%</th>\n",
       "      <th>50%</th>\n",
       "      <th>75%</th>\n",
       "      <th>max</th>\n",
       "    </tr>\n",
       "    <tr>\n",
       "      <th>CryoSleep</th>\n",
       "      <th></th>\n",
       "      <th></th>\n",
       "      <th></th>\n",
       "      <th></th>\n",
       "      <th></th>\n",
       "      <th></th>\n",
       "      <th></th>\n",
       "      <th></th>\n",
       "    </tr>\n",
       "  </thead>\n",
       "  <tbody>\n",
       "    <tr>\n",
       "      <th>False</th>\n",
       "      <td>5439.0</td>\n",
       "      <td>2248.299687</td>\n",
       "      <td>3245.061489</td>\n",
       "      <td>0.0</td>\n",
       "      <td>746.0</td>\n",
       "      <td>1019.0</td>\n",
       "      <td>2416.0</td>\n",
       "      <td>35987.0</td>\n",
       "    </tr>\n",
       "    <tr>\n",
       "      <th>True</th>\n",
       "      <td>3037.0</td>\n",
       "      <td>0.000000</td>\n",
       "      <td>0.000000</td>\n",
       "      <td>0.0</td>\n",
       "      <td>0.0</td>\n",
       "      <td>0.0</td>\n",
       "      <td>0.0</td>\n",
       "      <td>0.0</td>\n",
       "    </tr>\n",
       "  </tbody>\n",
       "</table>\n",
       "</div>"
      ],
      "text/plain": [
       "            count         mean          std  min    25%     50%     75%  \\\n",
       "CryoSleep                                                                 \n",
       "False      5439.0  2248.299687  3245.061489  0.0  746.0  1019.0  2416.0   \n",
       "True       3037.0     0.000000     0.000000  0.0    0.0     0.0     0.0   \n",
       "\n",
       "               max  \n",
       "CryoSleep           \n",
       "False      35987.0  \n",
       "True           0.0  "
      ]
     },
     "execution_count": 14,
     "metadata": {},
     "output_type": "execute_result"
    }
   ],
   "source": [
    "#check that people in CryoSleep are not spending money\n",
    "train_data.groupby('CryoSleep')['TotalSpend'].describe()"
   ]
  },
  {
   "cell_type": "markdown",
   "id": "7b972e46",
   "metadata": {
    "papermill": {
     "duration": 0.008261,
     "end_time": "2022-11-15T22:13:12.383236",
     "exception": false,
     "start_time": "2022-11-15T22:13:12.374975",
     "status": "completed"
    },
    "tags": []
   },
   "source": [
    "# EDA with new features"
   ]
  },
  {
   "cell_type": "code",
   "execution_count": 15,
   "id": "da59c15a",
   "metadata": {
    "execution": {
     "iopub.execute_input": "2022-11-15T22:13:12.402766Z",
     "iopub.status.busy": "2022-11-15T22:13:12.401865Z",
     "iopub.status.idle": "2022-11-15T22:13:13.071096Z",
     "shell.execute_reply": "2022-11-15T22:13:13.069523Z"
    },
    "papermill": {
     "duration": 0.681313,
     "end_time": "2022-11-15T22:13:13.073213",
     "exception": false,
     "start_time": "2022-11-15T22:13:12.391900",
     "status": "completed"
    },
    "tags": []
   },
   "outputs": [
    {
     "data": {
      "text/plain": [
       "Cabin           0.542320\n",
       "GroupId         0.512914\n",
       "CabinNum        0.143284\n",
       "TotalSpend      0.132592\n",
       "CryoSleep       0.112254\n",
       "Spa             0.078739\n",
       "RoomService     0.072922\n",
       "VRDeck          0.060460\n",
       "ShoppingMall    0.050715\n",
       "FoodCourt       0.044122\n",
       "CabinDeck       0.022989\n",
       "HomePlanet      0.018581\n",
       "Age             0.010471\n",
       "GroupSize       0.007919\n",
       "Destination     0.006113\n",
       "CabinSide       0.005149\n",
       "MemberId        0.004350\n",
       "VIP             0.000700\n",
       "Name: MI Scores, dtype: float64"
      ]
     },
     "execution_count": 15,
     "metadata": {},
     "output_type": "execute_result"
    }
   ],
   "source": [
    "# find mutual information scores\n",
    "\n",
    "from sklearn.feature_selection import mutual_info_classif\n",
    "from sklearn.impute import SimpleImputer\n",
    "\n",
    "mi_df = train_data.copy()\n",
    "mi_df = mi_df.drop(['PassengerId', 'Name'], axis=1)  # drop the columns with unique identifiers\n",
    "\n",
    "# impute missing values\n",
    "categ_imputer = SimpleImputer(strategy = 'most_frequent')\n",
    "num_imputer = SimpleImputer(strategy = 'constant')\n",
    "\n",
    "categ_cols = [cname for cname in mi_df.columns if mi_df[cname].dtype == \"object\"]\n",
    "num_cols = [cname for cname in mi_df.columns if mi_df[cname].dtype in ['int64', 'float64']]\n",
    "\n",
    "mi_df[categ_cols] = pd.DataFrame(categ_imputer.fit_transform(mi_df[categ_cols]))\n",
    "mi_df[num_cols] = pd.DataFrame(num_imputer.fit_transform(mi_df[num_cols]))\n",
    "\n",
    "# Label encoding for categoricals\n",
    "for colname in mi_df.select_dtypes([\"object\", \"bool\"]):\n",
    "    mi_df[colname], _ = mi_df[colname].factorize()\n",
    "    \n",
    "X = mi_df.copy()\n",
    "y = X.pop(\"Transported\")\n",
    "\n",
    "# select discrete/categorical columns\n",
    "discrete_feat = discrete_features = X.dtypes == int\n",
    "\n",
    "mi_scores = mutual_info_classif(X, y, discrete_features=discrete_feat)\n",
    "mi_scores = pd.Series(mi_scores, name=\"MI Scores\", index=X.columns)\n",
    "mi_scores = mi_scores.sort_values(ascending=False)\n",
    "mi_scores"
   ]
  },
  {
   "cell_type": "code",
   "execution_count": 16,
   "id": "f37e2b7c",
   "metadata": {
    "execution": {
     "iopub.execute_input": "2022-11-15T22:13:13.092771Z",
     "iopub.status.busy": "2022-11-15T22:13:13.092418Z",
     "iopub.status.idle": "2022-11-15T22:13:13.350474Z",
     "shell.execute_reply": "2022-11-15T22:13:13.348611Z"
    },
    "papermill": {
     "duration": 0.270634,
     "end_time": "2022-11-15T22:13:13.352849",
     "exception": false,
     "start_time": "2022-11-15T22:13:13.082215",
     "status": "completed"
    },
    "tags": []
   },
   "outputs": [
    {
     "data": {
      "text/plain": [
       "Text(0.5, 1.0, 'Mutual Information Scores')"
      ]
     },
     "execution_count": 16,
     "metadata": {},
     "output_type": "execute_result"
    },
    {
     "data": {
      "image/png": "[encoded data removed]",
      "text/plain": [
       "<Figure size 800x500 with 1 Axes>"
      ]
     },
     "metadata": {
      "needs_background": "light"
     },
     "output_type": "display_data"
    }
   ],
   "source": [
    "# plot mutual information scores\n",
    "\n",
    "plt.figure(dpi=100, figsize=(8, 5))\n",
    "width = np.arange(len(mi_scores))\n",
    "ticks = list(mi_scores.index)\n",
    "plt.barh(width, mi_scores)\n",
    "plt.yticks(width, ticks)\n",
    "plt.title(\"Mutual Information Scores\")"
   ]
  },
  {
   "cell_type": "markdown",
   "id": "681ce556",
   "metadata": {
    "papermill": {
     "duration": 0.009307,
     "end_time": "2022-11-15T22:13:13.373075",
     "exception": false,
     "start_time": "2022-11-15T22:13:13.363768",
     "status": "completed"
    },
    "tags": []
   },
   "source": [
    "# Deal with Missing Values"
   ]
  },
  {
   "cell_type": "code",
   "execution_count": 17,
   "id": "6f102f7b",
   "metadata": {
    "execution": {
     "iopub.execute_input": "2022-11-15T22:13:13.394433Z",
     "iopub.status.busy": "2022-11-15T22:13:13.394094Z",
     "iopub.status.idle": "2022-11-15T22:13:13.400522Z",
     "shell.execute_reply": "2022-11-15T22:13:13.398942Z"
    },
    "papermill": {
     "duration": 0.020191,
     "end_time": "2022-11-15T22:13:13.402949",
     "exception": false,
     "start_time": "2022-11-15T22:13:13.382758",
     "status": "completed"
    },
    "tags": []
   },
   "outputs": [],
   "source": [
    "# modified a function found here -> https://stackoverflow.com/questions/1518522/find-the-most-common-element-in-a-list\n",
    "\n",
    "from collections import Counter\n",
    "\n",
    "def Most_Common(lst):\n",
    "    data = Counter(lst.dropna())\n",
    "    if len(data) > 0:\n",
    "        return data.most_common(1)[0][0]\n",
    "    else:\n",
    "        return None"
   ]
  },
  {
   "cell_type": "code",
   "execution_count": 18,
   "id": "4a5ea273",
   "metadata": {
    "execution": {
     "iopub.execute_input": "2022-11-15T22:13:13.423747Z",
     "iopub.status.busy": "2022-11-15T22:13:13.423306Z",
     "iopub.status.idle": "2022-11-15T22:13:14.098278Z",
     "shell.execute_reply": "2022-11-15T22:13:14.097293Z"
    },
    "papermill": {
     "duration": 0.68838,
     "end_time": "2022-11-15T22:13:14.100713",
     "exception": false,
     "start_time": "2022-11-15T22:13:13.412333",
     "status": "completed"
    },
    "tags": []
   },
   "outputs": [],
   "source": [
    "train_data2 = train_data.copy()\n",
    "\n",
    "train_data2.loc[train_data2['HomePlanet'].isnull(),\n",
    "                'HomePlanet'] = train_data2['GroupId'].map(train_data2.groupby(['GroupId'])['HomePlanet'].agg(Most_Common))\n",
    "\n",
    "train_data2.loc[train_data2['HomePlanet'].isnull(), 'HomePlanet'] = Most_Common(train_data2['HomePlanet'])"
   ]
  },
  {
   "cell_type": "code",
   "execution_count": 19,
   "id": "97923d46",
   "metadata": {
    "execution": {
     "iopub.execute_input": "2022-11-15T22:13:14.121877Z",
     "iopub.status.busy": "2022-11-15T22:13:14.121440Z",
     "iopub.status.idle": "2022-11-15T22:13:14.125989Z",
     "shell.execute_reply": "2022-11-15T22:13:14.124844Z"
    },
    "papermill": {
     "duration": 0.018032,
     "end_time": "2022-11-15T22:13:14.128423",
     "exception": false,
     "start_time": "2022-11-15T22:13:14.110391",
     "status": "completed"
    },
    "tags": []
   },
   "outputs": [],
   "source": [
    "# function to impute missing categorical values; column dtype must be 'object'\n",
    "#def impute_categorical_values(column):\n",
    "#    if column.dtype == 'object':\n",
    "        \n",
    "  #  else:\n",
    " #       print(\"Invalid dtype passed to function; must be 'object' dtype\")"
   ]
  },
  {
   "cell_type": "markdown",
   "id": "272ef8a7",
   "metadata": {
    "papermill": {
     "duration": 0.009269,
     "end_time": "2022-11-15T22:13:14.147296",
     "exception": false,
     "start_time": "2022-11-15T22:13:14.138027",
     "status": "completed"
    },
    "tags": []
   },
   "source": [
    "# Models"
   ]
  },
  {
   "cell_type": "code",
   "execution_count": 20,
   "id": "ad3a4db6",
   "metadata": {
    "execution": {
     "iopub.execute_input": "2022-11-15T22:13:14.168559Z",
     "iopub.status.busy": "2022-11-15T22:13:14.168155Z",
     "iopub.status.idle": "2022-11-15T22:13:14.370805Z",
     "shell.execute_reply": "2022-11-15T22:13:14.369855Z"
    },
    "papermill": {
     "duration": 0.216141,
     "end_time": "2022-11-15T22:13:14.373066",
     "exception": false,
     "start_time": "2022-11-15T22:13:14.156925",
     "status": "completed"
    },
    "tags": []
   },
   "outputs": [],
   "source": [
    "from sklearn.compose import ColumnTransformer\n",
    "from sklearn.pipeline import Pipeline\n",
    "from sklearn.impute import SimpleImputer\n",
    "from sklearn.preprocessing import OneHotEncoder\n",
    "from xgboost import XGBClassifier\n",
    "from sklearn.ensemble import RandomForestClassifier\n",
    "from sklearn.metrics import accuracy_score\n",
    "from sklearn.model_selection import GridSearchCV\n",
    "\n",
    "# Identify predictors to be used\n",
    "features = ['HomePlanet', 'CryoSleep', 'Destination', 'Age',\n",
    "            'GroupId', 'MemberId', 'CabinDeck', 'CabinNum',\n",
    "            'CabinSide', 'TotalSpend'] \n",
    "\n",
    "# Separate target from predictors (target has no missing values)\n",
    "y = train_data.Transported\n",
    "X = train_data[features]\n",
    "\n",
    "# select categorical columns\n",
    "categorical_cols = [cname for cname in X.columns if X[cname].dtype == \"object\"]\n",
    "\n",
    "# Select numerical columns\n",
    "numerical_cols = [cname for cname in X.columns if X[cname].dtype in ['int64', 'float64']]\n",
    "\n",
    "\n",
    "# Preprocessing for numerical data\n",
    "numerical_transformer = SimpleImputer(strategy='median')\n",
    "\n",
    "# Preprocessing for categorical data\n",
    "categorical_transformer = Pipeline(steps=[\n",
    "    ('imputer', SimpleImputer(strategy='most_frequent')),\n",
    "    ('onehot', OneHotEncoder(handle_unknown='ignore'))\n",
    "])\n",
    "\n",
    "# Bundle preprocessing for numerical and categorical data\n",
    "preprocessor = ColumnTransformer(\n",
    "    transformers=[\n",
    "        ('num', numerical_transformer, numerical_cols),\n",
    "        ('cat', categorical_transformer, categorical_cols)\n",
    "    ])\n",
    "\n",
    "# define the xgb model\n",
    "xgb_model = XGBClassifier()\n",
    "\n",
    "n_est = np.arange(10, 150, step = 20).tolist()\n",
    "learn_rate = np.arange(0.05, 0.55, step = 0.05).tolist()\n",
    "parameters = {'n_estimators': n_est,\n",
    "             'learning_rate': learn_rate}\n",
    "\n",
    "my_xgb_model = GridSearchCV(xgb_model, \n",
    "                            param_grid=parameters,\n",
    "                            scoring='accuracy')\n",
    "\n",
    "\n",
    "# Define the random forest model\n",
    "rf_model = RandomForestClassifier()\n",
    "\n",
    "max_depths = np.arange(1, 10).tolist()\n",
    "n_est = np.arange(20, 200, step = 20).tolist()\n",
    "parameters = {'n_estimators': n_est, \n",
    "              'max_depth': max_depths}\n",
    "\n",
    "my_rf_model = GridSearchCV(rf_model, param_grid=parameters, \n",
    "                           scoring='accuracy')\n",
    "\n",
    "\n",
    "\n",
    "# Bundle preprocessing and modeling code in a pipeline for xbg model\n",
    "my_xgb_pipeline = Pipeline(steps=[('preprocessor', preprocessor),\n",
    "                                  ('model', my_xgb_model)\n",
    "                                 ])\n",
    "\n",
    "# Bundle preprocessing and modeling code in a pipeline for random forest model\n",
    "my_rf_pipeline = Pipeline(steps=[('preprocessor', preprocessor),\n",
    "                                 ('model', my_rf_model)\n",
    "                                ])"
   ]
  },
  {
   "cell_type": "code",
   "execution_count": 21,
   "id": "3b9d1ec0",
   "metadata": {
    "execution": {
     "iopub.execute_input": "2022-11-15T22:13:14.393321Z",
     "iopub.status.busy": "2022-11-15T22:13:14.392970Z",
     "iopub.status.idle": "2022-11-15T22:16:12.974151Z",
     "shell.execute_reply": "2022-11-15T22:16:12.973309Z"
    },
    "papermill": {
     "duration": 178.602536,
     "end_time": "2022-11-15T22:16:12.985069",
     "exception": false,
     "start_time": "2022-11-15T22:13:14.382533",
     "status": "completed"
    },
    "tags": []
   },
   "outputs": [
    {
     "data": {
      "text/plain": [
       "Pipeline(steps=[('preprocessor',\n",
       "                 ColumnTransformer(transformers=[('num',\n",
       "                                                  SimpleImputer(strategy='median'),\n",
       "                                                  ['Age', 'TotalSpend']),\n",
       "                                                 ('cat',\n",
       "                                                  Pipeline(steps=[('imputer',\n",
       "                                                                   SimpleImputer(strategy='most_frequent')),\n",
       "                                                                  ('onehot',\n",
       "                                                                   OneHotEncoder(handle_unknown='ignore'))]),\n",
       "                                                  ['HomePlanet', 'CryoSleep',\n",
       "                                                   'Destination', 'GroupId',\n",
       "                                                   'MemberId', 'CabinDeck',\n",
       "                                                   'CabinNum',\n",
       "                                                   'CabinSide'])...\n",
       "                                                      max_leaves=None,\n",
       "                                                      min_child_weight=None,\n",
       "                                                      missing=nan,\n",
       "                                                      monotone_constraints=None,\n",
       "                                                      n_estimators=100,\n",
       "                                                      n_jobs=None,\n",
       "                                                      num_parallel_tree=None,\n",
       "                                                      predictor=None,\n",
       "                                                      random_state=None,\n",
       "                                                      reg_alpha=None,\n",
       "                                                      reg_lambda=None, ...),\n",
       "                              param_grid={'learning_rate': [0.05, 0.1,\n",
       "                                                            0.15000000000000002,\n",
       "                                                            0.2, 0.25, 0.3,\n",
       "                                                            0.35000000000000003,\n",
       "                                                            0.4, 0.45, 0.5],\n",
       "                                          'n_estimators': [10, 30, 50, 70, 90,\n",
       "                                                           110, 130]},\n",
       "                              scoring='accuracy'))])"
      ]
     },
     "execution_count": 21,
     "metadata": {},
     "output_type": "execute_result"
    }
   ],
   "source": [
    "# Preprocess training data, fit xgb model \n",
    "my_xgb_pipeline.fit(X, y)"
   ]
  },
  {
   "cell_type": "code",
   "execution_count": 22,
   "id": "0379d83f",
   "metadata": {
    "execution": {
     "iopub.execute_input": "2022-11-15T22:16:13.006562Z",
     "iopub.status.busy": "2022-11-15T22:16:13.005770Z",
     "iopub.status.idle": "2022-11-15T22:16:13.012970Z",
     "shell.execute_reply": "2022-11-15T22:16:13.010944Z"
    },
    "papermill": {
     "duration": 0.021054,
     "end_time": "2022-11-15T22:16:13.015753",
     "exception": false,
     "start_time": "2022-11-15T22:16:12.994699",
     "status": "completed"
    },
    "tags": []
   },
   "outputs": [
    {
     "name": "stdout",
     "output_type": "stream",
     "text": [
      "Best Parameters:\n",
      " {'learning_rate': 0.25, 'n_estimators': 10} \n",
      "\n",
      "Best Score:\n",
      " 0.7472697362543848\n"
     ]
    }
   ],
   "source": [
    "print(\"Best Parameters:\\n\", my_xgb_pipeline['model'].best_params_, \"\\n\")\n",
    "#print(\"CV Results:\\n\", my_xgb_pipeline['model'].cv_results_, \"\\n\")\n",
    "print(\"Best Score:\\n\", my_xgb_pipeline['model'].best_score_)"
   ]
  },
  {
   "cell_type": "code",
   "execution_count": 23,
   "id": "036565db",
   "metadata": {
    "execution": {
     "iopub.execute_input": "2022-11-15T22:16:13.038205Z",
     "iopub.status.busy": "2022-11-15T22:16:13.037842Z",
     "iopub.status.idle": "2022-11-15T22:16:13.042553Z",
     "shell.execute_reply": "2022-11-15T22:16:13.040800Z"
    },
    "papermill": {
     "duration": 0.018634,
     "end_time": "2022-11-15T22:16:13.044642",
     "exception": false,
     "start_time": "2022-11-15T22:16:13.026008",
     "status": "completed"
    },
    "tags": []
   },
   "outputs": [],
   "source": [
    "# Preprocess training data, fit random forest model \n",
    "#my_rf_pipeline.fit(X, y)"
   ]
  },
  {
   "cell_type": "code",
   "execution_count": 24,
   "id": "abc15e5d",
   "metadata": {
    "execution": {
     "iopub.execute_input": "2022-11-15T22:16:13.066245Z",
     "iopub.status.busy": "2022-11-15T22:16:13.065918Z",
     "iopub.status.idle": "2022-11-15T22:16:13.070873Z",
     "shell.execute_reply": "2022-11-15T22:16:13.069478Z"
    },
    "papermill": {
     "duration": 0.018375,
     "end_time": "2022-11-15T22:16:13.073000",
     "exception": false,
     "start_time": "2022-11-15T22:16:13.054625",
     "status": "completed"
    },
    "tags": []
   },
   "outputs": [],
   "source": [
    "#print(\"Best Parameters:\\n\", my_rf_pipeline['model'].best_params_, \"\\n\")\n",
    "#print(\"Best Score:\\n\", my_rf_pipeline['model'].best_score_)"
   ]
  },
  {
   "cell_type": "markdown",
   "id": "c0b00a3a",
   "metadata": {
    "papermill": {
     "duration": 0.009942,
     "end_time": "2022-11-15T22:16:13.093027",
     "exception": false,
     "start_time": "2022-11-15T22:16:13.083085",
     "status": "completed"
    },
    "tags": []
   },
   "source": [
    "# Make Predictions on Test Set"
   ]
  },
  {
   "cell_type": "code",
   "execution_count": 25,
   "id": "ef83a735",
   "metadata": {
    "execution": {
     "iopub.execute_input": "2022-11-15T22:16:13.115217Z",
     "iopub.status.busy": "2022-11-15T22:16:13.114848Z",
     "iopub.status.idle": "2022-11-15T22:16:13.193683Z",
     "shell.execute_reply": "2022-11-15T22:16:13.192665Z"
    },
    "papermill": {
     "duration": 0.092951,
     "end_time": "2022-11-15T22:16:13.196090",
     "exception": false,
     "start_time": "2022-11-15T22:16:13.103139",
     "status": "completed"
    },
    "tags": []
   },
   "outputs": [],
   "source": [
    "# make predictions on the test data for submission\n",
    "\n",
    "test_data[['GroupId', 'MemberId']] = test_data['PassengerId'].str.split(\"_\", expand=True)\n",
    "test_data[['CabinDeck', 'CabinNum', 'CabinSide']] = test_data['Cabin'].str.split(\"/\", expand=True)\n",
    "test_data['TotalSpend'] = test_data[['RoomService', 'FoodCourt', 'ShoppingMall', 'Spa', 'VRDeck']].sum(axis=1)\n",
    "\n",
    "X_test = test_data[features]\n",
    "predictions = my_xgb_pipeline.predict(X_test)\n",
    "\n",
    "output = pd.DataFrame({'PassengerId': test_data.PassengerId, 'Transported': predictions.astype('bool')})\n",
    "output.to_csv('submission.csv', index=False)"
   ]
  },
  {
   "cell_type": "markdown",
   "id": "0612799a",
   "metadata": {
    "papermill": {
     "duration": 0.009451,
     "end_time": "2022-11-15T22:16:13.215210",
     "exception": false,
     "start_time": "2022-11-15T22:16:13.205759",
     "status": "completed"
    },
    "tags": []
   },
   "source": [
    "Try imputation by group; keep working on feature engineering (use default xgb to compare for speed)"
   ]
  }
 ],
 "metadata": {
  "kernelspec": {
   "display_name": "Python 3",
   "language": "python",
   "name": "python3"
  },
  "language_info": {
   "codemirror_mode": {
    "name": "ipython",
    "version": 3
   },
   "file_extension": ".py",
   "mimetype": "text/x-python",
   "name": "python",
   "nbconvert_exporter": "python",
   "pygments_lexer": "ipython3",
   "version": "3.7.12"
  },
  "papermill": {
   "default_parameters": {},
   "duration": 191.519917,
   "end_time": "2022-11-15T22:16:14.047261",
   "environment_variables": {},
   "exception": null,
   "input_path": "__notebook__.ipynb",
   "output_path": "__notebook__.ipynb",
   "parameters": {},
   "start_time": "2022-11-15T22:13:02.527344",
   "version": "2.3.4"
  }
 },
 "nbformat": 4,
 "nbformat_minor": 5
}
