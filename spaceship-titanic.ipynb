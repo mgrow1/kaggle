{
 "cells": [
  {
   "cell_type": "code",
   "execution_count": 1,
   "id": "95a6c93e",
   "metadata": {
    "_cell_guid": "b1076dfc-b9ad-4769-8c92-a6c4dae69d19",
    "_uuid": "8f2839f25d086af736a60e9eeb907d3b93b6e0e5",
    "execution": {
     "iopub.execute_input": "2022-11-08T18:52:42.106635Z",
     "iopub.status.busy": "2022-11-08T18:52:42.105995Z",
     "iopub.status.idle": "2022-11-08T18:52:43.047215Z",
     "shell.execute_reply": "2022-11-08T18:52:43.045981Z"
    },
    "papermill": {
     "duration": 0.954081,
     "end_time": "2022-11-08T18:52:43.050984",
     "exception": false,
     "start_time": "2022-11-08T18:52:42.096903",
     "status": "completed"
    },
    "tags": []
   },
   "outputs": [
    {
     "name": "stdout",
     "output_type": "stream",
     "text": [
      "/kaggle/input/spaceship-titanic/sample_submission.csv\n",
      "/kaggle/input/spaceship-titanic/train.csv\n",
      "/kaggle/input/spaceship-titanic/test.csv\n"
     ]
    }
   ],
   "source": [
    "# This Python 3 environment is defined by the kaggle/python Docker image: https://github.com/kaggle/docker-python\n",
    "\n",
    "import numpy as np \n",
    "import pandas as pd\n",
    "import matplotlib.pyplot as plt\n",
    "import seaborn as sns\n",
    "\n",
    "\n",
    "# Input data files are available in the read-only \"../input/\" directory\n",
    "\n",
    "import os\n",
    "for dirname, _, filenames in os.walk('/kaggle/input'):\n",
    "    for filename in filenames:\n",
    "        print(os.path.join(dirname, filename))\n"
   ]
  },
  {
   "cell_type": "markdown",
   "id": "11934ad6",
   "metadata": {
    "papermill": {
     "duration": 0.006322,
     "end_time": "2022-11-08T18:52:43.064125",
     "exception": false,
     "start_time": "2022-11-08T18:52:43.057803",
     "status": "completed"
    },
    "tags": []
   },
   "source": [
    "# EDA"
   ]
  },
  {
   "cell_type": "code",
   "execution_count": 2,
   "id": "b4721e16",
   "metadata": {
    "execution": {
     "iopub.execute_input": "2022-11-08T18:52:43.078224Z",
     "iopub.status.busy": "2022-11-08T18:52:43.077788Z",
     "iopub.status.idle": "2022-11-08T18:52:43.185143Z",
     "shell.execute_reply": "2022-11-08T18:52:43.183901Z"
    },
    "papermill": {
     "duration": 0.117474,
     "end_time": "2022-11-08T18:52:43.187862",
     "exception": false,
     "start_time": "2022-11-08T18:52:43.070388",
     "status": "completed"
    },
    "tags": []
   },
   "outputs": [
    {
     "data": {
      "text/html": [
       "<div>\n",
       "<style scoped>\n",
       "    .dataframe tbody tr th:only-of-type {\n",
       "        vertical-align: middle;\n",
       "    }\n",
       "\n",
       "    .dataframe tbody tr th {\n",
       "        vertical-align: top;\n",
       "    }\n",
       "\n",
       "    .dataframe thead th {\n",
       "        text-align: right;\n",
       "    }\n",
       "</style>\n",
       "<table border=\"1\" class=\"dataframe\">\n",
       "  <thead>\n",
       "    <tr style=\"text-align: right;\">\n",
       "      <th></th>\n",
       "      <th>PassengerId</th>\n",
       "      <th>HomePlanet</th>\n",
       "      <th>CryoSleep</th>\n",
       "      <th>Cabin</th>\n",
       "      <th>Destination</th>\n",
       "      <th>Age</th>\n",
       "      <th>VIP</th>\n",
       "      <th>RoomService</th>\n",
       "      <th>FoodCourt</th>\n",
       "      <th>ShoppingMall</th>\n",
       "      <th>Spa</th>\n",
       "      <th>VRDeck</th>\n",
       "      <th>Name</th>\n",
       "      <th>Transported</th>\n",
       "    </tr>\n",
       "  </thead>\n",
       "  <tbody>\n",
       "    <tr>\n",
       "      <th>0</th>\n",
       "      <td>0001_01</td>\n",
       "      <td>Europa</td>\n",
       "      <td>False</td>\n",
       "      <td>B/0/P</td>\n",
       "      <td>TRAPPIST-1e</td>\n",
       "      <td>39.0</td>\n",
       "      <td>False</td>\n",
       "      <td>0.0</td>\n",
       "      <td>0.0</td>\n",
       "      <td>0.0</td>\n",
       "      <td>0.0</td>\n",
       "      <td>0.0</td>\n",
       "      <td>Maham Ofracculy</td>\n",
       "      <td>False</td>\n",
       "    </tr>\n",
       "    <tr>\n",
       "      <th>1</th>\n",
       "      <td>0002_01</td>\n",
       "      <td>Earth</td>\n",
       "      <td>False</td>\n",
       "      <td>F/0/S</td>\n",
       "      <td>TRAPPIST-1e</td>\n",
       "      <td>24.0</td>\n",
       "      <td>False</td>\n",
       "      <td>109.0</td>\n",
       "      <td>9.0</td>\n",
       "      <td>25.0</td>\n",
       "      <td>549.0</td>\n",
       "      <td>44.0</td>\n",
       "      <td>Juanna Vines</td>\n",
       "      <td>True</td>\n",
       "    </tr>\n",
       "    <tr>\n",
       "      <th>2</th>\n",
       "      <td>0003_01</td>\n",
       "      <td>Europa</td>\n",
       "      <td>False</td>\n",
       "      <td>A/0/S</td>\n",
       "      <td>TRAPPIST-1e</td>\n",
       "      <td>58.0</td>\n",
       "      <td>True</td>\n",
       "      <td>43.0</td>\n",
       "      <td>3576.0</td>\n",
       "      <td>0.0</td>\n",
       "      <td>6715.0</td>\n",
       "      <td>49.0</td>\n",
       "      <td>Altark Susent</td>\n",
       "      <td>False</td>\n",
       "    </tr>\n",
       "    <tr>\n",
       "      <th>3</th>\n",
       "      <td>0003_02</td>\n",
       "      <td>Europa</td>\n",
       "      <td>False</td>\n",
       "      <td>A/0/S</td>\n",
       "      <td>TRAPPIST-1e</td>\n",
       "      <td>33.0</td>\n",
       "      <td>False</td>\n",
       "      <td>0.0</td>\n",
       "      <td>1283.0</td>\n",
       "      <td>371.0</td>\n",
       "      <td>3329.0</td>\n",
       "      <td>193.0</td>\n",
       "      <td>Solam Susent</td>\n",
       "      <td>False</td>\n",
       "    </tr>\n",
       "    <tr>\n",
       "      <th>4</th>\n",
       "      <td>0004_01</td>\n",
       "      <td>Earth</td>\n",
       "      <td>False</td>\n",
       "      <td>F/1/S</td>\n",
       "      <td>TRAPPIST-1e</td>\n",
       "      <td>16.0</td>\n",
       "      <td>False</td>\n",
       "      <td>303.0</td>\n",
       "      <td>70.0</td>\n",
       "      <td>151.0</td>\n",
       "      <td>565.0</td>\n",
       "      <td>2.0</td>\n",
       "      <td>Willy Santantines</td>\n",
       "      <td>True</td>\n",
       "    </tr>\n",
       "  </tbody>\n",
       "</table>\n",
       "</div>"
      ],
      "text/plain": [
       "  PassengerId HomePlanet CryoSleep  Cabin  Destination   Age    VIP  \\\n",
       "0     0001_01     Europa     False  B/0/P  TRAPPIST-1e  39.0  False   \n",
       "1     0002_01      Earth     False  F/0/S  TRAPPIST-1e  24.0  False   \n",
       "2     0003_01     Europa     False  A/0/S  TRAPPIST-1e  58.0   True   \n",
       "3     0003_02     Europa     False  A/0/S  TRAPPIST-1e  33.0  False   \n",
       "4     0004_01      Earth     False  F/1/S  TRAPPIST-1e  16.0  False   \n",
       "\n",
       "   RoomService  FoodCourt  ShoppingMall     Spa  VRDeck               Name  \\\n",
       "0          0.0        0.0           0.0     0.0     0.0    Maham Ofracculy   \n",
       "1        109.0        9.0          25.0   549.0    44.0       Juanna Vines   \n",
       "2         43.0     3576.0           0.0  6715.0    49.0      Altark Susent   \n",
       "3          0.0     1283.0         371.0  3329.0   193.0       Solam Susent   \n",
       "4        303.0       70.0         151.0   565.0     2.0  Willy Santantines   \n",
       "\n",
       "   Transported  \n",
       "0        False  \n",
       "1         True  \n",
       "2        False  \n",
       "3        False  \n",
       "4         True  "
      ]
     },
     "execution_count": 2,
     "metadata": {},
     "output_type": "execute_result"
    }
   ],
   "source": [
    "train_data = pd.read_csv(\"/kaggle/input/spaceship-titanic/train.csv\")\n",
    "test_data = pd.read_csv(\"/kaggle/input/spaceship-titanic/test.csv\")\n",
    "\n",
    "train_data.head()"
   ]
  },
  {
   "cell_type": "code",
   "execution_count": 3,
   "id": "82ba41a7",
   "metadata": {
    "execution": {
     "iopub.execute_input": "2022-11-08T18:52:43.203134Z",
     "iopub.status.busy": "2022-11-08T18:52:43.202115Z",
     "iopub.status.idle": "2022-11-08T18:52:43.207453Z",
     "shell.execute_reply": "2022-11-08T18:52:43.206414Z"
    },
    "papermill": {
     "duration": 0.015504,
     "end_time": "2022-11-08T18:52:43.209760",
     "exception": false,
     "start_time": "2022-11-08T18:52:43.194256",
     "status": "completed"
    },
    "tags": []
   },
   "outputs": [],
   "source": [
    "#test_data.head()"
   ]
  },
  {
   "cell_type": "code",
   "execution_count": 4,
   "id": "306665e1",
   "metadata": {
    "execution": {
     "iopub.execute_input": "2022-11-08T18:52:43.225115Z",
     "iopub.status.busy": "2022-11-08T18:52:43.223965Z",
     "iopub.status.idle": "2022-11-08T18:52:43.238945Z",
     "shell.execute_reply": "2022-11-08T18:52:43.238058Z"
    },
    "papermill": {
     "duration": 0.026762,
     "end_time": "2022-11-08T18:52:43.242773",
     "exception": false,
     "start_time": "2022-11-08T18:52:43.216011",
     "status": "completed"
    },
    "tags": []
   },
   "outputs": [
    {
     "name": "stdout",
     "output_type": "stream",
     "text": [
      "Training:\n",
      " (8693, 14) \n",
      "\n",
      "PassengerId       0\n",
      "HomePlanet      201\n",
      "CryoSleep       217\n",
      "Cabin           199\n",
      "Destination     182\n",
      "Age             179\n",
      "VIP             203\n",
      "RoomService     181\n",
      "FoodCourt       183\n",
      "ShoppingMall    208\n",
      "Spa             183\n",
      "VRDeck          188\n",
      "Name            200\n",
      "Transported       0\n",
      "dtype: int64 \n",
      "\n",
      "\n",
      "Test:\n",
      " (4277, 13) \n",
      "\n",
      "PassengerId       0\n",
      "HomePlanet       87\n",
      "CryoSleep        93\n",
      "Cabin           100\n",
      "Destination      92\n",
      "Age              91\n",
      "VIP              93\n",
      "RoomService      82\n",
      "FoodCourt       106\n",
      "ShoppingMall     98\n",
      "Spa             101\n",
      "VRDeck           80\n",
      "Name             94\n",
      "dtype: int64\n"
     ]
    }
   ],
   "source": [
    "# find missing values and print data dimensions\n",
    "print(\"Training:\\n\", train_data.shape, \"\\n\")\n",
    "print(train_data.isnull().sum(),\"\\n\\n\")\n",
    "print(\"Test:\\n\", test_data.shape, \"\\n\")\n",
    "print(test_data.isnull().sum())"
   ]
  },
  {
   "cell_type": "code",
   "execution_count": 5,
   "id": "88540d80",
   "metadata": {
    "execution": {
     "iopub.execute_input": "2022-11-08T18:52:43.258076Z",
     "iopub.status.busy": "2022-11-08T18:52:43.257476Z",
     "iopub.status.idle": "2022-11-08T18:52:43.972390Z",
     "shell.execute_reply": "2022-11-08T18:52:43.971324Z"
    },
    "papermill": {
     "duration": 0.726071,
     "end_time": "2022-11-08T18:52:43.975791",
     "exception": false,
     "start_time": "2022-11-08T18:52:43.249720",
     "status": "completed"
    },
    "tags": []
   },
   "outputs": [
    {
     "data": {
      "text/plain": [
       "<AxesSubplot:>"
      ]
     },
     "execution_count": 5,
     "metadata": {},
     "output_type": "execute_result"
    },
    {
     "data": {
      "image/png": "[encoded data removed]",
      "text/plain": [
       "<Figure size 800x500 with 2 Axes>"
      ]
     },
     "metadata": {
      "needs_background": "light"
     },
     "output_type": "display_data"
    }
   ],
   "source": [
    "# visualize missing values\n",
    "plt.figure(dpi=100, figsize=(8, 5))\n",
    "sns.heatmap(train_data.isnull())"
   ]
  },
  {
   "cell_type": "code",
   "execution_count": 6,
   "id": "65904988",
   "metadata": {
    "execution": {
     "iopub.execute_input": "2022-11-08T18:52:43.992001Z",
     "iopub.status.busy": "2022-11-08T18:52:43.991094Z",
     "iopub.status.idle": "2022-11-08T18:52:43.999902Z",
     "shell.execute_reply": "2022-11-08T18:52:43.998807Z"
    },
    "papermill": {
     "duration": 0.019054,
     "end_time": "2022-11-08T18:52:44.002046",
     "exception": false,
     "start_time": "2022-11-08T18:52:43.982992",
     "status": "completed"
    },
    "tags": []
   },
   "outputs": [
    {
     "data": {
      "text/plain": [
       "PassengerId      object\n",
       "HomePlanet       object\n",
       "CryoSleep        object\n",
       "Cabin            object\n",
       "Destination      object\n",
       "Age             float64\n",
       "VIP              object\n",
       "RoomService     float64\n",
       "FoodCourt       float64\n",
       "ShoppingMall    float64\n",
       "Spa             float64\n",
       "VRDeck          float64\n",
       "Name             object\n",
       "Transported        bool\n",
       "dtype: object"
      ]
     },
     "execution_count": 6,
     "metadata": {},
     "output_type": "execute_result"
    }
   ],
   "source": [
    "train_data.dtypes"
   ]
  },
  {
   "cell_type": "code",
   "execution_count": 7,
   "id": "c754bf66",
   "metadata": {
    "execution": {
     "iopub.execute_input": "2022-11-08T18:52:44.019781Z",
     "iopub.status.busy": "2022-11-08T18:52:44.019370Z",
     "iopub.status.idle": "2022-11-08T18:52:44.041839Z",
     "shell.execute_reply": "2022-11-08T18:52:44.040858Z"
    },
    "papermill": {
     "duration": 0.035046,
     "end_time": "2022-11-08T18:52:44.044279",
     "exception": false,
     "start_time": "2022-11-08T18:52:44.009233",
     "status": "completed"
    },
    "tags": []
   },
   "outputs": [
    {
     "data": {
      "text/plain": [
       "PassengerId     8693\n",
       "HomePlanet         3\n",
       "CryoSleep          2\n",
       "Cabin           6560\n",
       "Destination        3\n",
       "Age               80\n",
       "VIP                2\n",
       "RoomService     1273\n",
       "FoodCourt       1507\n",
       "ShoppingMall    1115\n",
       "Spa             1327\n",
       "VRDeck          1306\n",
       "Name            8473\n",
       "Transported        2\n",
       "dtype: int64"
      ]
     },
     "execution_count": 7,
     "metadata": {},
     "output_type": "execute_result"
    }
   ],
   "source": [
    "train_data.nunique()"
   ]
  },
  {
   "cell_type": "code",
   "execution_count": 8,
   "id": "4c74377c",
   "metadata": {
    "execution": {
     "iopub.execute_input": "2022-11-08T18:52:44.060390Z",
     "iopub.status.busy": "2022-11-08T18:52:44.060001Z",
     "iopub.status.idle": "2022-11-08T18:52:44.098659Z",
     "shell.execute_reply": "2022-11-08T18:52:44.097405Z"
    },
    "papermill": {
     "duration": 0.049814,
     "end_time": "2022-11-08T18:52:44.101420",
     "exception": false,
     "start_time": "2022-11-08T18:52:44.051606",
     "status": "completed"
    },
    "tags": []
   },
   "outputs": [
    {
     "data": {
      "text/html": [
       "<div>\n",
       "<style scoped>\n",
       "    .dataframe tbody tr th:only-of-type {\n",
       "        vertical-align: middle;\n",
       "    }\n",
       "\n",
       "    .dataframe tbody tr th {\n",
       "        vertical-align: top;\n",
       "    }\n",
       "\n",
       "    .dataframe thead th {\n",
       "        text-align: right;\n",
       "    }\n",
       "</style>\n",
       "<table border=\"1\" class=\"dataframe\">\n",
       "  <thead>\n",
       "    <tr style=\"text-align: right;\">\n",
       "      <th></th>\n",
       "      <th>Age</th>\n",
       "      <th>RoomService</th>\n",
       "      <th>FoodCourt</th>\n",
       "      <th>ShoppingMall</th>\n",
       "      <th>Spa</th>\n",
       "      <th>VRDeck</th>\n",
       "    </tr>\n",
       "  </thead>\n",
       "  <tbody>\n",
       "    <tr>\n",
       "      <th>count</th>\n",
       "      <td>8514.000000</td>\n",
       "      <td>8512.000000</td>\n",
       "      <td>8510.000000</td>\n",
       "      <td>8485.000000</td>\n",
       "      <td>8510.000000</td>\n",
       "      <td>8505.000000</td>\n",
       "    </tr>\n",
       "    <tr>\n",
       "      <th>mean</th>\n",
       "      <td>28.827930</td>\n",
       "      <td>224.687617</td>\n",
       "      <td>458.077203</td>\n",
       "      <td>173.729169</td>\n",
       "      <td>311.138778</td>\n",
       "      <td>304.854791</td>\n",
       "    </tr>\n",
       "    <tr>\n",
       "      <th>std</th>\n",
       "      <td>14.489021</td>\n",
       "      <td>666.717663</td>\n",
       "      <td>1611.489240</td>\n",
       "      <td>604.696458</td>\n",
       "      <td>1136.705535</td>\n",
       "      <td>1145.717189</td>\n",
       "    </tr>\n",
       "    <tr>\n",
       "      <th>min</th>\n",
       "      <td>0.000000</td>\n",
       "      <td>0.000000</td>\n",
       "      <td>0.000000</td>\n",
       "      <td>0.000000</td>\n",
       "      <td>0.000000</td>\n",
       "      <td>0.000000</td>\n",
       "    </tr>\n",
       "    <tr>\n",
       "      <th>25%</th>\n",
       "      <td>19.000000</td>\n",
       "      <td>0.000000</td>\n",
       "      <td>0.000000</td>\n",
       "      <td>0.000000</td>\n",
       "      <td>0.000000</td>\n",
       "      <td>0.000000</td>\n",
       "    </tr>\n",
       "    <tr>\n",
       "      <th>50%</th>\n",
       "      <td>27.000000</td>\n",
       "      <td>0.000000</td>\n",
       "      <td>0.000000</td>\n",
       "      <td>0.000000</td>\n",
       "      <td>0.000000</td>\n",
       "      <td>0.000000</td>\n",
       "    </tr>\n",
       "    <tr>\n",
       "      <th>75%</th>\n",
       "      <td>38.000000</td>\n",
       "      <td>47.000000</td>\n",
       "      <td>76.000000</td>\n",
       "      <td>27.000000</td>\n",
       "      <td>59.000000</td>\n",
       "      <td>46.000000</td>\n",
       "    </tr>\n",
       "    <tr>\n",
       "      <th>max</th>\n",
       "      <td>79.000000</td>\n",
       "      <td>14327.000000</td>\n",
       "      <td>29813.000000</td>\n",
       "      <td>23492.000000</td>\n",
       "      <td>22408.000000</td>\n",
       "      <td>24133.000000</td>\n",
       "    </tr>\n",
       "  </tbody>\n",
       "</table>\n",
       "</div>"
      ],
      "text/plain": [
       "               Age   RoomService     FoodCourt  ShoppingMall           Spa  \\\n",
       "count  8514.000000   8512.000000   8510.000000   8485.000000   8510.000000   \n",
       "mean     28.827930    224.687617    458.077203    173.729169    311.138778   \n",
       "std      14.489021    666.717663   1611.489240    604.696458   1136.705535   \n",
       "min       0.000000      0.000000      0.000000      0.000000      0.000000   \n",
       "25%      19.000000      0.000000      0.000000      0.000000      0.000000   \n",
       "50%      27.000000      0.000000      0.000000      0.000000      0.000000   \n",
       "75%      38.000000     47.000000     76.000000     27.000000     59.000000   \n",
       "max      79.000000  14327.000000  29813.000000  23492.000000  22408.000000   \n",
       "\n",
       "             VRDeck  \n",
       "count   8505.000000  \n",
       "mean     304.854791  \n",
       "std     1145.717189  \n",
       "min        0.000000  \n",
       "25%        0.000000  \n",
       "50%        0.000000  \n",
       "75%       46.000000  \n",
       "max    24133.000000  "
      ]
     },
     "execution_count": 8,
     "metadata": {},
     "output_type": "execute_result"
    }
   ],
   "source": [
    "train_data.describe()"
   ]
  },
  {
   "cell_type": "code",
   "execution_count": 9,
   "id": "977ab1a4",
   "metadata": {
    "execution": {
     "iopub.execute_input": "2022-11-08T18:52:44.118521Z",
     "iopub.status.busy": "2022-11-08T18:52:44.118085Z",
     "iopub.status.idle": "2022-11-08T18:52:44.130028Z",
     "shell.execute_reply": "2022-11-08T18:52:44.128554Z"
    },
    "papermill": {
     "duration": 0.023711,
     "end_time": "2022-11-08T18:52:44.132905",
     "exception": false,
     "start_time": "2022-11-08T18:52:44.109194",
     "status": "completed"
    },
    "tags": []
   },
   "outputs": [
    {
     "name": "stdout",
     "output_type": "stream",
     "text": [
      "Earth     4602\n",
      "Europa    2131\n",
      "Mars      1759\n",
      "Name: HomePlanet, dtype: int64 \n",
      "\n",
      "False    5439\n",
      "True     3037\n",
      "Name: CryoSleep, dtype: int64 \n",
      "\n",
      "TRAPPIST-1e      5915\n",
      "55 Cancri e      1800\n",
      "PSO J318.5-22     796\n",
      "Name: Destination, dtype: int64 \n",
      "\n",
      "False    8291\n",
      "True      199\n",
      "Name: VIP, dtype: int64 \n",
      "\n"
     ]
    }
   ],
   "source": [
    "for c in ['HomePlanet', 'CryoSleep', 'Destination', 'VIP']:\n",
    "    print(train_data[c].value_counts(), \"\\n\")"
   ]
  },
  {
   "cell_type": "markdown",
   "id": "3b56db44",
   "metadata": {
    "papermill": {
     "duration": 0.00739,
     "end_time": "2022-11-08T18:52:44.147881",
     "exception": false,
     "start_time": "2022-11-08T18:52:44.140491",
     "status": "completed"
    },
    "tags": []
   },
   "source": [
    "# New Features"
   ]
  },
  {
   "cell_type": "code",
   "execution_count": 10,
   "id": "ad7cde56",
   "metadata": {
    "execution": {
     "iopub.execute_input": "2022-11-08T18:52:44.164728Z",
     "iopub.status.busy": "2022-11-08T18:52:44.164338Z",
     "iopub.status.idle": "2022-11-08T18:52:44.222819Z",
     "shell.execute_reply": "2022-11-08T18:52:44.221992Z"
    },
    "papermill": {
     "duration": 0.06964,
     "end_time": "2022-11-08T18:52:44.225056",
     "exception": false,
     "start_time": "2022-11-08T18:52:44.155416",
     "status": "completed"
    },
    "tags": []
   },
   "outputs": [
    {
     "data": {
      "text/html": [
       "<div>\n",
       "<style scoped>\n",
       "    .dataframe tbody tr th:only-of-type {\n",
       "        vertical-align: middle;\n",
       "    }\n",
       "\n",
       "    .dataframe tbody tr th {\n",
       "        vertical-align: top;\n",
       "    }\n",
       "\n",
       "    .dataframe thead th {\n",
       "        text-align: right;\n",
       "    }\n",
       "</style>\n",
       "<table border=\"1\" class=\"dataframe\">\n",
       "  <thead>\n",
       "    <tr style=\"text-align: right;\">\n",
       "      <th></th>\n",
       "      <th>PassengerId</th>\n",
       "      <th>HomePlanet</th>\n",
       "      <th>CryoSleep</th>\n",
       "      <th>Cabin</th>\n",
       "      <th>Destination</th>\n",
       "      <th>Age</th>\n",
       "      <th>VIP</th>\n",
       "      <th>RoomService</th>\n",
       "      <th>FoodCourt</th>\n",
       "      <th>ShoppingMall</th>\n",
       "      <th>Spa</th>\n",
       "      <th>VRDeck</th>\n",
       "      <th>Name</th>\n",
       "      <th>Transported</th>\n",
       "      <th>GroupId</th>\n",
       "      <th>MemberId</th>\n",
       "      <th>CabinDeck</th>\n",
       "      <th>CabinNum</th>\n",
       "      <th>CabinSide</th>\n",
       "    </tr>\n",
       "  </thead>\n",
       "  <tbody>\n",
       "    <tr>\n",
       "      <th>0</th>\n",
       "      <td>0001_01</td>\n",
       "      <td>Europa</td>\n",
       "      <td>False</td>\n",
       "      <td>B/0/P</td>\n",
       "      <td>TRAPPIST-1e</td>\n",
       "      <td>39.0</td>\n",
       "      <td>False</td>\n",
       "      <td>0.0</td>\n",
       "      <td>0.0</td>\n",
       "      <td>0.0</td>\n",
       "      <td>0.0</td>\n",
       "      <td>0.0</td>\n",
       "      <td>Maham Ofracculy</td>\n",
       "      <td>False</td>\n",
       "      <td>0001</td>\n",
       "      <td>01</td>\n",
       "      <td>B</td>\n",
       "      <td>0</td>\n",
       "      <td>P</td>\n",
       "    </tr>\n",
       "    <tr>\n",
       "      <th>1</th>\n",
       "      <td>0002_01</td>\n",
       "      <td>Earth</td>\n",
       "      <td>False</td>\n",
       "      <td>F/0/S</td>\n",
       "      <td>TRAPPIST-1e</td>\n",
       "      <td>24.0</td>\n",
       "      <td>False</td>\n",
       "      <td>109.0</td>\n",
       "      <td>9.0</td>\n",
       "      <td>25.0</td>\n",
       "      <td>549.0</td>\n",
       "      <td>44.0</td>\n",
       "      <td>Juanna Vines</td>\n",
       "      <td>True</td>\n",
       "      <td>0002</td>\n",
       "      <td>01</td>\n",
       "      <td>F</td>\n",
       "      <td>0</td>\n",
       "      <td>S</td>\n",
       "    </tr>\n",
       "    <tr>\n",
       "      <th>2</th>\n",
       "      <td>0003_01</td>\n",
       "      <td>Europa</td>\n",
       "      <td>False</td>\n",
       "      <td>A/0/S</td>\n",
       "      <td>TRAPPIST-1e</td>\n",
       "      <td>58.0</td>\n",
       "      <td>True</td>\n",
       "      <td>43.0</td>\n",
       "      <td>3576.0</td>\n",
       "      <td>0.0</td>\n",
       "      <td>6715.0</td>\n",
       "      <td>49.0</td>\n",
       "      <td>Altark Susent</td>\n",
       "      <td>False</td>\n",
       "      <td>0003</td>\n",
       "      <td>01</td>\n",
       "      <td>A</td>\n",
       "      <td>0</td>\n",
       "      <td>S</td>\n",
       "    </tr>\n",
       "    <tr>\n",
       "      <th>3</th>\n",
       "      <td>0003_02</td>\n",
       "      <td>Europa</td>\n",
       "      <td>False</td>\n",
       "      <td>A/0/S</td>\n",
       "      <td>TRAPPIST-1e</td>\n",
       "      <td>33.0</td>\n",
       "      <td>False</td>\n",
       "      <td>0.0</td>\n",
       "      <td>1283.0</td>\n",
       "      <td>371.0</td>\n",
       "      <td>3329.0</td>\n",
       "      <td>193.0</td>\n",
       "      <td>Solam Susent</td>\n",
       "      <td>False</td>\n",
       "      <td>0003</td>\n",
       "      <td>02</td>\n",
       "      <td>A</td>\n",
       "      <td>0</td>\n",
       "      <td>S</td>\n",
       "    </tr>\n",
       "    <tr>\n",
       "      <th>4</th>\n",
       "      <td>0004_01</td>\n",
       "      <td>Earth</td>\n",
       "      <td>False</td>\n",
       "      <td>F/1/S</td>\n",
       "      <td>TRAPPIST-1e</td>\n",
       "      <td>16.0</td>\n",
       "      <td>False</td>\n",
       "      <td>303.0</td>\n",
       "      <td>70.0</td>\n",
       "      <td>151.0</td>\n",
       "      <td>565.0</td>\n",
       "      <td>2.0</td>\n",
       "      <td>Willy Santantines</td>\n",
       "      <td>True</td>\n",
       "      <td>0004</td>\n",
       "      <td>01</td>\n",
       "      <td>F</td>\n",
       "      <td>1</td>\n",
       "      <td>S</td>\n",
       "    </tr>\n",
       "  </tbody>\n",
       "</table>\n",
       "</div>"
      ],
      "text/plain": [
       "  PassengerId HomePlanet CryoSleep  Cabin  Destination   Age    VIP  \\\n",
       "0     0001_01     Europa     False  B/0/P  TRAPPIST-1e  39.0  False   \n",
       "1     0002_01      Earth     False  F/0/S  TRAPPIST-1e  24.0  False   \n",
       "2     0003_01     Europa     False  A/0/S  TRAPPIST-1e  58.0   True   \n",
       "3     0003_02     Europa     False  A/0/S  TRAPPIST-1e  33.0  False   \n",
       "4     0004_01      Earth     False  F/1/S  TRAPPIST-1e  16.0  False   \n",
       "\n",
       "   RoomService  FoodCourt  ShoppingMall     Spa  VRDeck               Name  \\\n",
       "0          0.0        0.0           0.0     0.0     0.0    Maham Ofracculy   \n",
       "1        109.0        9.0          25.0   549.0    44.0       Juanna Vines   \n",
       "2         43.0     3576.0           0.0  6715.0    49.0      Altark Susent   \n",
       "3          0.0     1283.0         371.0  3329.0   193.0       Solam Susent   \n",
       "4        303.0       70.0         151.0   565.0     2.0  Willy Santantines   \n",
       "\n",
       "   Transported GroupId MemberId CabinDeck CabinNum CabinSide  \n",
       "0        False    0001       01         B        0         P  \n",
       "1         True    0002       01         F        0         S  \n",
       "2        False    0003       01         A        0         S  \n",
       "3        False    0003       02         A        0         S  \n",
       "4         True    0004       01         F        1         S  "
      ]
     },
     "execution_count": 10,
     "metadata": {},
     "output_type": "execute_result"
    }
   ],
   "source": [
    "# separate information in PassengerID and Cabin\n",
    "train_data[['GroupId', 'MemberId']] = train_data['PassengerId'].str.split(\"_\", expand=True)\n",
    "train_data[['CabinDeck', 'CabinNum', 'CabinSide']] = train_data['Cabin'].str.split(\"/\", expand=True)\n",
    "train_data.head()"
   ]
  },
  {
   "cell_type": "code",
   "execution_count": 11,
   "id": "6ee31a00",
   "metadata": {
    "execution": {
     "iopub.execute_input": "2022-11-08T18:52:44.243444Z",
     "iopub.status.busy": "2022-11-08T18:52:44.243042Z",
     "iopub.status.idle": "2022-11-08T18:52:44.257098Z",
     "shell.execute_reply": "2022-11-08T18:52:44.255416Z"
    },
    "papermill": {
     "duration": 0.026251,
     "end_time": "2022-11-08T18:52:44.259621",
     "exception": false,
     "start_time": "2022-11-08T18:52:44.233370",
     "status": "completed"
    },
    "tags": []
   },
   "outputs": [
    {
     "name": "stdout",
     "output_type": "stream",
     "text": [
      "F    2794\n",
      "G    2559\n",
      "E     876\n",
      "B     779\n",
      "C     747\n",
      "D     478\n",
      "A     256\n",
      "T       5\n",
      "Name: CabinDeck, dtype: int64 \n",
      "\n",
      "82      28\n",
      "86      22\n",
      "19      22\n",
      "56      21\n",
      "176     21\n",
      "        ..\n",
      "1644     1\n",
      "1515     1\n",
      "1639     1\n",
      "1277     1\n",
      "1894     1\n",
      "Name: CabinNum, Length: 1817, dtype: int64 \n",
      "\n",
      "S    4288\n",
      "P    4206\n",
      "Name: CabinSide, dtype: int64 \n",
      "\n"
     ]
    }
   ],
   "source": [
    "for c in ['CabinDeck', 'CabinNum', 'CabinSide']:\n",
    "    print(train_data[c].value_counts(), \"\\n\")"
   ]
  },
  {
   "cell_type": "code",
   "execution_count": 12,
   "id": "e77cd535",
   "metadata": {
    "execution": {
     "iopub.execute_input": "2022-11-08T18:52:44.277591Z",
     "iopub.status.busy": "2022-11-08T18:52:44.277213Z",
     "iopub.status.idle": "2022-11-08T18:52:44.287544Z",
     "shell.execute_reply": "2022-11-08T18:52:44.286217Z"
    },
    "papermill": {
     "duration": 0.021879,
     "end_time": "2022-11-08T18:52:44.289660",
     "exception": false,
     "start_time": "2022-11-08T18:52:44.267781",
     "status": "completed"
    },
    "tags": []
   },
   "outputs": [],
   "source": [
    "# create a total spending feature\n",
    "train_data['TotalSpend'] = train_data[['RoomService', 'FoodCourt', 'ShoppingMall', 'Spa', 'VRDeck']].sum(axis=1)"
   ]
  },
  {
   "cell_type": "code",
   "execution_count": 13,
   "id": "924e0f7d",
   "metadata": {
    "execution": {
     "iopub.execute_input": "2022-11-08T18:52:44.307355Z",
     "iopub.status.busy": "2022-11-08T18:52:44.306924Z",
     "iopub.status.idle": "2022-11-08T18:52:44.959517Z",
     "shell.execute_reply": "2022-11-08T18:52:44.958668Z"
    },
    "papermill": {
     "duration": 0.664079,
     "end_time": "2022-11-08T18:52:44.961717",
     "exception": false,
     "start_time": "2022-11-08T18:52:44.297638",
     "status": "completed"
    },
    "tags": []
   },
   "outputs": [
    {
     "data": {
      "text/plain": [
       "Cabin           0.542320\n",
       "GroupId         0.512914\n",
       "CabinNum        0.143284\n",
       "TotalSpend      0.129951\n",
       "CryoSleep       0.112254\n",
       "RoomService     0.075362\n",
       "Spa             0.071083\n",
       "VRDeck          0.063156\n",
       "ShoppingMall    0.052657\n",
       "FoodCourt       0.036231\n",
       "CabinDeck       0.022989\n",
       "HomePlanet      0.018581\n",
       "Age             0.010638\n",
       "Destination     0.006113\n",
       "CabinSide       0.005149\n",
       "MemberId        0.004350\n",
       "VIP             0.000700\n",
       "Name: MI Scores, dtype: float64"
      ]
     },
     "execution_count": 13,
     "metadata": {},
     "output_type": "execute_result"
    }
   ],
   "source": [
    "# find mutual information scores\n",
    "\n",
    "from sklearn.feature_selection import mutual_info_classif\n",
    "from sklearn.impute import SimpleImputer\n",
    "\n",
    "mi_df = train_data.copy()\n",
    "mi_df = mi_df.drop(['PassengerId', 'Name'], axis=1)  # drop the columns with unique identifiers\n",
    "\n",
    "# impute missing values\n",
    "categ_imputer = SimpleImputer(strategy = 'most_frequent')\n",
    "num_imputer = SimpleImputer(strategy = 'constant')\n",
    "\n",
    "categ_cols = [cname for cname in mi_df.columns if mi_df[cname].dtype == \"object\"]\n",
    "num_cols = [cname for cname in mi_df.columns if mi_df[cname].dtype in ['int64', 'float64']]\n",
    "\n",
    "mi_df[categ_cols] = pd.DataFrame(categ_imputer.fit_transform(mi_df[categ_cols]))\n",
    "mi_df[num_cols] = pd.DataFrame(num_imputer.fit_transform(mi_df[num_cols]))\n",
    "\n",
    "# Label encoding for categoricals\n",
    "for colname in mi_df.select_dtypes([\"object\", \"bool\"]):\n",
    "    mi_df[colname], _ = mi_df[colname].factorize()\n",
    "    \n",
    "X = mi_df.copy()\n",
    "y = X.pop(\"Transported\")\n",
    "\n",
    "# select discrete/categorical columns\n",
    "discrete_feat = discrete_features = X.dtypes == int\n",
    "\n",
    "mi_scores = mutual_info_classif(X, y, discrete_features=discrete_feat)\n",
    "mi_scores = pd.Series(mi_scores, name=\"MI Scores\", index=X.columns)\n",
    "mi_scores = mi_scores.sort_values(ascending=False)\n",
    "mi_scores"
   ]
  },
  {
   "cell_type": "code",
   "execution_count": 14,
   "id": "ba36332e",
   "metadata": {
    "execution": {
     "iopub.execute_input": "2022-11-08T18:52:44.980643Z",
     "iopub.status.busy": "2022-11-08T18:52:44.979816Z",
     "iopub.status.idle": "2022-11-08T18:52:45.328892Z",
     "shell.execute_reply": "2022-11-08T18:52:45.327713Z"
    },
    "papermill": {
     "duration": 0.361306,
     "end_time": "2022-11-08T18:52:45.331494",
     "exception": false,
     "start_time": "2022-11-08T18:52:44.970188",
     "status": "completed"
    },
    "tags": []
   },
   "outputs": [
    {
     "data": {
      "text/plain": [
       "Text(0.5, 1.0, 'Mutual Information Scores')"
      ]
     },
     "execution_count": 14,
     "metadata": {},
     "output_type": "execute_result"
    },
    {
     "data": {
      "image/png": "[encoded data removed]",
      "text/plain": [
       "<Figure size 800x500 with 1 Axes>"
      ]
     },
     "metadata": {
      "needs_background": "light"
     },
     "output_type": "display_data"
    }
   ],
   "source": [
    "# plot mutual information scores\n",
    "\n",
    "plt.figure(dpi=100, figsize=(8, 5))\n",
    "width = np.arange(len(mi_scores))\n",
    "ticks = list(mi_scores.index)\n",
    "plt.barh(width, mi_scores)\n",
    "plt.yticks(width, ticks)\n",
    "plt.title(\"Mutual Information Scores\")"
   ]
  },
  {
   "cell_type": "code",
   "execution_count": 15,
   "id": "5663392f",
   "metadata": {
    "execution": {
     "iopub.execute_input": "2022-11-08T18:52:45.354057Z",
     "iopub.status.busy": "2022-11-08T18:52:45.353672Z",
     "iopub.status.idle": "2022-11-08T18:52:45.377920Z",
     "shell.execute_reply": "2022-11-08T18:52:45.376741Z"
    },
    "papermill": {
     "duration": 0.036559,
     "end_time": "2022-11-08T18:52:45.380200",
     "exception": false,
     "start_time": "2022-11-08T18:52:45.343641",
     "status": "completed"
    },
    "tags": []
   },
   "outputs": [
    {
     "data": {
      "text/html": [
       "<div>\n",
       "<style scoped>\n",
       "    .dataframe tbody tr th:only-of-type {\n",
       "        vertical-align: middle;\n",
       "    }\n",
       "\n",
       "    .dataframe tbody tr th {\n",
       "        vertical-align: top;\n",
       "    }\n",
       "\n",
       "    .dataframe thead th {\n",
       "        text-align: right;\n",
       "    }\n",
       "</style>\n",
       "<table border=\"1\" class=\"dataframe\">\n",
       "  <thead>\n",
       "    <tr style=\"text-align: right;\">\n",
       "      <th></th>\n",
       "      <th>count</th>\n",
       "      <th>mean</th>\n",
       "      <th>std</th>\n",
       "      <th>min</th>\n",
       "      <th>25%</th>\n",
       "      <th>50%</th>\n",
       "      <th>75%</th>\n",
       "      <th>max</th>\n",
       "    </tr>\n",
       "    <tr>\n",
       "      <th>CryoSleep</th>\n",
       "      <th></th>\n",
       "      <th></th>\n",
       "      <th></th>\n",
       "      <th></th>\n",
       "      <th></th>\n",
       "      <th></th>\n",
       "      <th></th>\n",
       "      <th></th>\n",
       "    </tr>\n",
       "  </thead>\n",
       "  <tbody>\n",
       "    <tr>\n",
       "      <th>False</th>\n",
       "      <td>5439.0</td>\n",
       "      <td>2248.299687</td>\n",
       "      <td>3245.061489</td>\n",
       "      <td>0.0</td>\n",
       "      <td>746.0</td>\n",
       "      <td>1019.0</td>\n",
       "      <td>2416.0</td>\n",
       "      <td>35987.0</td>\n",
       "    </tr>\n",
       "    <tr>\n",
       "      <th>True</th>\n",
       "      <td>3037.0</td>\n",
       "      <td>0.000000</td>\n",
       "      <td>0.000000</td>\n",
       "      <td>0.0</td>\n",
       "      <td>0.0</td>\n",
       "      <td>0.0</td>\n",
       "      <td>0.0</td>\n",
       "      <td>0.0</td>\n",
       "    </tr>\n",
       "  </tbody>\n",
       "</table>\n",
       "</div>"
      ],
      "text/plain": [
       "            count         mean          std  min    25%     50%     75%  \\\n",
       "CryoSleep                                                                 \n",
       "False      5439.0  2248.299687  3245.061489  0.0  746.0  1019.0  2416.0   \n",
       "True       3037.0     0.000000     0.000000  0.0    0.0     0.0     0.0   \n",
       "\n",
       "               max  \n",
       "CryoSleep           \n",
       "False      35987.0  \n",
       "True           0.0  "
      ]
     },
     "execution_count": 15,
     "metadata": {},
     "output_type": "execute_result"
    }
   ],
   "source": [
    "#check that people in CryoSleep are not spending money\n",
    "train_data.groupby('CryoSleep')['TotalSpend'].describe()"
   ]
  },
  {
   "cell_type": "code",
   "execution_count": 16,
   "id": "28691719",
   "metadata": {
    "execution": {
     "iopub.execute_input": "2022-11-08T18:52:45.400342Z",
     "iopub.status.busy": "2022-11-08T18:52:45.399919Z",
     "iopub.status.idle": "2022-11-08T18:52:45.406185Z",
     "shell.execute_reply": "2022-11-08T18:52:45.404971Z"
    },
    "papermill": {
     "duration": 0.019155,
     "end_time": "2022-11-08T18:52:45.408641",
     "exception": false,
     "start_time": "2022-11-08T18:52:45.389486",
     "status": "completed"
    },
    "tags": []
   },
   "outputs": [],
   "source": [
    "# select categorical columns\n",
    "categorical_cols = [cname for cname in train_data.columns if train_data[cname].dtype == \"object\"]"
   ]
  },
  {
   "cell_type": "markdown",
   "id": "ab7534ae",
   "metadata": {
    "papermill": {
     "duration": 0.008838,
     "end_time": "2022-11-08T18:52:45.426552",
     "exception": false,
     "start_time": "2022-11-08T18:52:45.417714",
     "status": "completed"
    },
    "tags": []
   },
   "source": [
    "should GroupId and Cabin be excluded? They are close to being unique identifyers"
   ]
  },
  {
   "cell_type": "markdown",
   "id": "9f2687cf",
   "metadata": {
    "papermill": {
     "duration": 0.008749,
     "end_time": "2022-11-08T18:52:45.444432",
     "exception": false,
     "start_time": "2022-11-08T18:52:45.435683",
     "status": "completed"
    },
    "tags": []
   },
   "source": [
    "# Models"
   ]
  },
  {
   "cell_type": "code",
   "execution_count": 17,
   "id": "83facfce",
   "metadata": {
    "execution": {
     "iopub.execute_input": "2022-11-08T18:52:45.464845Z",
     "iopub.status.busy": "2022-11-08T18:52:45.463862Z",
     "iopub.status.idle": "2022-11-08T18:52:45.653260Z",
     "shell.execute_reply": "2022-11-08T18:52:45.651494Z"
    },
    "papermill": {
     "duration": 0.203881,
     "end_time": "2022-11-08T18:52:45.657410",
     "exception": false,
     "start_time": "2022-11-08T18:52:45.453529",
     "status": "completed"
    },
    "tags": []
   },
   "outputs": [],
   "source": [
    "from sklearn.compose import ColumnTransformer\n",
    "from sklearn.pipeline import Pipeline\n",
    "from sklearn.impute import SimpleImputer\n",
    "from sklearn.preprocessing import OneHotEncoder\n",
    "from xgboost import XGBClassifier\n",
    "from sklearn.ensemble import RandomForestClassifier\n",
    "from sklearn.metrics import accuracy_score\n",
    "from sklearn.model_selection import GridSearchCV\n",
    "\n",
    "# Identify predictors to be used\n",
    "features = ['HomePlanet', 'CryoSleep', 'Destination', 'Age',\n",
    "            'GroupId', 'MemberId', 'CabinDeck', 'CabinNum',\n",
    "            'CabinSide', 'TotalSpend'] \n",
    "\n",
    "# Separate target from predictors (target has no missing values)\n",
    "y = train_data.Transported\n",
    "X = train_data[features]\n",
    "\n",
    "# select categorical columns\n",
    "categorical_cols = [cname for cname in X.columns if X[cname].dtype == \"object\"]\n",
    "\n",
    "# Select numerical columns\n",
    "numerical_cols = [cname for cname in X.columns if X[cname].dtype in ['int64', 'float64']]\n",
    "\n",
    "\n",
    "# Preprocessing for numerical data\n",
    "numerical_transformer = SimpleImputer(strategy='constant')\n",
    "\n",
    "# Preprocessing for categorical data\n",
    "categorical_transformer = Pipeline(steps=[\n",
    "    ('imputer', SimpleImputer(strategy='most_frequent')),\n",
    "    ('onehot', OneHotEncoder(handle_unknown='ignore'))\n",
    "])\n",
    "\n",
    "# Bundle preprocessing for numerical and categorical data\n",
    "preprocessor = ColumnTransformer(\n",
    "    transformers=[\n",
    "        ('num', numerical_transformer, numerical_cols),\n",
    "        ('cat', categorical_transformer, categorical_cols)\n",
    "    ])\n",
    "\n",
    "# define the xgb model\n",
    "xgb_model = XGBClassifier(n_estimators = 1000)\n",
    "\n",
    "n_est = np.arange(100, 350, step = 100).tolist()\n",
    "learn_rate = np.arange(0.05, 0.2, step = 0.05).tolist()\n",
    "parameters = {'n_estimators': n_est,\n",
    "             'learning_rate': learn_rate}\n",
    "\n",
    "my_xgb_model = GridSearchCV(xgb_model, \n",
    "                            param_grid=parameters,\n",
    "                            scoring='accuracy')\n",
    "\n",
    "\n",
    "# Bundle preprocessing and modeling code in a pipeline for xbg model\n",
    "my_xgb_pipeline = Pipeline(steps=[('preprocessor', preprocessor),\n",
    "                                  ('model', xgb_model)\n",
    "                                 ])"
   ]
  },
  {
   "cell_type": "code",
   "execution_count": 18,
   "id": "ab4f07b2",
   "metadata": {
    "execution": {
     "iopub.execute_input": "2022-11-08T18:52:45.679377Z",
     "iopub.status.busy": "2022-11-08T18:52:45.678827Z",
     "iopub.status.idle": "2022-11-08T18:52:56.912950Z",
     "shell.execute_reply": "2022-11-08T18:52:56.911820Z"
    },
    "papermill": {
     "duration": 11.248327,
     "end_time": "2022-11-08T18:52:56.916454",
     "exception": false,
     "start_time": "2022-11-08T18:52:45.668127",
     "status": "completed"
    },
    "tags": []
   },
   "outputs": [
    {
     "name": "stdout",
     "output_type": "stream",
     "text": [
      "Train Set Accuracy: 0.929\n"
     ]
    }
   ],
   "source": [
    "# Preprocess training data, fit model \n",
    "my_xgb_pipeline.fit(X, y)\n",
    "\n",
    "# get predictions\n",
    "preds = my_xgb_pipeline.predict(X)\n",
    "\n",
    "# Evaluate the model\n",
    "print('Train Set Accuracy: {:.3f}'.format(accuracy_score(y, preds)))"
   ]
  },
  {
   "cell_type": "code",
   "execution_count": 19,
   "id": "94658539",
   "metadata": {
    "execution": {
     "iopub.execute_input": "2022-11-08T18:52:56.939695Z",
     "iopub.status.busy": "2022-11-08T18:52:56.938670Z",
     "iopub.status.idle": "2022-11-08T18:52:56.943358Z",
     "shell.execute_reply": "2022-11-08T18:52:56.942195Z"
    },
    "papermill": {
     "duration": 0.01771,
     "end_time": "2022-11-08T18:52:56.945815",
     "exception": false,
     "start_time": "2022-11-08T18:52:56.928105",
     "status": "completed"
    },
    "tags": []
   },
   "outputs": [],
   "source": [
    "#my_xgb_pipeline['model'].best_params_"
   ]
  },
  {
   "cell_type": "code",
   "execution_count": 20,
   "id": "b6587d75",
   "metadata": {
    "execution": {
     "iopub.execute_input": "2022-11-08T18:52:56.965613Z",
     "iopub.status.busy": "2022-11-08T18:52:56.965239Z",
     "iopub.status.idle": "2022-11-08T18:52:57.135170Z",
     "shell.execute_reply": "2022-11-08T18:52:57.134226Z"
    },
    "papermill": {
     "duration": 0.182877,
     "end_time": "2022-11-08T18:52:57.137787",
     "exception": false,
     "start_time": "2022-11-08T18:52:56.954910",
     "status": "completed"
    },
    "tags": []
   },
   "outputs": [],
   "source": [
    "# make predictions on the test data for submission\n",
    "\n",
    "test_data[['GroupId', 'MemberId']] = test_data['PassengerId'].str.split(\"_\", expand=True)\n",
    "test_data[['CabinDeck', 'CabinNum', 'CabinSide']] = test_data['Cabin'].str.split(\"/\", expand=True)\n",
    "\n",
    "test_data['TotalSpend'] = test_data[['RoomService', 'FoodCourt', 'ShoppingMall', 'Spa', 'VRDeck']].sum(axis=1)\n",
    "\n",
    "X_test = test_data[features]\n",
    "predictions = my_xgb_pipeline.predict(X_test)\n",
    "\n",
    "output = pd.DataFrame({'PassengerId': test_data.PassengerId, 'Transported': predictions})\n",
    "output.to_csv('submission.csv', index=False)"
   ]
  }
 ],
 "metadata": {
  "kernelspec": {
   "display_name": "Python 3",
   "language": "python",
   "name": "python3"
  },
  "language_info": {
   "codemirror_mode": {
    "name": "ipython",
    "version": 3
   },
   "file_extension": ".py",
   "mimetype": "text/x-python",
   "name": "python",
   "nbconvert_exporter": "python",
   "pygments_lexer": "ipython3",
   "version": "3.7.12"
  },
  "papermill": {
   "default_parameters": {},
   "duration": 24.144681,
   "end_time": "2022-11-08T18:52:57.971852",
   "environment_variables": {},
   "exception": null,
   "input_path": "__notebook__.ipynb",
   "output_path": "__notebook__.ipynb",
   "parameters": {},
   "start_time": "2022-11-08T18:52:33.827171",
   "version": "2.3.4"
  }
 },
 "nbformat": 4,
 "nbformat_minor": 5
}
